{
 "cells": [
  {
   "cell_type": "code",
   "execution_count": 26,
   "id": "012c4f7a",
   "metadata": {},
   "outputs": [],
   "source": [
    "%matplotlib inline\n",
    "import os\n",
    "from collections import namedtuple\n",
    "from collections import defaultdict\n",
    "from collections import Counter\n",
    "from datetime import datetime\n",
    "import itertools\n",
    "import base64\n",
    "import glob\n",
    "import json\n",
    "import random\n",
    "import time\n",
    "import imageio\n",
    "import numpy as np\n",
    "import matplotlib\n",
    "import matplotlib.pyplot as plt\n",
    "import shutil\n",
    "from matplotlib.backends.backend_pdf import PdfPages\n",
    "from sklearn.metrics import confusion_matrix\n",
    "import boto3\n",
    "import botocore\n",
    "import sagemaker\n",
    "from urllib.parse import urlparse"
   ]
  },
  {
   "cell_type": "code",
   "execution_count": 27,
   "id": "56121ef3",
   "metadata": {},
   "outputs": [],
   "source": [
    "BUCKET = \"object-detection-smartsolution\"\n",
    "EXP_NAME = \"colleague\""
   ]
  },
  {
   "cell_type": "code",
   "execution_count": 28,
   "id": "79a51b76",
   "metadata": {},
   "outputs": [
    {
     "name": "stdout",
     "output_type": "stream",
     "text": [
      "Completed 38.8 KiB/38.8 KiB (327.2 KiB/s) with 1 file(s) remaining\r",
      "download: s3://object-detection-gt-lalteng/colleague/output/ground-truth-colleague-demo-2021103001/manifests/output/output.manifest to ./output.manifest\r\n"
     ]
    }
   ],
   "source": [
    "# Load the output manifest's annotations.\n",
    "OUTPUT_MANIFEST = \"s3://object-detection-gt-lalteng/colleague/output/ground-truth-colleague-demo-2021103001/manifests/output/output.manifest\"\n",
    "\n",
    "!aws s3 cp {OUTPUT_MANIFEST} 'output.manifest'\n",
    "\n",
    "with open(\"output.manifest\", \"r\") as f:\n",
    "    output = [json.loads(line.strip()) for line in f.readlines()]"
   ]
  },
  {
   "cell_type": "markdown",
   "id": "88429a31",
   "metadata": {},
   "source": [
    "# Train an object detection model using Ground Truth labels"
   ]
  },
  {
   "cell_type": "code",
   "execution_count": 29,
   "id": "415524c4",
   "metadata": {},
   "outputs": [],
   "source": [
    "with open(\"output.manifest\", \"r\") as f:\n",
    "    output = [json.loads(line) for line in f.readlines()]\n",
    "\n",
    "# Shuffle output in place.\n",
    "np.random.shuffle(output)\n",
    "\n",
    "dataset_size = len(output)\n",
    "train_test_split_index = round(dataset_size * 0.8)\n",
    "\n",
    "train_data = output[:train_test_split_index]\n",
    "validation_data = output[train_test_split_index:]\n",
    "\n",
    "num_training_samples = 0\n",
    "with open(\"train.manifest\", \"w\") as f:\n",
    "    for line in train_data:\n",
    "        f.write(json.dumps(line))\n",
    "        f.write(\"\\n\")\n",
    "        num_training_samples += 1\n",
    "\n",
    "with open(\"validation.manifest\", \"w\") as f:\n",
    "    for line in validation_data:\n",
    "        f.write(json.dumps(line))\n",
    "        f.write(\"\\n\")"
   ]
  },
  {
   "cell_type": "code",
   "execution_count": 30,
   "id": "d9dab08e",
   "metadata": {},
   "outputs": [
    {
     "name": "stdout",
     "output_type": "stream",
     "text": [
      "upload: ./train.manifest to s3://object-detection-smartsolution/colleague/train.manifest\n",
      "upload: ./validation.manifest to s3://object-detection-smartsolution/colleague/validation.manifest\n"
     ]
    }
   ],
   "source": [
    "!aws s3 cp train.manifest s3://{BUCKET}/{EXP_NAME}/train.manifest\n",
    "!aws s3 cp validation.manifest s3://{BUCKET}/{EXP_NAME}/validation.manifest"
   ]
  },
  {
   "cell_type": "code",
   "execution_count": 31,
   "id": "f0c867be",
   "metadata": {},
   "outputs": [
    {
     "name": "stderr",
     "output_type": "stream",
     "text": [
      "The method get_image_uri has been renamed in sagemaker>=2.\n",
      "See: https://sagemaker.readthedocs.io/en/stable/v2.html for details.\n",
      "Defaulting to the only supported framework/algorithm version: 1. Ignoring framework/algorithm version: latest.\n"
     ]
    },
    {
     "name": "stdout",
     "output_type": "stream",
     "text": [
      "811284229777.dkr.ecr.us-east-1.amazonaws.com/object-detection:1\n"
     ]
    }
   ],
   "source": [
    "import re\n",
    "from sagemaker import get_execution_role\n",
    "from time import gmtime, strftime\n",
    "\n",
    "role = get_execution_role()\n",
    "sess = sagemaker.Session()\n",
    "s3 = boto3.resource(\"s3\")\n",
    "\n",
    "#取得object detection image uri\n",
    "training_image = sagemaker.amazon.amazon_estimator.get_image_uri(\n",
    "    boto3.Session().region_name, \"object-detection\", repo_version=\"latest\"\n",
    ")\n",
    "print(training_image)\n",
    "augmented_manifest_filename_train = \"train.manifest\"\n",
    "augmented_manifest_filename_validation = \"validation.manifest\"\n",
    "bucket_name = BUCKET\n",
    "s3_prefix = EXP_NAME\n",
    "s3_output_path = \"s3://{}/{}/trainingjob/colleague-augmented-manifest-output\".format(\n",
    "    bucket_name,s3_prefix\n",
    ")  # Replace with your desired output directory."
   ]
  },
  {
   "cell_type": "code",
   "execution_count": 32,
   "id": "b9dfa618",
   "metadata": {},
   "outputs": [
    {
     "name": "stdout",
     "output_type": "stream",
     "text": [
      "Augmented manifest for training data: s3://object-detection-smartsolution/colleague/train.manifest\n",
      "Augmented manifest for validation data: s3://object-detection-smartsolution/colleague/validation.manifest\n"
     ]
    }
   ],
   "source": [
    "# Defines paths for use in the training job request.\n",
    "s3_train_data_path = \"s3://{}/{}/{}\".format(\n",
    "    bucket_name, s3_prefix, augmented_manifest_filename_train\n",
    ")\n",
    "s3_validation_data_path = \"s3://{}/{}/{}\".format(\n",
    "    bucket_name, s3_prefix, augmented_manifest_filename_validation\n",
    ")\n",
    "\n",
    "print(\"Augmented manifest for training data: {}\".format(s3_train_data_path))\n",
    "print(\"Augmented manifest for validation data: {}\".format(s3_validation_data_path))"
   ]
  },
  {
   "cell_type": "code",
   "execution_count": 33,
   "id": "6ff38c24",
   "metadata": {},
   "outputs": [],
   "source": [
    "augmented_manifest_s3_key = s3_train_data_path.split(bucket_name)[1][1:]\n",
    "s3_obj = s3.Object(bucket_name, augmented_manifest_s3_key)\n",
    "augmented_manifest = s3_obj.get()[\"Body\"].read().decode(\"utf-8\")\n",
    "augmented_manifest_lines = augmented_manifest.split(\"\\n\")\n",
    "num_training_samples = len(\n",
    "    augmented_manifest_lines\n",
    ")  # Compute number of training samples for use in training job request.\n",
    "# Determine the keys in the training manifest and exclude the meta data from the labling job.\n",
    "attribute_names = list(json.loads(augmented_manifest_lines[0]).keys())\n",
    "attribute_names = [attrib for attrib in attribute_names if \"meta\" not in attrib]"
   ]
  },
  {
   "cell_type": "code",
   "execution_count": 34,
   "id": "546a3b55",
   "metadata": {},
   "outputs": [
    {
     "name": "stdout",
     "output_type": "stream",
     "text": [
      "Training job name: smartsolution-demo-vgg16-512-2021-11-16-05-31-46\n",
      "\n",
      "Input Data Location: {'S3DataType': 'AugmentedManifestFile', 'S3Uri': 's3://object-detection-smartsolution/colleague/train.manifest', 'S3DataDistributionType': 'FullyReplicated', 'AttributeNames': ['source-ref', 'ground-truth-colleague-demo-2021103001']}\n"
     ]
    }
   ],
   "source": [
    "# Create unique job name\n",
    "job_name_prefix = \"smartsolution-demo-vgg16-512\"\n",
    "timestamp = time.strftime(\"-%Y-%m-%d-%H-%M-%S\", time.gmtime())\n",
    "model_job_name = job_name_prefix + timestamp\n",
    "\n",
    "training_params = {\n",
    "    \"AlgorithmSpecification\": {\n",
    "        # NB. This is one of the named constants defined in the first cell.\n",
    "        \"TrainingImage\": training_image,\n",
    "        \"TrainingInputMode\": \"Pipe\",\n",
    "    },\n",
    "    \"RoleArn\": role,\n",
    "    \"OutputDataConfig\": {\"S3OutputPath\": s3_output_path},\n",
    "    \"ResourceConfig\": {\"InstanceCount\": 1, \"InstanceType\": \"ml.p3.16xlarge\", \"VolumeSizeInGB\": 50},\n",
    "    \"TrainingJobName\": model_job_name,\n",
    "    \"HyperParameters\": {  # NB. These hyperparameters are at the user's discretion and are beyond the scope of this demo.\n",
    "        \"base_network\": \"vgg-16\",#['resnet-50']\n",
    "        \"use_pretrained_model\": \"1\",\n",
    "        \"num_classes\": \"8\",\n",
    "        \"mini_batch_size\": \"8\",\n",
    "        #\"epochs\": \"5\",\n",
    "        \"epochs\": \"100\",\n",
    "        \"learning_rate\": \"0.001\",\n",
    "        \"lr_scheduler_step\": \"\",\n",
    "        \"lr_scheduler_factor\": \"0.1\",\n",
    "        \"optimizer\": \"sgd\", #['sgd', 'adam', 'rmsprop', 'adadelta']\n",
    "        \"momentum\": \"0.9\",\n",
    "        \"weight_decay\": \"0.0005\",\n",
    "        \"overlap_threshold\": \"0.5\",\n",
    "        \"nms_threshold\": \"0.45\",\n",
    "        \"image_shape\": \"512\",#300\n",
    "        \"label_width\": \"350\",\n",
    "        \"num_training_samples\": str(num_training_samples),\n",
    "    },\n",
    "    \"StoppingCondition\": {\n",
    "        #\"MaxWaitTimeInSeconds\": 86400,\n",
    "        \"MaxRuntimeInSeconds\": 86400\n",
    "    },\n",
    "    \"InputDataConfig\": [\n",
    "        {\n",
    "            \"ChannelName\": \"train\",\n",
    "            \"DataSource\": {\n",
    "                \"S3DataSource\": {\n",
    "                    \"S3DataType\": \"AugmentedManifestFile\",  # NB. Augmented Manifest\n",
    "                    \"S3Uri\": s3_train_data_path,\n",
    "                    \"S3DataDistributionType\": \"FullyReplicated\",\n",
    "                    # NB. This must correspond to the JSON field names in your augmented manifest.\n",
    "                    \"AttributeNames\": attribute_names,\n",
    "                }\n",
    "            },\n",
    "            \"ContentType\": \"application/x-recordio\",\n",
    "            \"RecordWrapperType\": \"RecordIO\",\n",
    "            \"CompressionType\": \"None\",\n",
    "        },\n",
    "        {\n",
    "            \"ChannelName\": \"validation\",\n",
    "            \"DataSource\": {\n",
    "                \"S3DataSource\": {\n",
    "                    \"S3DataType\": \"AugmentedManifestFile\",  # NB. Augmented Manifest\n",
    "                    \"S3Uri\": s3_validation_data_path,\n",
    "                    \"S3DataDistributionType\": \"FullyReplicated\",\n",
    "                    # NB. This must correspond to the JSON field names in your augmented manifest.\n",
    "                    \"AttributeNames\": attribute_names,\n",
    "                }\n",
    "            },\n",
    "            \"ContentType\": \"application/x-recordio\",\n",
    "            \"RecordWrapperType\": \"RecordIO\",\n",
    "            \"CompressionType\": \"None\",\n",
    "        },\n",
    "    ]#,\n",
    "    #\"EnableManagedSpotTraining\": True #demo 拿掉\n",
    "}\n",
    "\n",
    "print(\"Training job name: {}\".format(model_job_name))\n",
    "print(\n",
    "    \"\\nInput Data Location: {}\".format(\n",
    "        training_params[\"InputDataConfig\"][0][\"DataSource\"][\"S3DataSource\"]\n",
    "    )\n",
    ")"
   ]
  },
  {
   "cell_type": "code",
   "execution_count": 35,
   "id": "480e78dd",
   "metadata": {},
   "outputs": [
    {
     "name": "stdout",
     "output_type": "stream",
     "text": [
      "Training job current status: InProgress\n"
     ]
    }
   ],
   "source": [
    "client = boto3.client(service_name=\"sagemaker\")\n",
    "client.create_training_job(**training_params)\n",
    "\n",
    "# Confirm that the training job has started\n",
    "status = client.describe_training_job(TrainingJobName=model_job_name)[\"TrainingJobStatus\"]\n",
    "print(\"Training job current status: {}\".format(status))"
   ]
  },
  {
   "cell_type": "code",
   "execution_count": 36,
   "id": "6d3ac3a6",
   "metadata": {},
   "outputs": [
    {
     "name": "stdout",
     "output_type": "stream",
     "text": [
      "Training job status:  InProgress\n",
      "Secondary status:  Starting\n"
     ]
    }
   ],
   "source": [
    "client = boto3.client(service_name=\"sagemaker\")\n",
    "print(\n",
    "    \"Training job status: \",\n",
    "    client.describe_training_job(TrainingJobName=model_job_name)[\"TrainingJobStatus\"],\n",
    ")\n",
    "print(\n",
    "    \"Secondary status: \",\n",
    "    client.describe_training_job(TrainingJobName=model_job_name)[\"SecondaryStatus\"],\n",
    ")"
   ]
  },
  {
   "cell_type": "code",
   "execution_count": 37,
   "id": "0619d9fd",
   "metadata": {},
   "outputs": [],
   "source": [
    "client = boto3.client(service_name=\"sagemaker\")\n",
    "model_job_name = 'ground-truthod-demo-colleague-vgg16-512-2021-10-30-09-44-32'"
   ]
  },
  {
   "cell_type": "code",
   "execution_count": 38,
   "id": "2d15b1c2",
   "metadata": {},
   "outputs": [],
   "source": [
    "training_info = client.describe_training_job(TrainingJobName=model_job_name)"
   ]
  },
  {
   "cell_type": "markdown",
   "id": "5b73bdfd",
   "metadata": {},
   "source": [
    "## Create Model"
   ]
  },
  {
   "cell_type": "code",
   "execution_count": 39,
   "id": "6642b985",
   "metadata": {},
   "outputs": [
    {
     "name": "stdout",
     "output_type": "stream",
     "text": [
      "smartsolution-demo-vgg16-model-2021-11-16-05-35-20\n",
      "s3://object-detection-gt-lalteng/groundtruth-od-colleague-vgg16-augmented-manifest-output/ground-truthod-demo-colleague-vgg16-512-2021-10-30-09-44-32/output/model.tar.gz\n",
      "arn:aws:sagemaker:us-east-1:241082659383:model/smartsolution-demo-vgg16-model-2021-11-16-05-35-20\n"
     ]
    }
   ],
   "source": [
    "sagemaker_client =  boto3.client('sagemaker')\n",
    "timestamp = time.strftime(\"-%Y-%m-%d-%H-%M-%S\", time.gmtime())\n",
    "model_name = \"smartsolution-demo-vgg16-model\" + timestamp\n",
    "print(model_name)\n",
    "model_data = training_info[\"ModelArtifacts\"][\"S3ModelArtifacts\"]\n",
    "print(model_data)\n",
    "\n",
    "primary_container = {\n",
    "    \"Image\": training_image,\n",
    "    \"ModelDataUrl\": model_data\n",
    "}\n",
    "\n",
    "create_model_response = sagemaker_client.create_model(\n",
    "    ModelName=model_name, ExecutionRoleArn=role, PrimaryContainer=primary_container\n",
    ")\n",
    "\n",
    "print(create_model_response[\"ModelArn\"])"
   ]
  },
  {
   "cell_type": "markdown",
   "id": "b550f0f0",
   "metadata": {},
   "source": [
    "### Create Endpoint Configuration"
   ]
  },
  {
   "cell_type": "code",
   "execution_count": 40,
   "id": "53eba267",
   "metadata": {},
   "outputs": [
    {
     "name": "stdout",
     "output_type": "stream",
     "text": [
      "Endpoint configuration name: smartsolution-demo-vgg16-512-epc-2021-11-16-05-36-06\n",
      "Endpoint configuration arn:  arn:aws:sagemaker:us-east-1:241082659383:endpoint-config/smartsolution-demo-vgg16-512-epc-2021-11-16-05-36-06\n"
     ]
    }
   ],
   "source": [
    "timestamp = time.strftime(\"-%Y-%m-%d-%H-%M-%S\", time.gmtime())\n",
    "endpoint_config_name = job_name_prefix + \"-epc\" + timestamp\n",
    "endpoint_config_response = sagemaker_client.create_endpoint_config(\n",
    "    EndpointConfigName=endpoint_config_name,\n",
    "    ProductionVariants=[\n",
    "        {\n",
    "            \"InstanceType\": \"ml.m5.xlarge\",\n",
    "            \"InitialInstanceCount\": 1,\n",
    "            \"ModelName\": model_name,\n",
    "            \"VariantName\": \"AllTraffic\",\n",
    "        }\n",
    "    ],\n",
    ")\n",
    "\n",
    "print(\"Endpoint configuration name: {}\".format(endpoint_config_name))\n",
    "print(\"Endpoint configuration arn:  {}\".format(endpoint_config_response[\"EndpointConfigArn\"]))"
   ]
  },
  {
   "cell_type": "markdown",
   "id": "394c5e3c",
   "metadata": {},
   "source": [
    "### Create Endpoint"
   ]
  },
  {
   "cell_type": "code",
   "execution_count": 41,
   "id": "0baff654",
   "metadata": {},
   "outputs": [
    {
     "name": "stdout",
     "output_type": "stream",
     "text": [
      "Endpoint name: smartsolution-demo-vgg16-512-ep-2021-11-16-05-36-23\n",
      "EndpointArn = arn:aws:sagemaker:us-east-1:241082659383:endpoint/smartsolution-demo-vgg16-512-ep-2021-11-16-05-36-23\n",
      "EndpointStatus = Creating\n",
      "Endpoint creation ended with EndpointStatus = InService\n"
     ]
    }
   ],
   "source": [
    "timestamp = time.strftime(\"-%Y-%m-%d-%H-%M-%S\", time.gmtime())\n",
    "endpoint_name = job_name_prefix + \"-ep\" + timestamp\n",
    "print(\"Endpoint name: {}\".format(endpoint_name))\n",
    "\n",
    "endpoint_params = {\n",
    "    \"EndpointName\": endpoint_name,\n",
    "    \"EndpointConfigName\": endpoint_config_name,\n",
    "}\n",
    "endpoint_response = sagemaker_client.create_endpoint(**endpoint_params)\n",
    "print(\"EndpointArn = {}\".format(endpoint_response[\"EndpointArn\"]))\n",
    "\n",
    "# get the status of the endpoint\n",
    "response = sagemaker_client.describe_endpoint(EndpointName=endpoint_name)\n",
    "status = response[\"EndpointStatus\"]\n",
    "print(\"EndpointStatus = {}\".format(status))\n",
    "\n",
    "# wait until the status has changed\n",
    "sagemaker_client.get_waiter(\"endpoint_in_service\").wait(EndpointName=endpoint_name)\n",
    "\n",
    "# print the status of the endpoint\n",
    "endpoint_response = sagemaker_client.describe_endpoint(EndpointName=endpoint_name)\n",
    "status = endpoint_response[\"EndpointStatus\"]\n",
    "print(\"Endpoint creation ended with EndpointStatus = {}\".format(status))\n",
    "\n",
    "if status != \"InService\":\n",
    "    raise Exception(\"Endpoint creation failed.\")"
   ]
  },
  {
   "cell_type": "markdown",
   "id": "544302bb",
   "metadata": {},
   "source": [
    "### Perform inference"
   ]
  },
  {
   "cell_type": "code",
   "execution_count": null,
   "id": "5495cc8d",
   "metadata": {},
   "outputs": [],
   "source": [
    "#smartsolution-demo-vgg16-512-epc-2021-11-07-14-18-19\n",
    "#endpoint_name='demo'"
   ]
  },
  {
   "cell_type": "code",
   "execution_count": 46,
   "id": "beadb8d3",
   "metadata": {},
   "outputs": [],
   "source": [
    "test_image = 'test/14465735511528.jpg'\n",
    "#test_image = 'test/IMG_0645.jpg'\n",
    "#test_image = 'test/IMG_4794.jpg'\n",
    "#test_image = 'test/line_637535308359381.jpg'\n",
    "#test_image = 'test/IMG_2573.jpg'"
   ]
  },
  {
   "cell_type": "code",
   "execution_count": 47,
   "id": "3cde653d",
   "metadata": {},
   "outputs": [
    {
     "name": "stdout",
     "output_type": "stream",
     "text": [
      "[[7.0, 0.4116705060005188, 0.5434333086013794, 0.33768731355667114, 0.6933244466781616, 0.5618789792060852]]\n"
     ]
    }
   ],
   "source": [
    "with open(test_image, \"rb\") as f:\n",
    "    payload = f.read()\n",
    "    payload = bytearray(payload)\n",
    "\n",
    "client = boto3.client(\"sagemaker-runtime\")\n",
    "response = client.invoke_endpoint(\n",
    "    EndpointName=endpoint_name, ContentType=\"application/x-image\", Body=payload\n",
    ")\n",
    "\n",
    "result = response[\"Body\"].read()\n",
    "result = json.loads(result)\n",
    "\n",
    "predictions = [prediction for prediction in result[\"prediction\"] if prediction[1] > 0.3]\n",
    "print(predictions)"
   ]
  },
  {
   "cell_type": "code",
   "execution_count": 48,
   "id": "f98d9724",
   "metadata": {},
   "outputs": [],
   "source": [
    "from ground_truth_od import BoundingBox, WorkerBoundingBox, GroundTruthBox, BoxedImage\n",
    "\n",
    "def make_predicted_image(predictions, img_id, uri):\n",
    "    \"\"\"Maked a BoxedImage object with output of batch/realtime prediction.\n",
    "\n",
    "    Args:\n",
    "      predictions: list, output of get_predictions.\n",
    "      uri: str, s3 uri of input image.\n",
    "\n",
    "    Returns:\n",
    "      BoxedImage object with predicted bounding boxes.\n",
    "    \"\"\"\n",
    "    img = BoxedImage(id=img_id, uri=uri)\n",
    "    img.download(\"test\")\n",
    "    imread_img = img.imread()\n",
    "    imh, imw, *_ = imread_img.shape\n",
    "    \n",
    "    # Create boxes.\n",
    "    for batch_data in predictions:\n",
    "        class_id, confidence, xmin, ymin, xmax, ymax = batch_data\n",
    "        boxdata = {\n",
    "            \"class_id\": class_id,\n",
    "            \"height\": (ymax - ymin) * imh,\n",
    "            \"width\": (xmax - xmin) * imw,\n",
    "            \"left\": xmin * imw,\n",
    "            \"top\": ymin * imh,\n",
    "        }\n",
    "        box = BoundingBox(boxdata=boxdata, image_id=img.id)\n",
    "        img.consolidated_boxes.append(box)\n",
    "\n",
    "    return img"
   ]
  },
  {
   "cell_type": "code",
   "execution_count": 49,
   "id": "7e4269f2",
   "metadata": {},
   "outputs": [
    {
     "data": {
      "image/png": "[encoded data removed]",
      "text/plain": [
       "<Figure size 432x288 with 1 Axes>"
      ]
     },
     "metadata": {
      "needs_background": "light"
     },
     "output_type": "display_data"
    }
   ],
   "source": [
    "realtime_uri = test_image\n",
    "realtime_img = make_predicted_image(predictions, \"RealtimeTest\", realtime_uri)\n",
    "\n",
    "# Plot the realtime prediction.\n",
    "fig, ax = plt.subplots()\n",
    "realtime_img.download(\"test\")\n",
    "realtime_img.plot_consolidated_bbs(ax)"
   ]
  },
  {
   "cell_type": "markdown",
   "id": "303710f2",
   "metadata": {},
   "source": [
    "### Clean up"
   ]
  },
  {
   "cell_type": "code",
   "execution_count": 25,
   "id": "92d1e188",
   "metadata": {},
   "outputs": [
    {
     "data": {
      "text/plain": [
       "{'ResponseMetadata': {'RequestId': '8a538430-cfb8-453f-8657-c23e951c01be',\n",
       "  'HTTPStatusCode': 200,\n",
       "  'HTTPHeaders': {'x-amzn-requestid': '8a538430-cfb8-453f-8657-c23e951c01be',\n",
       "   'content-type': 'application/x-amz-json-1.1',\n",
       "   'content-length': '0',\n",
       "   'date': 'Tue, 16 Nov 2021 01:10:32 GMT'},\n",
       "  'RetryAttempts': 0}}"
      ]
     },
     "execution_count": 25,
     "metadata": {},
     "output_type": "execute_result"
    }
   ],
   "source": [
    "boto3.client(service_name=\"sagemaker\").delete_endpoint(EndpointName=endpoint_name)"
   ]
  },
  {
   "cell_type": "code",
   "execution_count": null,
   "id": "44998c4d",
   "metadata": {},
   "outputs": [],
   "source": []
  }
 ],
 "metadata": {
  "kernelspec": {
   "display_name": "conda_python3",
   "language": "python",
   "name": "conda_python3"
  },
  "language_info": {
   "codemirror_mode": {
    "name": "ipython",
    "version": 3
   },
   "file_extension": ".py",
   "mimetype": "text/x-python",
   "name": "python",
   "nbconvert_exporter": "python",
   "pygments_lexer": "ipython3",
   "version": "3.6.13"
  }
 },
 "nbformat": 4,
 "nbformat_minor": 5
}
