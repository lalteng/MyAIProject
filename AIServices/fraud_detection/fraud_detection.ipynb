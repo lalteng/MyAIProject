{
 "cells": [
  {
   "cell_type": "code",
   "execution_count": 1,
   "metadata": {},
   "outputs": [],
   "source": [
    "import boto3"
   ]
  },
  {
   "cell_type": "code",
   "execution_count": 2,
   "metadata": {},
   "outputs": [],
   "source": [
    "fraudDetector = boto3.client('frauddetector')"
   ]
  },
  {
   "cell_type": "code",
   "execution_count": 4,
   "metadata": {},
   "outputs": [
    {
     "data": {
      "text/plain": [
       "{'modelScores': [{'modelVersion': {'modelId': 'new_customer_egistration',\n",
       "    'modelType': 'ONLINE_FRAUD_INSIGHTS',\n",
       "    'modelVersionNumber': '1.0'},\n",
       "   'scores': {'new_customer_egistration_insightscore': 894.0}}],\n",
       " 'ruleResults': [{'ruleId': 'high_score', 'outcomes': ['verify_customer']}],\n",
       " 'ResponseMetadata': {'RequestId': 'a024edea-e42b-46c7-bbcb-b6c9e661b5e1',\n",
       "  'HTTPStatusCode': 200,\n",
       "  'HTTPHeaders': {'date': 'Wed, 25 Nov 2020 07:28:00 GMT',\n",
       "   'content-type': 'application/x-amz-json-1.1',\n",
       "   'content-length': '264',\n",
       "   'connection': 'keep-alive',\n",
       "   'x-amzn-requestid': 'a024edea-e42b-46c7-bbcb-b6c9e661b5e1'},\n",
       "  'RetryAttempts': 0}}"
      ]
     },
     "execution_count": 4,
     "metadata": {},
     "output_type": "execute_result"
    }
   ],
   "source": [
    "fraudDetector.get_event_prediction(\n",
    "detectorId = 'account-registration-20201125',\n",
    "eventId = '802454d3-f7d8-482d-97e8-c4b6db9a0428',\n",
    "eventTypeName = 'new-customer-registration',\n",
    "eventTimestamp = '2020-07-13T23:18:21Z',\n",
    "entities = [{'entityType':'customer', 'entityId':'12345'}],\n",
    "eventVariables = {\n",
    "    'email_address' : 'fake_lclayton@example.net',\n",
    "    'ip_address' : '199.226.252.212'\n",
    "}\n",
    ")"
   ]
  },
  {
   "cell_type": "code",
   "execution_count": null,
   "metadata": {},
   "outputs": [],
   "source": []
  }
 ],
 "metadata": {
  "kernelspec": {
   "display_name": "conda_python3",
   "language": "python",
   "name": "conda_python3"
  },
  "language_info": {
   "codemirror_mode": {
    "name": "ipython",
    "version": 3
   },
   "file_extension": ".py",
   "mimetype": "text/x-python",
   "name": "python",
   "nbconvert_exporter": "python",
   "pygments_lexer": "ipython3",
   "version": "3.6.13"
  }
 },
 "nbformat": 4,
 "nbformat_minor": 4
}
