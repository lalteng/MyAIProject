{
 "cells": [
  {
   "cell_type": "markdown",
   "id": "cosmetic-writer",
   "metadata": {},
   "source": [
    "### Notebook: Analyzing Student Data\n",
    "Now, we're ready to put neural networks in practice. We'll analyze a dataset of student admissions at UCLA.\n",
    "\n",
    "To open this notebook, you have two options:\n",
    "\n",
    "- Go to the next page in the classroom (recommended).\n",
    "- Clone the repo from Github and open the notebook StudentAdmissions.ipynb in the intro-neural-networks > student_admissions folder. You can either download the repository with git clone https://github.com/udacity/deep-learning-v2-pytorch.git, or download it as an archive file from this link.\n",
    "\n",
    "### Instructions\n",
    "In this notebook, you'll be implementing some of the steps in the training of the neural network, namely:\n",
    "\n",
    "- One-hot encoding the data\n",
    "- Scaling the data\n",
    "- Writing the backpropagation step\n",
    "\n",
    "This is a self-assessed lab. If you need any help or want to check your answers, feel free to check out the solutions notebook in the same folder, or by clicking here."
   ]
  },
  {
   "cell_type": "code",
   "execution_count": null,
   "id": "approximate-custody",
   "metadata": {},
   "outputs": [],
   "source": []
  }
 ],
 "metadata": {
  "kernelspec": {
   "display_name": "conda_python3",
   "language": "python",
   "name": "conda_python3"
  },
  "language_info": {
   "codemirror_mode": {
    "name": "ipython",
    "version": 3
   },
   "file_extension": ".py",
   "mimetype": "text/x-python",
   "name": "python",
   "nbconvert_exporter": "python",
   "pygments_lexer": "ipython3",
   "version": "3.6.13"
  }
 },
 "nbformat": 4,
 "nbformat_minor": 5
}
