{
 "cells": [
  {
   "cell_type": "markdown",
   "metadata": {},
   "source": [
    "# An Introduction to SageMaker Random Cut Forests\n",
    "\n",
    "***Unsupervised anomaly detection on timeseries data a Random Cut Forest algorithm.***\n",
    "\n",
    "---\n",
    "\n",
    "1. [Introduction](#Introduction)\n",
    "1. [Setup](#Setup)\n",
    "1. [Training](#Training)\n",
    "1. [Inference](#Inference)\n",
    "1. [Epilogue](#Epilogue)"
   ]
  },
  {
   "cell_type": "markdown",
   "metadata": {},
   "source": [
    "# Introduction\n",
    "***\n",
    "\n",
    "Amazon SageMaker Random Cut Forest (RCF) is an algorithm designed to detect anomalous data points within a dataset. Examples of when anomalies are important to detect include when website activity uncharactersitically spikes, when temperature data diverges from a periodic behavior, or when changes to public transit ridership reflect the occurrence of a special event.\n",
    "\n",
    "In this notebook, we will use the SageMaker RCF algorithm to train an RCF model on the Numenta Anomaly Benchmark (NAB) NYC Taxi dataset which records the amount New York City taxi ridership over the course of six months. We will then use this model to predict anomalous events by emitting an \"anomaly score\" for each data point. The main goals of this notebook are,\n",
    "\n",
    "* to learn how to obtain, transform, and store data for use in Amazon SageMaker;\n",
    "* to create an AWS SageMaker training job on a data set to produce an RCF model,\n",
    "* use the RCF model to perform inference with an Amazon SageMaker endpoint.\n",
    "\n",
    "The following are ***not*** goals of this notebook:\n",
    "\n",
    "* deeply understand the RCF model,\n",
    "* understand how the Amazon SageMaker RCF algorithm works.\n",
    "\n",
    "If you would like to know more please check out the [SageMaker RCF Documentation](https://docs.aws.amazon.com/sagemaker/latest/dg/randomcutforest.html)."
   ]
  },
  {
   "cell_type": "markdown",
   "metadata": {},
   "source": [
    "# Setup\n",
    "\n",
    "***\n",
    "\n",
    "*This notebook was tested in Amazon SageMaker Studio on a ml.t3.medium instance with Python 3 (Data Science) kernel.*\n",
    "\n",
    "Our first step is to setup our AWS credentials so that AWS SageMaker can store and access training data and model artifacts. We also need some data to inspect and to train upon."
   ]
  },
  {
   "cell_type": "markdown",
   "metadata": {},
   "source": [
    "## Select Amazon S3 Bucket\n",
    "\n",
    "We first need to specify the locations where the original data is stored and where we will store our training data and trained model artifacts. ***This is the only cell of this notebook that you will need to edit.*** In particular, we need the following data:\n",
    "\n",
    "* `bucket` - An S3 bucket accessible by this account.\n",
    "* `prefix` - The location in the bucket where this notebook's input and output data will be stored. (The default value is sufficient.)\n",
    "* `downloaded_data_bucket` - An S3 bucket where data is downloaded from this [link](https://raw.githubusercontent.com/numenta/NAB/master/data/realKnownCause/nyc_taxi.csv) and stored.\n",
    "* `downloaded_data_prefix` - The location in the bucket where the data is stored."
   ]
  },
  {
   "cell_type": "code",
   "execution_count": 2,
   "metadata": {
    "isConfigCell": true,
    "tags": [
     "parameters"
    ]
   },
   "outputs": [
    {
     "name": "stdout",
     "output_type": "stream",
     "text": [
      "Training input/output will be stored in: s3://sagemaker-us-east-1-241082659383/sagemaker/rcf-temperature\n",
      "Downloaded training data will be read from s3://sagemaker-sample-files/datasets/tabular/anomaly_benchmark_taxi\n"
     ]
    }
   ],
   "source": [
    "import boto3\n",
    "import botocore\n",
    "import sagemaker\n",
    "import sys\n",
    "\n",
    "\n",
    "bucket = (\n",
    "    sagemaker.Session().default_bucket()\n",
    ")  # Feel free to change to another bucket you have access to\n",
    "prefix = \"sagemaker/rcf-temperature\"\n",
    "execution_role = sagemaker.get_execution_role()\n",
    "region = boto3.Session().region_name\n",
    "\n",
    "# S3 bucket where the original data is downloaded and stored.\n",
    "downloaded_data_bucket = f\"sagemaker-sample-files\"\n",
    "downloaded_data_prefix = \"datasets/tabular/anomaly_benchmark_taxi\"\n",
    "\n",
    "\n",
    "def check_bucket_permission(bucket):\n",
    "    # check if the bucket exists\n",
    "    permission = False\n",
    "    try:\n",
    "        boto3.Session().client(\"s3\").head_bucket(Bucket=bucket)\n",
    "    except botocore.exceptions.ParamValidationError as e:\n",
    "        print(\n",
    "            \"Hey! You either forgot to specify your S3 bucket\"\n",
    "            \" or you gave your bucket an invalid name!\"\n",
    "        )\n",
    "    except botocore.exceptions.ClientError as e:\n",
    "        if e.response[\"Error\"][\"Code\"] == \"403\":\n",
    "            print(f\"Hey! You don't have permission to access the bucket, {bucket}.\")\n",
    "        elif e.response[\"Error\"][\"Code\"] == \"404\":\n",
    "            print(f\"Hey! Your bucket, {bucket}, doesn't exist!\")\n",
    "        else:\n",
    "            raise\n",
    "    else:\n",
    "        permission = True\n",
    "    return permission\n",
    "\n",
    "\n",
    "if check_bucket_permission(bucket):\n",
    "    print(f\"Training input/output will be stored in: s3://{bucket}/{prefix}\")\n",
    "if check_bucket_permission(downloaded_data_bucket):\n",
    "    print(\n",
    "        f\"Downloaded training data will be read from s3://{downloaded_data_bucket}/{downloaded_data_prefix}\"\n",
    "    )"
   ]
  },
  {
   "cell_type": "markdown",
   "metadata": {},
   "source": [
    "## Obtain and Inspect Example Data\n",
    "\n",
    "\n",
    "Our data comes from the Numenta Anomaly Benchmark (NAB) NYC Taxi dataset [[1](https://github.com/numenta/NAB/blob/master/data/realKnownCause/nyc_taxi.csv)]. We downloaded data from [here](https://raw.githubusercontent.com/numenta/NAB/master/data/realKnownCause/nyc_taxi.csv) and stored in an S3 bucket. These data consists of the number of New York City taxi passengers over the course of six months aggregated into 30-minute buckets. We know, a priori, that there are anomalous events occurring during the NYC marathon, Thanksgiving, Christmas, New Year's day, and on the day of a snow storm.\n",
    "\n",
    "> [1] https://github.com/numenta/NAB/blob/master/data/realKnownCause/nyc_taxi.csv"
   ]
  },
  {
   "cell_type": "code",
   "execution_count": 3,
   "metadata": {},
   "outputs": [
    {
     "name": "stdout",
     "output_type": "stream",
     "text": [
      "CPU times: user 105 ms, sys: 0 ns, total: 105 ms\n",
      "Wall time: 242 ms\n"
     ]
    }
   ],
   "source": [
    "%%time\n",
    "\n",
    "import pandas as pd\n",
    "\n",
    "#data_filename = \"ambient_temperature_system_failure.csv\"\n",
    "data_filename = \"temperature.csv\"\n",
    "s3 = boto3.client(\"s3\")\n",
    "\n",
    "taxi_data = pd.read_csv(data_filename, delimiter=\",\")"
   ]
  },
  {
   "cell_type": "markdown",
   "metadata": {},
   "source": [
    "Before training any models it is important to inspect our data, first. Perhaps there are some underlying patterns or structures that we could provide as \"hints\" to the model or maybe there is some noise that we could pre-process away. The raw data looks like this:"
   ]
  },
  {
   "cell_type": "code",
   "execution_count": 91,
   "metadata": {},
   "outputs": [
    {
     "data": {
      "text/html": [
       "<div>\n",
       "<style scoped>\n",
       "    .dataframe tbody tr th:only-of-type {\n",
       "        vertical-align: middle;\n",
       "    }\n",
       "\n",
       "    .dataframe tbody tr th {\n",
       "        vertical-align: top;\n",
       "    }\n",
       "\n",
       "    .dataframe thead th {\n",
       "        text-align: right;\n",
       "    }\n",
       "</style>\n",
       "<table border=\"1\" class=\"dataframe\">\n",
       "  <thead>\n",
       "    <tr style=\"text-align: right;\">\n",
       "      <th></th>\n",
       "      <th>timestamp</th>\n",
       "      <th>value</th>\n",
       "    </tr>\n",
       "  </thead>\n",
       "  <tbody>\n",
       "    <tr>\n",
       "      <th>0</th>\n",
       "      <td>2021-01-01 08:02:22</td>\n",
       "      <td>13.66</td>\n",
       "    </tr>\n",
       "    <tr>\n",
       "      <th>1</th>\n",
       "      <td>2021-01-01 08:05:21</td>\n",
       "      <td>13.72</td>\n",
       "    </tr>\n",
       "    <tr>\n",
       "      <th>2</th>\n",
       "      <td>2021-01-01 08:08:21</td>\n",
       "      <td>13.75</td>\n",
       "    </tr>\n",
       "    <tr>\n",
       "      <th>3</th>\n",
       "      <td>2021-01-01 08:11:21</td>\n",
       "      <td>13.77</td>\n",
       "    </tr>\n",
       "    <tr>\n",
       "      <th>4</th>\n",
       "      <td>2021-01-01 08:14:21</td>\n",
       "      <td>13.77</td>\n",
       "    </tr>\n",
       "  </tbody>\n",
       "</table>\n",
       "</div>"
      ],
      "text/plain": [
       "             timestamp  value\n",
       "0  2021-01-01 08:02:22  13.66\n",
       "1  2021-01-01 08:05:21  13.72\n",
       "2  2021-01-01 08:08:21  13.75\n",
       "3  2021-01-01 08:11:21  13.77\n",
       "4  2021-01-01 08:14:21  13.77"
      ]
     },
     "execution_count": 91,
     "metadata": {},
     "output_type": "execute_result"
    }
   ],
   "source": [
    "taxi_data.head()"
   ]
  },
  {
   "cell_type": "markdown",
   "metadata": {},
   "source": [
    "Human beings are visual creatures so let's take a look at a plot of the data."
   ]
  },
  {
   "cell_type": "code",
   "execution_count": 92,
   "metadata": {},
   "outputs": [
    {
     "data": {
      "text/plain": [
       "<AxesSubplot:>"
      ]
     },
     "execution_count": 92,
     "metadata": {},
     "output_type": "execute_result"
    },
    {
     "data": {
      "image/png": "[encoded data removed]",
      "text/plain": [
       "<Figure size 600x400 with 1 Axes>"
      ]
     },
     "metadata": {
      "needs_background": "light"
     },
     "output_type": "display_data"
    }
   ],
   "source": [
    "%matplotlib inline\n",
    "\n",
    "import matplotlib\n",
    "import matplotlib.pyplot as plt\n",
    "\n",
    "matplotlib.rcParams[\"figure.dpi\"] = 100\n",
    "\n",
    "taxi_data.plot()"
   ]
  },
  {
   "cell_type": "markdown",
   "metadata": {},
   "source": [
    "Human beings are also extraordinarily good at perceiving patterns. Note, for example, that something uncharacteristic occurs at around datapoint number 6000. Additionally, as we might expect with taxi ridership, the passenger count appears more or less periodic. Let's zoom in to not only examine this anomaly but also to get a better picture of what the \"normal\" data looks like."
   ]
  },
  {
   "cell_type": "markdown",
   "metadata": {},
   "source": [
    "Here we see that the number of taxi trips taken is mostly periodic with one mode of length approximately 50 data points. In fact, the mode is length 48 since each datapoint represents a 30-minute bin of ridership count. Therefore, we expect another mode of length $336 = 48 \\times 7$, the length of a week. Smaller frequencies over the course of the day occur, as well.\n",
    "\n",
    "For example, here is the data across the day containing the above anomaly:"
   ]
  },
  {
   "cell_type": "markdown",
   "metadata": {},
   "source": [
    "# Training\n",
    "\n",
    "***\n",
    "\n",
    "Next, we configure a SageMaker training job to train the Random Cut Forest (RCF) algorithm on the taxi cab data."
   ]
  },
  {
   "cell_type": "markdown",
   "metadata": {},
   "source": [
    "## Hyperparameters\n",
    "\n",
    "Particular to a SageMaker RCF training job are the following hyperparameters:\n",
    "\n",
    "* **`num_samples_per_tree`** - the number randomly sampled data points sent to each tree. As a general rule, `1/num_samples_per_tree` should approximate the the estimated ratio of anomalies to normal points in the dataset.\n",
    "* **`num_trees`** - the number of trees to create in the forest. Each tree learns a separate model from different samples of data. The full forest model uses the mean predicted anomaly score from each constituent tree.\n",
    "* **`feature_dim`** - the dimension of each data point.\n",
    "\n",
    "In addition to these RCF model hyperparameters, we provide additional parameters defining things like the EC2 instance type on which training will run, the S3 bucket containing the data, and the AWS access role. Note that,\n",
    "\n",
    "* Recommended instance type: `ml.m4`, `ml.c4`, or `ml.c5`\n",
    "* Current limitations:\n",
    "  * The RCF algorithm does not take advantage of GPU hardware."
   ]
  },
  {
   "cell_type": "code",
   "execution_count": 96,
   "metadata": {},
   "outputs": [
    {
     "data": {
      "text/plain": [
       "(100000, 1)"
      ]
     },
     "execution_count": 96,
     "metadata": {},
     "output_type": "execute_result"
    }
   ],
   "source": [
    "taxi_data.value.to_numpy().reshape(-1, 1).shape"
   ]
  },
  {
   "cell_type": "code",
   "execution_count": 42,
   "metadata": {},
   "outputs": [
    {
     "name": "stderr",
     "output_type": "stream",
     "text": [
      "Defaulting to the only supported framework/algorithm version: 1. Ignoring framework/algorithm version: 1.\n",
      "Defaulting to the only supported framework/algorithm version: 1. Ignoring framework/algorithm version: 1.\n"
     ]
    },
    {
     "name": "stdout",
     "output_type": "stream",
     "text": [
      "2021-11-26 02:31:16 Starting - Starting the training job...\n",
      "2021-11-26 02:31:40 Starting - Launching requested ML instancesProfilerReport-1637893876: InProgress\n",
      "......\n",
      "2021-11-26 02:32:46 Starting - Preparing the instances for training......\n",
      "2021-11-26 02:33:43 Downloading - Downloading input data\n",
      "2021-11-26 02:33:43 Training - Downloading the training image......\n",
      "2021-11-26 02:34:41 Uploading - Uploading generated training model\u001b[34mDocker entrypoint called with argument(s): train\u001b[0m\n",
      "\u001b[34mRunning default environment configuration script\u001b[0m\n",
      "\u001b[34m[11/26/2021 02:34:39 INFO 140410095052608] Reading default configuration from /opt/amazon/lib/python3.7/site-packages/algorithm/resources/default-conf.json: {'num_samples_per_tree': 256, 'num_trees': 100, 'force_dense': 'true', 'eval_metrics': ['accuracy', 'precision_recall_fscore'], 'epochs': 1, 'mini_batch_size': 1000, '_log_level': 'info', '_kvstore': 'dist_async', '_num_kv_servers': 'auto', '_num_gpus': 'auto', '_tuning_objective_metric': '', '_ftp_port': 8999}\u001b[0m\n",
      "\u001b[34m[11/26/2021 02:34:39 INFO 140410095052608] Merging with provided configuration from /opt/ml/input/config/hyperparameters.json: {'num_trees': '50', 'num_samples_per_tree': '512', 'feature_dim': '1', 'mini_batch_size': '1000'}\u001b[0m\n",
      "\u001b[34m[11/26/2021 02:34:39 INFO 140410095052608] Final configuration: {'num_samples_per_tree': '512', 'num_trees': '50', 'force_dense': 'true', 'eval_metrics': ['accuracy', 'precision_recall_fscore'], 'epochs': 1, 'mini_batch_size': '1000', '_log_level': 'info', '_kvstore': 'dist_async', '_num_kv_servers': 'auto', '_num_gpus': 'auto', '_tuning_objective_metric': '', '_ftp_port': 8999, 'feature_dim': '1'}\u001b[0m\n",
      "\u001b[34m[11/26/2021 02:34:39 WARNING 140410095052608] Loggers have already been setup.\u001b[0m\n",
      "\u001b[34m[11/26/2021 02:34:39 INFO 140410095052608] Launching parameter server for role scheduler\u001b[0m\n",
      "\u001b[34m[11/26/2021 02:34:39 INFO 140410095052608] {'ENVROOT': '/opt/amazon', 'PROTOCOL_BUFFERS_PYTHON_IMPLEMENTATION': 'cpp', 'HOSTNAME': 'ip-10-2-108-183.ec2.internal', 'TRAINING_JOB_NAME': 'randomcutforest-2021-11-26-02-31-16-407', 'NVIDIA_REQUIRE_CUDA': 'cuda>=9.0', 'TRAINING_JOB_ARN': 'arn:aws:sagemaker:us-east-1:241082659383:training-job/randomcutforest-2021-11-26-02-31-16-407', 'AWS_CONTAINER_CREDENTIALS_RELATIVE_URI': '/v2/credentials/d62da7e9-992f-4d49-b159-4fa51b49976d', 'CANONICAL_ENVROOT': '/opt/amazon', 'PYTHONUNBUFFERED': 'TRUE', 'NVIDIA_VISIBLE_DEVICES': 'void', 'LD_LIBRARY_PATH': '/opt/amazon/lib/python3.7/site-packages/cv2/../../../../lib:/usr/local/nvidia/lib64:/opt/amazon/lib', 'MXNET_KVSTORE_BIGARRAY_BOUND': '400000000', 'NVIDIA_DRIVER_CAPABILITIES': 'compute,utility', 'AWS_EXECUTION_ENV': 'AWS_ECS_EC2', 'PATH': '/opt/amazon/bin:/usr/local/nvidia/bin:/usr/local/sbin:/usr/local/bin:/usr/sbin:/usr/bin:/sbin:/bin:/opt/amazon/bin:/opt/amazon/bin', 'PWD': '/', 'LANG': 'en_US.utf8', 'AWS_REGION': 'us-east-1', 'SAGEMAKER_METRICS_DIRECTORY': '/opt/ml/output/metrics/sagemaker', 'HOME': '/root', 'SHLVL': '1', 'PROTOCOL_BUFFERS_PYTHON_IMPLEMENTATION_VERSION': '2', 'OMP_NUM_THREADS': '2', 'DMLC_INTERFACE': 'eth0', 'ECS_CONTAINER_METADATA_URI': 'http://169.254.170.2/v3/674d40dd-b7a8-4c7a-8485-e1bdb7740543', 'ECS_CONTAINER_METADATA_URI_V4': 'http://169.254.170.2/v4/674d40dd-b7a8-4c7a-8485-e1bdb7740543', 'SAGEMAKER_HTTP_PORT': '8080', 'SAGEMAKER_DATA_PATH': '/opt/ml', 'KMP_DUPLICATE_LIB_OK': 'True', 'KMP_INIT_AT_FORK': 'FALSE'}\u001b[0m\n",
      "\u001b[34m[11/26/2021 02:34:39 INFO 140410095052608] envs={'ENVROOT': '/opt/amazon', 'PROTOCOL_BUFFERS_PYTHON_IMPLEMENTATION': 'cpp', 'HOSTNAME': 'ip-10-2-108-183.ec2.internal', 'TRAINING_JOB_NAME': 'randomcutforest-2021-11-26-02-31-16-407', 'NVIDIA_REQUIRE_CUDA': 'cuda>=9.0', 'TRAINING_JOB_ARN': 'arn:aws:sagemaker:us-east-1:241082659383:training-job/randomcutforest-2021-11-26-02-31-16-407', 'AWS_CONTAINER_CREDENTIALS_RELATIVE_URI': '/v2/credentials/d62da7e9-992f-4d49-b159-4fa51b49976d', 'CANONICAL_ENVROOT': '/opt/amazon', 'PYTHONUNBUFFERED': 'TRUE', 'NVIDIA_VISIBLE_DEVICES': 'void', 'LD_LIBRARY_PATH': '/opt/amazon/lib/python3.7/site-packages/cv2/../../../../lib:/usr/local/nvidia/lib64:/opt/amazon/lib', 'MXNET_KVSTORE_BIGARRAY_BOUND': '400000000', 'NVIDIA_DRIVER_CAPABILITIES': 'compute,utility', 'AWS_EXECUTION_ENV': 'AWS_ECS_EC2', 'PATH': '/opt/amazon/bin:/usr/local/nvidia/bin:/usr/local/sbin:/usr/local/bin:/usr/sbin:/usr/bin:/sbin:/bin:/opt/amazon/bin:/opt/amazon/bin', 'PWD': '/', 'LANG': 'en_US.utf8', 'AWS_REGION': 'us-east-1', 'SAGEMAKER_METRICS_DIRECTORY': '/opt/ml/output/metrics/sagemaker', 'HOME': '/root', 'SHLVL': '1', 'PROTOCOL_BUFFERS_PYTHON_IMPLEMENTATION_VERSION': '2', 'OMP_NUM_THREADS': '2', 'DMLC_INTERFACE': 'eth0', 'ECS_CONTAINER_METADATA_URI': 'http://169.254.170.2/v3/674d40dd-b7a8-4c7a-8485-e1bdb7740543', 'ECS_CONTAINER_METADATA_URI_V4': 'http://169.254.170.2/v4/674d40dd-b7a8-4c7a-8485-e1bdb7740543', 'SAGEMAKER_HTTP_PORT': '8080', 'SAGEMAKER_DATA_PATH': '/opt/ml', 'KMP_DUPLICATE_LIB_OK': 'True', 'KMP_INIT_AT_FORK': 'FALSE', 'DMLC_ROLE': 'scheduler', 'DMLC_PS_ROOT_URI': '10.2.108.183', 'DMLC_PS_ROOT_PORT': '9000', 'DMLC_NUM_SERVER': '1', 'DMLC_NUM_WORKER': '1'}\u001b[0m\n",
      "\u001b[34m[11/26/2021 02:34:39 INFO 140410095052608] Launching parameter server for role server\u001b[0m\n",
      "\u001b[34m[11/26/2021 02:34:39 INFO 140410095052608] {'ENVROOT': '/opt/amazon', 'PROTOCOL_BUFFERS_PYTHON_IMPLEMENTATION': 'cpp', 'HOSTNAME': 'ip-10-2-108-183.ec2.internal', 'TRAINING_JOB_NAME': 'randomcutforest-2021-11-26-02-31-16-407', 'NVIDIA_REQUIRE_CUDA': 'cuda>=9.0', 'TRAINING_JOB_ARN': 'arn:aws:sagemaker:us-east-1:241082659383:training-job/randomcutforest-2021-11-26-02-31-16-407', 'AWS_CONTAINER_CREDENTIALS_RELATIVE_URI': '/v2/credentials/d62da7e9-992f-4d49-b159-4fa51b49976d', 'CANONICAL_ENVROOT': '/opt/amazon', 'PYTHONUNBUFFERED': 'TRUE', 'NVIDIA_VISIBLE_DEVICES': 'void', 'LD_LIBRARY_PATH': '/opt/amazon/lib/python3.7/site-packages/cv2/../../../../lib:/usr/local/nvidia/lib64:/opt/amazon/lib', 'MXNET_KVSTORE_BIGARRAY_BOUND': '400000000', 'NVIDIA_DRIVER_CAPABILITIES': 'compute,utility', 'AWS_EXECUTION_ENV': 'AWS_ECS_EC2', 'PATH': '/opt/amazon/bin:/usr/local/nvidia/bin:/usr/local/sbin:/usr/local/bin:/usr/sbin:/usr/bin:/sbin:/bin:/opt/amazon/bin:/opt/amazon/bin', 'PWD': '/', 'LANG': 'en_US.utf8', 'AWS_REGION': 'us-east-1', 'SAGEMAKER_METRICS_DIRECTORY': '/opt/ml/output/metrics/sagemaker', 'HOME': '/root', 'SHLVL': '1', 'PROTOCOL_BUFFERS_PYTHON_IMPLEMENTATION_VERSION': '2', 'OMP_NUM_THREADS': '2', 'DMLC_INTERFACE': 'eth0', 'ECS_CONTAINER_METADATA_URI': 'http://169.254.170.2/v3/674d40dd-b7a8-4c7a-8485-e1bdb7740543', 'ECS_CONTAINER_METADATA_URI_V4': 'http://169.254.170.2/v4/674d40dd-b7a8-4c7a-8485-e1bdb7740543', 'SAGEMAKER_HTTP_PORT': '8080', 'SAGEMAKER_DATA_PATH': '/opt/ml', 'KMP_DUPLICATE_LIB_OK': 'True', 'KMP_INIT_AT_FORK': 'FALSE'}\u001b[0m\n",
      "\u001b[34m[11/26/2021 02:34:39 INFO 140410095052608] envs={'ENVROOT': '/opt/amazon', 'PROTOCOL_BUFFERS_PYTHON_IMPLEMENTATION': 'cpp', 'HOSTNAME': 'ip-10-2-108-183.ec2.internal', 'TRAINING_JOB_NAME': 'randomcutforest-2021-11-26-02-31-16-407', 'NVIDIA_REQUIRE_CUDA': 'cuda>=9.0', 'TRAINING_JOB_ARN': 'arn:aws:sagemaker:us-east-1:241082659383:training-job/randomcutforest-2021-11-26-02-31-16-407', 'AWS_CONTAINER_CREDENTIALS_RELATIVE_URI': '/v2/credentials/d62da7e9-992f-4d49-b159-4fa51b49976d', 'CANONICAL_ENVROOT': '/opt/amazon', 'PYTHONUNBUFFERED': 'TRUE', 'NVIDIA_VISIBLE_DEVICES': 'void', 'LD_LIBRARY_PATH': '/opt/amazon/lib/python3.7/site-packages/cv2/../../../../lib:/usr/local/nvidia/lib64:/opt/amazon/lib', 'MXNET_KVSTORE_BIGARRAY_BOUND': '400000000', 'NVIDIA_DRIVER_CAPABILITIES': 'compute,utility', 'AWS_EXECUTION_ENV': 'AWS_ECS_EC2', 'PATH': '/opt/amazon/bin:/usr/local/nvidia/bin:/usr/local/sbin:/usr/local/bin:/usr/sbin:/usr/bin:/sbin:/bin:/opt/amazon/bin:/opt/amazon/bin', 'PWD': '/', 'LANG': 'en_US.utf8', 'AWS_REGION': 'us-east-1', 'SAGEMAKER_METRICS_DIRECTORY': '/opt/ml/output/metrics/sagemaker', 'HOME': '/root', 'SHLVL': '1', 'PROTOCOL_BUFFERS_PYTHON_IMPLEMENTATION_VERSION': '2', 'OMP_NUM_THREADS': '2', 'DMLC_INTERFACE': 'eth0', 'ECS_CONTAINER_METADATA_URI': 'http://169.254.170.2/v3/674d40dd-b7a8-4c7a-8485-e1bdb7740543', 'ECS_CONTAINER_METADATA_URI_V4': 'http://169.254.170.2/v4/674d40dd-b7a8-4c7a-8485-e1bdb7740543', 'SAGEMAKER_HTTP_PORT': '8080', 'SAGEMAKER_DATA_PATH': '/opt/ml', 'KMP_DUPLICATE_LIB_OK': 'True', 'KMP_INIT_AT_FORK': 'FALSE', 'DMLC_ROLE': 'server', 'DMLC_PS_ROOT_URI': '10.2.108.183', 'DMLC_PS_ROOT_PORT': '9000', 'DMLC_NUM_SERVER': '1', 'DMLC_NUM_WORKER': '1'}\u001b[0m\n",
      "\u001b[34m[11/26/2021 02:34:39 INFO 140410095052608] Environment: {'ENVROOT': '/opt/amazon', 'PROTOCOL_BUFFERS_PYTHON_IMPLEMENTATION': 'cpp', 'HOSTNAME': 'ip-10-2-108-183.ec2.internal', 'TRAINING_JOB_NAME': 'randomcutforest-2021-11-26-02-31-16-407', 'NVIDIA_REQUIRE_CUDA': 'cuda>=9.0', 'TRAINING_JOB_ARN': 'arn:aws:sagemaker:us-east-1:241082659383:training-job/randomcutforest-2021-11-26-02-31-16-407', 'AWS_CONTAINER_CREDENTIALS_RELATIVE_URI': '/v2/credentials/d62da7e9-992f-4d49-b159-4fa51b49976d', 'CANONICAL_ENVROOT': '/opt/amazon', 'PYTHONUNBUFFERED': 'TRUE', 'NVIDIA_VISIBLE_DEVICES': 'void', 'LD_LIBRARY_PATH': '/opt/amazon/lib/python3.7/site-packages/cv2/../../../../lib:/usr/local/nvidia/lib64:/opt/amazon/lib', 'MXNET_KVSTORE_BIGARRAY_BOUND': '400000000', 'NVIDIA_DRIVER_CAPABILITIES': 'compute,utility', 'AWS_EXECUTION_ENV': 'AWS_ECS_EC2', 'PATH': '/opt/amazon/bin:/usr/local/nvidia/bin:/usr/local/sbin:/usr/local/bin:/usr/sbin:/usr/bin:/sbin:/bin:/opt/amazon/bin:/opt/amazon/bin', 'PWD': '/', 'LANG': 'en_US.utf8', 'AWS_REGION': 'us-east-1', 'SAGEMAKER_METRICS_DIRECTORY': '/opt/ml/output/metrics/sagemaker', 'HOME': '/root', 'SHLVL': '1', 'PROTOCOL_BUFFERS_PYTHON_IMPLEMENTATION_VERSION': '2', 'OMP_NUM_THREADS': '2', 'DMLC_INTERFACE': 'eth0', 'ECS_CONTAINER_METADATA_URI': 'http://169.254.170.2/v3/674d40dd-b7a8-4c7a-8485-e1bdb7740543', 'ECS_CONTAINER_METADATA_URI_V4': 'http://169.254.170.2/v4/674d40dd-b7a8-4c7a-8485-e1bdb7740543', 'SAGEMAKER_HTTP_PORT': '8080', 'SAGEMAKER_DATA_PATH': '/opt/ml', 'KMP_DUPLICATE_LIB_OK': 'True', 'KMP_INIT_AT_FORK': 'FALSE', 'DMLC_ROLE': 'worker', 'DMLC_PS_ROOT_URI': '10.2.108.183', 'DMLC_PS_ROOT_PORT': '9000', 'DMLC_NUM_SERVER': '1', 'DMLC_NUM_WORKER': '1'}\u001b[0m\n",
      "\u001b[34mProcess 35 is a shell:scheduler.\u001b[0m\n",
      "\u001b[34mProcess 46 is a shell:server.\u001b[0m\n",
      "\u001b[34mProcess 1 is a worker.\u001b[0m\n",
      "\u001b[34m[11/26/2021 02:34:39 INFO 140410095052608] Using default worker.\u001b[0m\n",
      "\u001b[34m[11/26/2021 02:34:39 INFO 140410095052608] Loaded iterator creator application/x-recordio-protobuf for content type ('application/x-recordio-protobuf', '1.0')\u001b[0m\n",
      "\u001b[34m[11/26/2021 02:34:39 INFO 140410095052608] Checkpoint loading and saving are disabled.\u001b[0m\n",
      "\u001b[34m[11/26/2021 02:34:39 INFO 140410095052608] Verifying hyperparamemters...\u001b[0m\n",
      "\u001b[34m[11/26/2021 02:34:39 INFO 140410095052608] Hyperparameters are correct.\u001b[0m\n",
      "\u001b[34m[11/26/2021 02:34:39 INFO 140410095052608] Validating that feature_dim agrees with dimensions in training data...\u001b[0m\n",
      "\u001b[34m[11/26/2021 02:34:39 INFO 140410095052608] feature_dim is correct.\u001b[0m\n",
      "\u001b[34m[11/26/2021 02:34:39 INFO 140410095052608] Validating memory limits...\u001b[0m\n",
      "\u001b[34m[11/26/2021 02:34:39 INFO 140410095052608] Available memory in bytes: 15135195136\u001b[0m\n",
      "\u001b[34m[11/26/2021 02:34:39 INFO 140410095052608] Estimated sample size in bytes: 409600\u001b[0m\n",
      "\u001b[34m[11/26/2021 02:34:39 INFO 140410095052608] Estimated memory needed to build the forest in bytes: 1024000\u001b[0m\n",
      "\u001b[34m[11/26/2021 02:34:39 INFO 140410095052608] Memory limits validated.\u001b[0m\n",
      "\u001b[34m[11/26/2021 02:34:39 INFO 140410095052608] Starting cluster sharing facilities...\u001b[0m\n",
      "\u001b[34m[I 21-11-26 02:34:39] >>> starting FTP server on 0.0.0.0:8999, pid=1 <<<\u001b[0m\n",
      "\u001b[34m[11/26/2021 02:34:39 INFO 140410095052608] Create Store: dist_async\u001b[0m\n",
      "\u001b[34m[11/26/2021 02:34:39 INFO 140408310982400] >>> starting FTP server on 0.0.0.0:8999, pid=1 <<<\u001b[0m\n",
      "\u001b[34m[I 21-11-26 02:34:39] poller: <class 'pyftpdlib.ioloop.Epoll'>\u001b[0m\n",
      "\u001b[34m[11/26/2021 02:34:39 INFO 140408310982400] poller: <class 'pyftpdlib.ioloop.Epoll'>\u001b[0m\n",
      "\u001b[34m[I 21-11-26 02:34:39] masquerade (NAT) address: None\u001b[0m\n",
      "\u001b[34m[11/26/2021 02:34:39 INFO 140408310982400] masquerade (NAT) address: None\u001b[0m\n",
      "\u001b[34m[I 21-11-26 02:34:39] passive ports: None\u001b[0m\n",
      "\u001b[34m[11/26/2021 02:34:39 INFO 140408310982400] passive ports: None\u001b[0m\n",
      "\u001b[34m[I 21-11-26 02:34:39] use sendfile(2): True\u001b[0m\n",
      "\u001b[34m[11/26/2021 02:34:39 INFO 140408310982400] use sendfile(2): True\u001b[0m\n",
      "\u001b[34m[11/26/2021 02:34:40 INFO 140410095052608] Cluster sharing facilities started.\u001b[0m\n",
      "\u001b[34m[11/26/2021 02:34:40 INFO 140410095052608] Verifying all workers are accessible...\u001b[0m\n",
      "\u001b[34m[11/26/2021 02:34:40 INFO 140410095052608] All workers accessible.\u001b[0m\n",
      "\u001b[34m[11/26/2021 02:34:40 INFO 140410095052608] Initializing Sampler...\u001b[0m\n",
      "\u001b[34m[11/26/2021 02:34:40 INFO 140410095052608] Sampler correctly initialized.\u001b[0m\n",
      "\u001b[34m#metrics {\"StartTime\": 1637894079.6855066, \"EndTime\": 1637894080.9434628, \"Dimensions\": {\"Algorithm\": \"RandomCutForest\", \"Host\": \"algo-1\", \"Operation\": \"training\"}, \"Metrics\": {\"initialize.time\": {\"sum\": 1251.814603805542, \"count\": 1, \"min\": 1251.814603805542, \"max\": 1251.814603805542}}}\u001b[0m\n",
      "\u001b[34m#metrics {\"StartTime\": 1637894080.9436796, \"EndTime\": 1637894080.9437182, \"Dimensions\": {\"Algorithm\": \"RandomCutForest\", \"Host\": \"algo-1\", \"Operation\": \"training\", \"Meta\": \"init_train_data_iter\"}, \"Metrics\": {\"Total Records Seen\": {\"sum\": 0.0, \"count\": 1, \"min\": 0, \"max\": 0}, \"Total Batches Seen\": {\"sum\": 0.0, \"count\": 1, \"min\": 0, \"max\": 0}, \"Max Records Seen Between Resets\": {\"sum\": 0.0, \"count\": 1, \"min\": 0, \"max\": 0}, \"Max Batches Seen Between Resets\": {\"sum\": 0.0, \"count\": 1, \"min\": 0, \"max\": 0}, \"Reset Count\": {\"sum\": 0.0, \"count\": 1, \"min\": 0, \"max\": 0}, \"Number of Records Since Last Reset\": {\"sum\": 0.0, \"count\": 1, \"min\": 0, \"max\": 0}, \"Number of Batches Since Last Reset\": {\"sum\": 0.0, \"count\": 1, \"min\": 0, \"max\": 0}}}\u001b[0m\n",
      "\u001b[34m[2021-11-26 02:34:40.944] [tensorio] [info] epoch_stats={\"data_pipeline\": \"/opt/ml/input/data/train\", \"epoch\": 0, \"duration\": 1258, \"num_examples\": 1, \"num_bytes\": 32000}\u001b[0m\n",
      "\u001b[34m[11/26/2021 02:34:40 INFO 140410095052608] Sampling training data...\u001b[0m\n",
      "\u001b[34m[2021-11-26 02:34:41.087] [tensorio] [info] epoch_stats={\"data_pipeline\": \"/opt/ml/input/data/train\", \"epoch\": 1, \"duration\": 142, \"num_examples\": 100, \"num_bytes\": 3200000}\u001b[0m\n",
      "\u001b[34m[11/26/2021 02:34:41 INFO 140410095052608] Sampling training data completed.\u001b[0m\n",
      "\u001b[34m#metrics {\"StartTime\": 1637894080.9436157, \"EndTime\": 1637894081.0953388, \"Dimensions\": {\"Algorithm\": \"RandomCutForest\", \"Host\": \"algo-1\", \"Operation\": \"training\"}, \"Metrics\": {\"epochs\": {\"sum\": 1.0, \"count\": 1, \"min\": 1, \"max\": 1}, \"update.time\": {\"sum\": 150.9871482849121, \"count\": 1, \"min\": 150.9871482849121, \"max\": 150.9871482849121}}}\u001b[0m\n",
      "\u001b[34m[11/26/2021 02:34:41 INFO 140410095052608] Early stop condition met. Stopping training.\u001b[0m\n",
      "\u001b[34m[11/26/2021 02:34:41 INFO 140410095052608] #progress_metric: host=algo-1, completed 100 % epochs\u001b[0m\n",
      "\u001b[34m#metrics {\"StartTime\": 1637894080.944308, \"EndTime\": 1637894081.0959265, \"Dimensions\": {\"Algorithm\": \"RandomCutForest\", \"Host\": \"algo-1\", \"Operation\": \"training\", \"epoch\": 0, \"Meta\": \"training_data_iter\"}, \"Metrics\": {\"Total Records Seen\": {\"sum\": 100000.0, \"count\": 1, \"min\": 100000, \"max\": 100000}, \"Total Batches Seen\": {\"sum\": 100.0, \"count\": 1, \"min\": 100, \"max\": 100}, \"Max Records Seen Between Resets\": {\"sum\": 100000.0, \"count\": 1, \"min\": 100000, \"max\": 100000}, \"Max Batches Seen Between Resets\": {\"sum\": 100.0, \"count\": 1, \"min\": 100, \"max\": 100}, \"Reset Count\": {\"sum\": 1.0, \"count\": 1, \"min\": 1, \"max\": 1}, \"Number of Records Since Last Reset\": {\"sum\": 100000.0, \"count\": 1, \"min\": 100000, \"max\": 100000}, \"Number of Batches Since Last Reset\": {\"sum\": 100.0, \"count\": 1, \"min\": 100, \"max\": 100}}}\u001b[0m\n",
      "\u001b[34m[11/26/2021 02:34:41 INFO 140410095052608] #throughput_metric: host=algo-1, train throughput=658849.8452741867 records/second\u001b[0m\n",
      "\u001b[34m[11/26/2021 02:34:41 INFO 140410095052608] Master node: building Random Cut Forest...\u001b[0m\n",
      "\u001b[34m[11/26/2021 02:34:41 INFO 140410095052608] Gathering samples...\u001b[0m\n",
      "\u001b[34m[11/26/2021 02:34:41 INFO 140410095052608] 25600 samples gathered\u001b[0m\n",
      "\u001b[34m[11/26/2021 02:34:41 INFO 140410095052608] Building Random Cut Forest...\u001b[0m\n",
      "\u001b[34m[11/26/2021 02:34:41 INFO 140410095052608] Random Cut Forest built: \u001b[0m\n",
      "\u001b[34mForestInfo{num_trees: 50, num_samples_in_forest: 25600, num_samples_per_tree: 512, sample_dim: 1, shingle_size: 1, trees_num_nodes: [911, 883, 905, 879, 899, 925, 911, 883, 905, 899, 909, 923, 895, 901, 879, 901, 923, 923, 925, 887, 863, 891, 897, 905, 885, 891, 913, 885, 921, 891, 901, 905, 893, 899, 909, 879, 899, 881, 877, 901, 911, 885, 891, 907, 903, 885, 873, 917, 893, 897, ], trees_depth: [20, 22, 22, 20, 19, 21, 23, 24, 23, 21, 20, 23, 20, 19, 21, 21, 22, 24, 21, 21, 22, 20, 19, 18, 22, 20, 21, 19, 24, 21, 20, 20, 20, 22, 22, 21, 26, 19, 20, 21, 20, 20, 20, 20, 20, 22, 21, 19, 19, 21, ], max_num_nodes: 925, min_num_nodes: 863, avg_num_nodes: 898, max_tree_depth: 26, min_tree_depth: 18, avg_tree_depth: 20, mem_size: 4671504}\u001b[0m\n",
      "\u001b[34m#metrics {\"StartTime\": 1637894081.0955727, \"EndTime\": 1637894081.1203864, \"Dimensions\": {\"Algorithm\": \"RandomCutForest\", \"Host\": \"algo-1\", \"Operation\": \"training\"}, \"Metrics\": {\"fit_model.time\": {\"sum\": 10.737180709838867, \"count\": 1, \"min\": 10.737180709838867, \"max\": 10.737180709838867}, \"model.bytes\": {\"sum\": 4671504.0, \"count\": 1, \"min\": 4671504, \"max\": 4671504}, \"finalize.time\": {\"sum\": 23.975133895874023, \"count\": 1, \"min\": 23.975133895874023, \"max\": 23.975133895874023}}}\u001b[0m\n",
      "\u001b[34m[11/26/2021 02:34:41 INFO 140410095052608] Master node: Serializing the RandomCutForest model\u001b[0m\n",
      "\u001b[34m#metrics {\"StartTime\": 1637894081.120505, \"EndTime\": 1637894081.1826854, \"Dimensions\": {\"Algorithm\": \"RandomCutForest\", \"Host\": \"algo-1\", \"Operation\": \"training\"}, \"Metrics\": {\"serialize_model.time\": {\"sum\": 62.11709976196289, \"count\": 1, \"min\": 62.11709976196289, \"max\": 62.11709976196289}}}\u001b[0m\n",
      "\u001b[34m[11/26/2021 02:34:41 INFO 140410095052608] Test data is not provided.\u001b[0m\n",
      "\u001b[34m#metrics {\"StartTime\": 1637894081.1827893, \"EndTime\": 1637894081.18294, \"Dimensions\": {\"Algorithm\": \"RandomCutForest\", \"Host\": \"algo-1\", \"Operation\": \"training\"}, \"Metrics\": {\"setuptime\": {\"sum\": 25.319576263427734, \"count\": 1, \"min\": 25.319576263427734, \"max\": 25.319576263427734}, \"totaltime\": {\"sum\": 1531.724452972412, \"count\": 1, \"min\": 1531.724452972412, \"max\": 1531.724452972412}}}\u001b[0m\n"
     ]
    },
    {
     "name": "stdout",
     "output_type": "stream",
     "text": [
      "\n",
      "2021-11-26 02:35:00 Completed - Training job completed\n",
      "Training seconds: 72\n",
      "Billable seconds: 72\n"
     ]
    }
   ],
   "source": [
    "from sagemaker import RandomCutForest\n",
    "\n",
    "session = sagemaker.Session()\n",
    "\n",
    "# specify general training job information\n",
    "rcf = RandomCutForest(\n",
    "    role=execution_role,\n",
    "    instance_count=1,\n",
    "    instance_type=\"ml.m4.xlarge\",\n",
    "    data_location=f\"s3://{bucket}/{prefix}/\",\n",
    "    output_path=f\"s3://{bucket}/{prefix}/output\",\n",
    "    num_samples_per_tree=512,\n",
    "    num_trees=50,\n",
    ")\n",
    "\n",
    "# automatically upload the training data to S3 and run the training job\n",
    "rcf.fit(rcf.record_set(taxi_data.value.to_numpy().reshape(-1, 1)))"
   ]
  },
  {
   "cell_type": "markdown",
   "metadata": {},
   "source": [
    "If you see the message\n",
    "\n",
    "> `===== Job Complete =====`\n",
    "\n",
    "at the bottom of the output logs then that means training successfully completed and the output RCF model was stored in the specified output path. You can also view information about and the status of a training job using the AWS SageMaker console. Just click on the \"Jobs\" tab and select training job matching the training job name, below:"
   ]
  },
  {
   "cell_type": "code",
   "execution_count": 43,
   "metadata": {},
   "outputs": [
    {
     "name": "stdout",
     "output_type": "stream",
     "text": [
      "Training job name: randomcutforest-2021-11-26-02-31-16-407\n"
     ]
    }
   ],
   "source": [
    "print(f\"Training job name: {rcf.latest_training_job.job_name}\")"
   ]
  },
  {
   "cell_type": "markdown",
   "metadata": {},
   "source": [
    "# Inference\n",
    "\n",
    "***\n",
    "\n",
    "A trained Random Cut Forest model does nothing on its own. We now want to use the model we computed to perform inference on data. In this case, it means computing anomaly scores from input time series data points.\n",
    "\n",
    "We create an inference endpoint using the SageMaker Python SDK `deploy()` function from the job we defined above. We specify the instance type where inference is computed as well as an initial number of instances to spin up. We recommend using the `ml.c5` instance type as it provides the fastest inference time at the lowest cost."
   ]
  },
  {
   "cell_type": "code",
   "execution_count": 16,
   "metadata": {},
   "outputs": [
    {
     "data": {
      "text/plain": [
       "<sagemaker.amazon.randomcutforest.RandomCutForest at 0x7fdf03048eb8>"
      ]
     },
     "execution_count": 16,
     "metadata": {},
     "output_type": "execute_result"
    }
   ],
   "source": [
    "rcf"
   ]
  },
  {
   "cell_type": "code",
   "execution_count": 44,
   "metadata": {},
   "outputs": [
    {
     "name": "stderr",
     "output_type": "stream",
     "text": [
      "Defaulting to the only supported framework/algorithm version: 1. Ignoring framework/algorithm version: 1.\n"
     ]
    },
    {
     "name": "stdout",
     "output_type": "stream",
     "text": [
      "---------!"
     ]
    }
   ],
   "source": [
    "rcf_inference = rcf.deploy(initial_instance_count=1, instance_type=\"ml.m4.xlarge\")"
   ]
  },
  {
   "cell_type": "markdown",
   "metadata": {},
   "source": [
    "Congratulations! You now have a functioning SageMaker RCF inference endpoint. You can confirm the endpoint configuration and status by navigating to the \"Endpoints\" tab in the AWS SageMaker console and selecting the endpoint matching the endpoint name, below: "
   ]
  },
  {
   "cell_type": "code",
   "execution_count": 46,
   "metadata": {},
   "outputs": [
    {
     "name": "stderr",
     "output_type": "stream",
     "text": [
      "The endpoint attribute has been renamed in sagemaker>=2.\n",
      "See: https://sagemaker.readthedocs.io/en/stable/v2.html for details.\n"
     ]
    },
    {
     "name": "stdout",
     "output_type": "stream",
     "text": [
      "Endpoint name: randomcutforest-2021-11-26-02-40-28-109\n"
     ]
    }
   ],
   "source": [
    "print(f\"Endpoint name: {rcf_inference.endpoint}\")"
   ]
  },
  {
   "cell_type": "markdown",
   "metadata": {},
   "source": [
    "## Data Serialization/Deserialization\n",
    "\n",
    "We can pass data in a variety of formats to our inference endpoint. In this example we will demonstrate passing CSV-formatted data. Other available formats are JSON-formatted and RecordIO Protobuf. We make use of the SageMaker Python SDK utilities `csv_serializer` and `json_deserializer` when configuring the inference endpoint."
   ]
  },
  {
   "cell_type": "code",
   "execution_count": 93,
   "metadata": {},
   "outputs": [],
   "source": [
    "from sagemaker.serializers import CSVSerializer\n",
    "from sagemaker.deserializers import JSONDeserializer\n",
    "from sagemaker.predictor import Predictor\n",
    "\n",
    "session = sagemaker.Session()\n",
    "rcf_inference.serializer = CSVSerializer()\n",
    "rcf_inference.deserializer = JSONDeserializer()"
   ]
  },
  {
   "cell_type": "code",
   "execution_count": 94,
   "metadata": {},
   "outputs": [],
   "source": [
    "rcf_inference_no_shingled = Predictor(endpoint_name='rcf-no-shingle', \n",
    "                          sagemaker_session=session, \n",
    "                          serializer=CSVSerializer(content_type=\"text/csv\"), deserializer=JSONDeserializer())"
   ]
  },
  {
   "cell_type": "markdown",
   "metadata": {},
   "source": [
    "Let's pass the training dataset, in CSV format, to the inference endpoint so we can automatically detect the anomalies we saw with our eyes in the plots, above. Note that the serializer and deserializer will automatically take care of the datatype conversion from Numpy NDArrays.\n",
    "\n",
    "For starters, let's only pass in the first six datapoints so we can see what the output looks like."
   ]
  },
  {
   "cell_type": "code",
   "execution_count": 181,
   "metadata": {},
   "outputs": [
    {
     "data": {
      "text/plain": [
       "100000"
      ]
     },
     "execution_count": 181,
     "metadata": {},
     "output_type": "execute_result"
    }
   ],
   "source": [
    "len(taxi_data)"
   ]
  },
  {
   "cell_type": "code",
   "execution_count": 100,
   "metadata": {},
   "outputs": [
    {
     "name": "stdout",
     "output_type": "stream",
     "text": [
      "[[13.66]\n",
      " [13.72]\n",
      " [13.75]\n",
      " [13.77]\n",
      " [13.77]\n",
      " [13.79]]\n"
     ]
    }
   ],
   "source": [
    "taxi_data_numpy = taxi_data.value.to_numpy().reshape(-1, 1)\n",
    "print(taxi_data_numpy[:6])"
   ]
  },
  {
   "cell_type": "code",
   "execution_count": 102,
   "metadata": {},
   "outputs": [
    {
     "data": {
      "text/plain": [
       "{'scores': [{'score': 1.0101383641},\n",
       "  {'score': 0.9984177082},\n",
       "  {'score': 0.9957543931},\n",
       "  {'score': 0.9841897276},\n",
       "  {'score': 0.9841897276},\n",
       "  {'score': 0.9899115884}]}"
      ]
     },
     "execution_count": 102,
     "metadata": {},
     "output_type": "execute_result"
    }
   ],
   "source": [
    "results = rcf_inference_no_shingled.predict(\n",
    "    taxi_data_numpy[:6], initial_args={\"ContentType\": \"text/csv\", \"Accept\": \"application/json\"}\n",
    ")\n",
    "results"
   ]
  },
  {
   "cell_type": "markdown",
   "metadata": {},
   "source": [
    "## Computing Anomaly Scores\n",
    "\n",
    "Now, let's compute and plot the anomaly scores from the entire taxi dataset."
   ]
  },
  {
   "cell_type": "code",
   "execution_count": 103,
   "metadata": {},
   "outputs": [
    {
     "data": {
      "text/html": [
       "<div>\n",
       "<style scoped>\n",
       "    .dataframe tbody tr th:only-of-type {\n",
       "        vertical-align: middle;\n",
       "    }\n",
       "\n",
       "    .dataframe tbody tr th {\n",
       "        vertical-align: top;\n",
       "    }\n",
       "\n",
       "    .dataframe thead th {\n",
       "        text-align: right;\n",
       "    }\n",
       "</style>\n",
       "<table border=\"1\" class=\"dataframe\">\n",
       "  <thead>\n",
       "    <tr style=\"text-align: right;\">\n",
       "      <th></th>\n",
       "      <th>timestamp</th>\n",
       "      <th>value</th>\n",
       "      <th>score</th>\n",
       "    </tr>\n",
       "  </thead>\n",
       "  <tbody>\n",
       "    <tr>\n",
       "      <th>0</th>\n",
       "      <td>2021-01-01 08:02:22</td>\n",
       "      <td>13.66</td>\n",
       "      <td>1.010138</td>\n",
       "    </tr>\n",
       "    <tr>\n",
       "      <th>1</th>\n",
       "      <td>2021-01-01 08:05:21</td>\n",
       "      <td>13.72</td>\n",
       "      <td>0.998418</td>\n",
       "    </tr>\n",
       "    <tr>\n",
       "      <th>2</th>\n",
       "      <td>2021-01-01 08:08:21</td>\n",
       "      <td>13.75</td>\n",
       "      <td>0.995754</td>\n",
       "    </tr>\n",
       "    <tr>\n",
       "      <th>3</th>\n",
       "      <td>2021-01-01 08:11:21</td>\n",
       "      <td>13.77</td>\n",
       "      <td>0.984190</td>\n",
       "    </tr>\n",
       "    <tr>\n",
       "      <th>4</th>\n",
       "      <td>2021-01-01 08:14:21</td>\n",
       "      <td>13.77</td>\n",
       "      <td>0.984190</td>\n",
       "    </tr>\n",
       "  </tbody>\n",
       "</table>\n",
       "</div>"
      ],
      "text/plain": [
       "             timestamp  value     score\n",
       "0  2021-01-01 08:02:22  13.66  1.010138\n",
       "1  2021-01-01 08:05:21  13.72  0.998418\n",
       "2  2021-01-01 08:08:21  13.75  0.995754\n",
       "3  2021-01-01 08:11:21  13.77  0.984190\n",
       "4  2021-01-01 08:14:21  13.77  0.984190"
      ]
     },
     "execution_count": 103,
     "metadata": {},
     "output_type": "execute_result"
    }
   ],
   "source": [
    "results = rcf_inference_no_shingled.predict(taxi_data_numpy)\n",
    "scores = [datum[\"score\"] for datum in results[\"scores\"]]\n",
    "\n",
    "# add scores to taxi data frame and print first few values\n",
    "taxi_data[\"score\"] = pd.Series(scores, index=taxi_data.index)\n",
    "taxi_data.head()"
   ]
  },
  {
   "cell_type": "code",
   "execution_count": 151,
   "metadata": {},
   "outputs": [
    {
     "data": {
      "text/plain": [
       "100000"
      ]
     },
     "execution_count": 151,
     "metadata": {},
     "output_type": "execute_result"
    }
   ],
   "source": [
    "len(taxi_data)"
   ]
  },
  {
   "cell_type": "code",
   "execution_count": 127,
   "metadata": {},
   "outputs": [
    {
     "data": {
      "image/png": "[encoded data removed]",
      "text/plain": [
       "<Figure size 1000x400 with 2 Axes>"
      ]
     },
     "metadata": {},
     "output_type": "display_data"
    }
   ],
   "source": [
    "fig, ax1 = plt.subplots()\n",
    "ax2 = ax1.twinx()\n",
    "\n",
    "#\n",
    "# *Try this out* - change `start` and `end` to zoom in on the\n",
    "# anomaly found earlier in this notebook\n",
    "#\n",
    "start, end = 0, len(taxi_data)\n",
    "# start, end = 5500, 6500\n",
    "taxi_data_subset = taxi_data[start:end]\n",
    "\n",
    "ax1.plot(taxi_data_subset[\"value\"], color=\"C0\", alpha=0.8)\n",
    "ax2.plot(taxi_data_subset[\"score\"], color=\"C1\")\n",
    "\n",
    "ax1.grid(which=\"major\", axis=\"both\")\n",
    "\n",
    "ax1.set_ylabel(\"Taxi Ridership\", color=\"C0\")\n",
    "ax2.set_ylabel(\"Anomaly Score\", color=\"C1\")\n",
    "\n",
    "ax1.tick_params(\"y\", colors=\"C0\")\n",
    "ax2.tick_params(\"y\", colors=\"C1\")\n",
    "\n",
    "ax1.set_ylim(0, 60)\n",
    "#ax2.set_ylim(min(scores), 1.2*max(scores))\n",
    "ax2.set_ylim(min(scores), 10)\n",
    "fig.set_figwidth(10)"
   ]
  },
  {
   "cell_type": "markdown",
   "metadata": {},
   "source": [
    "Note that the anomaly score spikes where our eyeball-norm method suggests there is an anomalous data point as well as in some places where our eyeballs are not as accurate.\n",
    "\n",
    "Below we print and plot any data points with scores greater than 3 standard deviations (approx 99.9th percentile) from the mean score."
   ]
  },
  {
   "cell_type": "code",
   "execution_count": 128,
   "metadata": {},
   "outputs": [
    {
     "data": {
      "text/html": [
       "<div>\n",
       "<style scoped>\n",
       "    .dataframe tbody tr th:only-of-type {\n",
       "        vertical-align: middle;\n",
       "    }\n",
       "\n",
       "    .dataframe tbody tr th {\n",
       "        vertical-align: top;\n",
       "    }\n",
       "\n",
       "    .dataframe thead th {\n",
       "        text-align: right;\n",
       "    }\n",
       "</style>\n",
       "<table border=\"1\" class=\"dataframe\">\n",
       "  <thead>\n",
       "    <tr style=\"text-align: right;\">\n",
       "      <th></th>\n",
       "      <th>timestamp</th>\n",
       "      <th>value</th>\n",
       "      <th>score</th>\n",
       "    </tr>\n",
       "  </thead>\n",
       "  <tbody>\n",
       "    <tr>\n",
       "      <th>3111</th>\n",
       "      <td>2021-01-08 00:30:16</td>\n",
       "      <td>9.90</td>\n",
       "      <td>1.304372</td>\n",
       "    </tr>\n",
       "    <tr>\n",
       "      <th>3112</th>\n",
       "      <td>2021-01-08 00:33:16</td>\n",
       "      <td>9.88</td>\n",
       "      <td>1.328662</td>\n",
       "    </tr>\n",
       "    <tr>\n",
       "      <th>3113</th>\n",
       "      <td>2021-01-08 00:36:16</td>\n",
       "      <td>9.93</td>\n",
       "      <td>1.308510</td>\n",
       "    </tr>\n",
       "    <tr>\n",
       "      <th>3115</th>\n",
       "      <td>2021-01-08 00:42:16</td>\n",
       "      <td>9.87</td>\n",
       "      <td>1.341409</td>\n",
       "    </tr>\n",
       "    <tr>\n",
       "      <th>3116</th>\n",
       "      <td>2021-01-08 00:45:16</td>\n",
       "      <td>9.86</td>\n",
       "      <td>1.337812</td>\n",
       "    </tr>\n",
       "    <tr>\n",
       "      <th>...</th>\n",
       "      <td>...</td>\n",
       "      <td>...</td>\n",
       "      <td>...</td>\n",
       "    </tr>\n",
       "    <tr>\n",
       "      <th>99485</th>\n",
       "      <td>2021-07-30 12:14:22</td>\n",
       "      <td>40.86</td>\n",
       "      <td>1.769255</td>\n",
       "    </tr>\n",
       "    <tr>\n",
       "      <th>99486</th>\n",
       "      <td>2021-07-30 12:17:23</td>\n",
       "      <td>40.76</td>\n",
       "      <td>1.694751</td>\n",
       "    </tr>\n",
       "    <tr>\n",
       "      <th>99487</th>\n",
       "      <td>2021-07-30 12:20:22</td>\n",
       "      <td>40.69</td>\n",
       "      <td>1.682242</td>\n",
       "    </tr>\n",
       "    <tr>\n",
       "      <th>99488</th>\n",
       "      <td>2021-07-30 12:23:23</td>\n",
       "      <td>39.84</td>\n",
       "      <td>1.416459</td>\n",
       "    </tr>\n",
       "    <tr>\n",
       "      <th>99489</th>\n",
       "      <td>2021-07-30 12:26:23</td>\n",
       "      <td>39.58</td>\n",
       "      <td>1.332833</td>\n",
       "    </tr>\n",
       "  </tbody>\n",
       "</table>\n",
       "<p>1715 rows × 3 columns</p>\n",
       "</div>"
      ],
      "text/plain": [
       "                 timestamp  value     score\n",
       "3111   2021-01-08 00:30:16   9.90  1.304372\n",
       "3112   2021-01-08 00:33:16   9.88  1.328662\n",
       "3113   2021-01-08 00:36:16   9.93  1.308510\n",
       "3115   2021-01-08 00:42:16   9.87  1.341409\n",
       "3116   2021-01-08 00:45:16   9.86  1.337812\n",
       "...                    ...    ...       ...\n",
       "99485  2021-07-30 12:14:22  40.86  1.769255\n",
       "99486  2021-07-30 12:17:23  40.76  1.694751\n",
       "99487  2021-07-30 12:20:22  40.69  1.682242\n",
       "99488  2021-07-30 12:23:23  39.84  1.416459\n",
       "99489  2021-07-30 12:26:23  39.58  1.332833\n",
       "\n",
       "[1715 rows x 3 columns]"
      ]
     },
     "execution_count": 128,
     "metadata": {},
     "output_type": "execute_result"
    }
   ],
   "source": [
    "score_mean = taxi_data[\"score\"].mean()\n",
    "score_std = taxi_data[\"score\"].std()\n",
    "score_cutoff = score_mean + 3 * score_std\n",
    "\n",
    "anomalies = taxi_data_subset[taxi_data_subset[\"score\"] > score_cutoff]\n",
    "anomalies"
   ]
  },
  {
   "cell_type": "markdown",
   "metadata": {},
   "source": [
    "The following is a list of known anomalous events which occurred in New York City within this timeframe:\n",
    "\n",
    "* `2014-11-02` - NYC Marathon\n",
    "* `2015-01-01` - New Year's Eve\n",
    "* `2015-01-27` - Snowstorm\n",
    "\n",
    "Note that our algorithm managed to capture these events along with quite a few others. Below we add these anomalies to the score plot."
   ]
  },
  {
   "cell_type": "code",
   "execution_count": 129,
   "metadata": {},
   "outputs": [
    {
     "data": {
      "text/plain": [
       "1715"
      ]
     },
     "execution_count": 129,
     "metadata": {},
     "output_type": "execute_result"
    }
   ],
   "source": [
    "len(anomalies.score)"
   ]
  },
  {
   "cell_type": "code",
   "execution_count": 130,
   "metadata": {},
   "outputs": [
    {
     "data": {
      "image/png": "[encoded data removed]",
      "text/plain": [
       "<Figure size 1000x400 with 2 Axes>"
      ]
     },
     "execution_count": 130,
     "metadata": {},
     "output_type": "execute_result"
    }
   ],
   "source": [
    "ax2.plot(anomalies.index, anomalies.score, \"ko\")\n",
    "fig"
   ]
  },
  {
   "cell_type": "markdown",
   "metadata": {},
   "source": [
    "With the current hyperparameter choices we see that the three-standard-deviation threshold, while able to capture the known anomalies as well as the ones apparent in the ridership plot, is rather sensitive to fine-grained peruturbations and anomalous behavior. Adding trees to the SageMaker RCF model could smooth out the results as well as using a larger data set."
   ]
  },
  {
   "cell_type": "markdown",
   "metadata": {},
   "source": [
    "## Stop and Delete the Endpoint\n",
    "\n",
    "Finally, we should delete the endpoint before we close the notebook.\n",
    "\n",
    "To do so execute the cell below. Alternately, you can navigate to the \"Endpoints\" tab in the SageMaker console, select the endpoint with the name stored in the variable `endpoint_name`, and select \"Delete\" from the \"Actions\" dropdown menu. "
   ]
  },
  {
   "cell_type": "code",
   "execution_count": 91,
   "metadata": {},
   "outputs": [
    {
     "name": "stderr",
     "output_type": "stream",
     "text": [
      "The endpoint attribute has been renamed in sagemaker>=2.\n",
      "See: https://sagemaker.readthedocs.io/en/stable/v2.html for details.\n"
     ]
    }
   ],
   "source": [
    "sagemaker.Session().delete_endpoint(rcf_inference.endpoint)"
   ]
  },
  {
   "cell_type": "markdown",
   "metadata": {},
   "source": [
    "# Epilogue\n",
    "\n",
    "---\n",
    "\n",
    "We used Amazon SageMaker Random Cut Forest to detect anomalous datapoints in a taxi ridership dataset. In these data the anomalies occurred when ridership was uncharacteristically high or low. However, the RCF algorithm is also capable of detecting when, for example, data breaks periodicity or uncharacteristically changes global behavior.\n",
    "\n",
    "Depending on the kind of data you have there are several ways to improve algorithm performance. One method, for example, is to use an appropriate training set. If you know that a particular set of data is characteristic of \"normal\" behavior then training on said set of data will more accurately characterize \"abnormal\" data.\n",
    "\n",
    "Another improvement is make use of a windowing technique called \"shingling\". This is especially useful when working with periodic data with known period, such as the NYC taxi dataset used above. The idea is to treat a period of $P$ datapoints as a single datapoint of feature length $P$ and then run the RCF algorithm on these feature vectors. That is, if our original data consists of points $x_1, x_2, \\ldots, x_N \\in \\mathbb{R}$ then we perform the transformation,\n",
    "\n",
    "```\n",
    "data = [[x_1],            shingled_data = [[x_1, x_2, ..., x_{P}],\n",
    "        [x_2],    --->                     [x_2, x_3, ..., x_{P+1}],\n",
    "        ...                                ...\n",
    "        [x_N]]                             [x_{N-P}, ..., x_{N}]]\n",
    "\n",
    "```"
   ]
  },
  {
   "cell_type": "code",
   "execution_count": 204,
   "metadata": {},
   "outputs": [
    {
     "data": {
      "text/html": [
       "<div>\n",
       "<style scoped>\n",
       "    .dataframe tbody tr th:only-of-type {\n",
       "        vertical-align: middle;\n",
       "    }\n",
       "\n",
       "    .dataframe tbody tr th {\n",
       "        vertical-align: top;\n",
       "    }\n",
       "\n",
       "    .dataframe thead th {\n",
       "        text-align: right;\n",
       "    }\n",
       "</style>\n",
       "<table border=\"1\" class=\"dataframe\">\n",
       "  <thead>\n",
       "    <tr style=\"text-align: right;\">\n",
       "      <th></th>\n",
       "      <th>timestamp</th>\n",
       "      <th>value</th>\n",
       "      <th>score</th>\n",
       "    </tr>\n",
       "  </thead>\n",
       "  <tbody>\n",
       "    <tr>\n",
       "      <th>0</th>\n",
       "      <td>2021-01-01 08:02:22</td>\n",
       "      <td>13.66</td>\n",
       "      <td>1.010138</td>\n",
       "    </tr>\n",
       "    <tr>\n",
       "      <th>1</th>\n",
       "      <td>2021-01-01 08:05:21</td>\n",
       "      <td>13.72</td>\n",
       "      <td>0.998418</td>\n",
       "    </tr>\n",
       "    <tr>\n",
       "      <th>2</th>\n",
       "      <td>2021-01-01 08:08:21</td>\n",
       "      <td>13.75</td>\n",
       "      <td>0.995754</td>\n",
       "    </tr>\n",
       "    <tr>\n",
       "      <th>3</th>\n",
       "      <td>2021-01-01 08:11:21</td>\n",
       "      <td>13.77</td>\n",
       "      <td>0.984190</td>\n",
       "    </tr>\n",
       "    <tr>\n",
       "      <th>4</th>\n",
       "      <td>2021-01-01 08:14:21</td>\n",
       "      <td>13.77</td>\n",
       "      <td>0.984190</td>\n",
       "    </tr>\n",
       "    <tr>\n",
       "      <th>...</th>\n",
       "      <td>...</td>\n",
       "      <td>...</td>\n",
       "      <td>...</td>\n",
       "    </tr>\n",
       "    <tr>\n",
       "      <th>99995</th>\n",
       "      <td>2021-07-31 16:28:42</td>\n",
       "      <td>27.04</td>\n",
       "      <td>0.738877</td>\n",
       "    </tr>\n",
       "    <tr>\n",
       "      <th>99996</th>\n",
       "      <td>2021-07-31 16:31:41</td>\n",
       "      <td>27.08</td>\n",
       "      <td>0.742599</td>\n",
       "    </tr>\n",
       "    <tr>\n",
       "      <th>99997</th>\n",
       "      <td>2021-07-31 16:34:42</td>\n",
       "      <td>27.08</td>\n",
       "      <td>0.742599</td>\n",
       "    </tr>\n",
       "    <tr>\n",
       "      <th>99998</th>\n",
       "      <td>2021-07-31 16:37:42</td>\n",
       "      <td>27.02</td>\n",
       "      <td>0.742218</td>\n",
       "    </tr>\n",
       "    <tr>\n",
       "      <th>99999</th>\n",
       "      <td>2021-07-31 16:40:42</td>\n",
       "      <td>27.03</td>\n",
       "      <td>0.737903</td>\n",
       "    </tr>\n",
       "  </tbody>\n",
       "</table>\n",
       "<p>100000 rows × 3 columns</p>\n",
       "</div>"
      ],
      "text/plain": [
       "                 timestamp  value     score\n",
       "0      2021-01-01 08:02:22  13.66  1.010138\n",
       "1      2021-01-01 08:05:21  13.72  0.998418\n",
       "2      2021-01-01 08:08:21  13.75  0.995754\n",
       "3      2021-01-01 08:11:21  13.77  0.984190\n",
       "4      2021-01-01 08:14:21  13.77  0.984190\n",
       "...                    ...    ...       ...\n",
       "99995  2021-07-31 16:28:42  27.04  0.738877\n",
       "99996  2021-07-31 16:31:41  27.08  0.742599\n",
       "99997  2021-07-31 16:34:42  27.08  0.742599\n",
       "99998  2021-07-31 16:37:42  27.02  0.742218\n",
       "99999  2021-07-31 16:40:42  27.03  0.737903\n",
       "\n",
       "[100000 rows x 3 columns]"
      ]
     },
     "execution_count": 204,
     "metadata": {},
     "output_type": "execute_result"
    }
   ],
   "source": [
    "taxi_data"
   ]
  },
  {
   "cell_type": "code",
   "execution_count": 206,
   "metadata": {},
   "outputs": [
    {
     "data": {
      "text/plain": [
       "array([13.66, 13.72, 13.75, ..., 27.08, 27.02, 27.03], dtype=object)"
      ]
     },
     "execution_count": 206,
     "metadata": {},
     "output_type": "execute_result"
    }
   ],
   "source": [
    "taxi_data.values[:,1]"
   ]
  },
  {
   "cell_type": "code",
   "execution_count": 211,
   "metadata": {},
   "outputs": [
    {
     "name": "stdout",
     "output_type": "stream",
     "text": [
      "[[13.66 13.72 13.75 ... 20.31 20.32 20.42]\n",
      " [13.72 13.75 13.77 ... 20.32 20.42 20.49]\n",
      " [13.75 13.77 13.77 ... 20.42 20.49 20.76]\n",
      " ...\n",
      " [33.46 33.31 33.01 ... 27.14 27.04 27.08]\n",
      " [33.31 33.01 32.8  ... 27.04 27.08 27.08]\n",
      " [33.01 32.8  32.62 ... 27.08 27.08 27.02]]\n"
     ]
    }
   ],
   "source": [
    "import numpy as np\n",
    "\n",
    "\n",
    "def shingle(data, shingle_size):\n",
    "    num_data = len(data)\n",
    "    shingled_data = np.zeros((num_data - shingle_size, shingle_size))\n",
    "\n",
    "    for n in range(num_data - shingle_size):\n",
    "        shingled_data[n] = data[n : (n + shingle_size)]\n",
    "    return shingled_data\n",
    "\n",
    "\n",
    "# single data with shingle size=48 (one day)\n",
    "#shingle_size = 48\n",
    "#shingle_size = 480\n",
    "shingle_size = 960 #2 day\n",
    "prefix_shingled = \"sagemaker/randomcutforest_shingled\"\n",
    "taxi_data_shingled = shingle(taxi_data.values[:, 1], shingle_size)\n",
    "print(taxi_data_shingled)"
   ]
  },
  {
   "cell_type": "markdown",
   "metadata": {},
   "source": [
    "We create a new training job and and inference endpoint. (Note that we cannot re-use the endpoint created above because it was trained with one-dimensional data.)"
   ]
  },
  {
   "cell_type": "code",
   "execution_count": 213,
   "metadata": {},
   "outputs": [
    {
     "name": "stderr",
     "output_type": "stream",
     "text": [
      "Defaulting to the only supported framework/algorithm version: 1. Ignoring framework/algorithm version: 1.\n",
      "Defaulting to the only supported framework/algorithm version: 1. Ignoring framework/algorithm version: 1.\n"
     ]
    },
    {
     "name": "stdout",
     "output_type": "stream",
     "text": [
      "2021-11-27 09:47:12 Starting - Starting the training job...\n",
      "2021-11-27 09:47:36 Starting - Launching requested ML instancesProfilerReport-1638006432: InProgress\n",
      "......\n",
      "2021-11-27 09:48:36 Starting - Preparing the instances for training......\n",
      "2021-11-27 09:49:37 Downloading - Downloading input data......\n",
      "2021-11-27 09:50:37 Training - Downloading the training image.\u001b[34mDocker entrypoint called with argument(s): train\u001b[0m\n",
      "\u001b[34mRunning default environment configuration script\u001b[0m\n",
      "\u001b[34m[11/27/2021 09:50:49 INFO 140609982166848] Reading default configuration from /opt/amazon/lib/python3.7/site-packages/algorithm/resources/default-conf.json: {'num_samples_per_tree': 256, 'num_trees': 100, 'force_dense': 'true', 'eval_metrics': ['accuracy', 'precision_recall_fscore'], 'epochs': 1, 'mini_batch_size': 1000, '_log_level': 'info', '_kvstore': 'dist_async', '_num_kv_servers': 'auto', '_num_gpus': 'auto', '_tuning_objective_metric': '', '_ftp_port': 8999}\u001b[0m\n",
      "\u001b[34m[11/27/2021 09:50:49 INFO 140609982166848] Merging with provided configuration from /opt/ml/input/config/hyperparameters.json: {'num_trees': '50', 'num_samples_per_tree': '512', 'feature_dim': '960', 'mini_batch_size': '1000'}\u001b[0m\n",
      "\u001b[34m[11/27/2021 09:50:49 INFO 140609982166848] Final configuration: {'num_samples_per_tree': '512', 'num_trees': '50', 'force_dense': 'true', 'eval_metrics': ['accuracy', 'precision_recall_fscore'], 'epochs': 1, 'mini_batch_size': '1000', '_log_level': 'info', '_kvstore': 'dist_async', '_num_kv_servers': 'auto', '_num_gpus': 'auto', '_tuning_objective_metric': '', '_ftp_port': 8999, 'feature_dim': '960'}\u001b[0m\n",
      "\u001b[34m[11/27/2021 09:50:49 WARNING 140609982166848] Loggers have already been setup.\u001b[0m\n",
      "\u001b[34m[11/27/2021 09:50:49 INFO 140609982166848] Launching parameter server for role scheduler\u001b[0m\n",
      "\u001b[34m[11/27/2021 09:50:49 INFO 140609982166848] {'ENVROOT': '/opt/amazon', 'PROTOCOL_BUFFERS_PYTHON_IMPLEMENTATION': 'cpp', 'HOSTNAME': 'ip-10-2-68-214.ec2.internal', 'TRAINING_JOB_NAME': 'randomcutforest-2021-11-27-09-47-12-602', 'NVIDIA_REQUIRE_CUDA': 'cuda>=9.0', 'TRAINING_JOB_ARN': 'arn:aws:sagemaker:us-east-1:241082659383:training-job/randomcutforest-2021-11-27-09-47-12-602', 'AWS_CONTAINER_CREDENTIALS_RELATIVE_URI': '/v2/credentials/60ede68f-2ef1-42e9-ad42-e2588813a4f2', 'CANONICAL_ENVROOT': '/opt/amazon', 'PYTHONUNBUFFERED': 'TRUE', 'NVIDIA_VISIBLE_DEVICES': 'void', 'LD_LIBRARY_PATH': '/opt/amazon/lib/python3.7/site-packages/cv2/../../../../lib:/usr/local/nvidia/lib64:/opt/amazon/lib', 'MXNET_KVSTORE_BIGARRAY_BOUND': '400000000', 'NVIDIA_DRIVER_CAPABILITIES': 'compute,utility', 'AWS_EXECUTION_ENV': 'AWS_ECS_EC2', 'PATH': '/opt/amazon/bin:/usr/local/nvidia/bin:/usr/local/sbin:/usr/local/bin:/usr/sbin:/usr/bin:/sbin:/bin:/opt/amazon/bin:/opt/amazon/bin', 'PWD': '/', 'LANG': 'en_US.utf8', 'SAGEMAKER_METRICS_DIRECTORY': '/opt/ml/output/metrics/sagemaker', 'AWS_REGION': 'us-east-1', 'HOME': '/root', 'SHLVL': '1', 'PROTOCOL_BUFFERS_PYTHON_IMPLEMENTATION_VERSION': '2', 'OMP_NUM_THREADS': '2', 'ECS_CONTAINER_METADATA_URI': 'http://169.254.170.2/v3/82c1be3e-181d-471d-87a9-49f83727f9ba', 'DMLC_INTERFACE': 'eth0', 'ECS_CONTAINER_METADATA_URI_V4': 'http://169.254.170.2/v4/82c1be3e-181d-471d-87a9-49f83727f9ba', 'SAGEMAKER_HTTP_PORT': '8080', 'SAGEMAKER_DATA_PATH': '/opt/ml', 'KMP_DUPLICATE_LIB_OK': 'True', 'KMP_INIT_AT_FORK': 'FALSE'}\u001b[0m\n",
      "\u001b[34m[11/27/2021 09:50:49 INFO 140609982166848] envs={'ENVROOT': '/opt/amazon', 'PROTOCOL_BUFFERS_PYTHON_IMPLEMENTATION': 'cpp', 'HOSTNAME': 'ip-10-2-68-214.ec2.internal', 'TRAINING_JOB_NAME': 'randomcutforest-2021-11-27-09-47-12-602', 'NVIDIA_REQUIRE_CUDA': 'cuda>=9.0', 'TRAINING_JOB_ARN': 'arn:aws:sagemaker:us-east-1:241082659383:training-job/randomcutforest-2021-11-27-09-47-12-602', 'AWS_CONTAINER_CREDENTIALS_RELATIVE_URI': '/v2/credentials/60ede68f-2ef1-42e9-ad42-e2588813a4f2', 'CANONICAL_ENVROOT': '/opt/amazon', 'PYTHONUNBUFFERED': 'TRUE', 'NVIDIA_VISIBLE_DEVICES': 'void', 'LD_LIBRARY_PATH': '/opt/amazon/lib/python3.7/site-packages/cv2/../../../../lib:/usr/local/nvidia/lib64:/opt/amazon/lib', 'MXNET_KVSTORE_BIGARRAY_BOUND': '400000000', 'NVIDIA_DRIVER_CAPABILITIES': 'compute,utility', 'AWS_EXECUTION_ENV': 'AWS_ECS_EC2', 'PATH': '/opt/amazon/bin:/usr/local/nvidia/bin:/usr/local/sbin:/usr/local/bin:/usr/sbin:/usr/bin:/sbin:/bin:/opt/amazon/bin:/opt/amazon/bin', 'PWD': '/', 'LANG': 'en_US.utf8', 'SAGEMAKER_METRICS_DIRECTORY': '/opt/ml/output/metrics/sagemaker', 'AWS_REGION': 'us-east-1', 'HOME': '/root', 'SHLVL': '1', 'PROTOCOL_BUFFERS_PYTHON_IMPLEMENTATION_VERSION': '2', 'OMP_NUM_THREADS': '2', 'ECS_CONTAINER_METADATA_URI': 'http://169.254.170.2/v3/82c1be3e-181d-471d-87a9-49f83727f9ba', 'DMLC_INTERFACE': 'eth0', 'ECS_CONTAINER_METADATA_URI_V4': 'http://169.254.170.2/v4/82c1be3e-181d-471d-87a9-49f83727f9ba', 'SAGEMAKER_HTTP_PORT': '8080', 'SAGEMAKER_DATA_PATH': '/opt/ml', 'KMP_DUPLICATE_LIB_OK': 'True', 'KMP_INIT_AT_FORK': 'FALSE', 'DMLC_ROLE': 'scheduler', 'DMLC_PS_ROOT_URI': '10.2.68.214', 'DMLC_PS_ROOT_PORT': '9000', 'DMLC_NUM_SERVER': '1', 'DMLC_NUM_WORKER': '1'}\u001b[0m\n",
      "\u001b[34m[11/27/2021 09:50:49 INFO 140609982166848] Launching parameter server for role server\u001b[0m\n",
      "\u001b[34m[11/27/2021 09:50:49 INFO 140609982166848] {'ENVROOT': '/opt/amazon', 'PROTOCOL_BUFFERS_PYTHON_IMPLEMENTATION': 'cpp', 'HOSTNAME': 'ip-10-2-68-214.ec2.internal', 'TRAINING_JOB_NAME': 'randomcutforest-2021-11-27-09-47-12-602', 'NVIDIA_REQUIRE_CUDA': 'cuda>=9.0', 'TRAINING_JOB_ARN': 'arn:aws:sagemaker:us-east-1:241082659383:training-job/randomcutforest-2021-11-27-09-47-12-602', 'AWS_CONTAINER_CREDENTIALS_RELATIVE_URI': '/v2/credentials/60ede68f-2ef1-42e9-ad42-e2588813a4f2', 'CANONICAL_ENVROOT': '/opt/amazon', 'PYTHONUNBUFFERED': 'TRUE', 'NVIDIA_VISIBLE_DEVICES': 'void', 'LD_LIBRARY_PATH': '/opt/amazon/lib/python3.7/site-packages/cv2/../../../../lib:/usr/local/nvidia/lib64:/opt/amazon/lib', 'MXNET_KVSTORE_BIGARRAY_BOUND': '400000000', 'NVIDIA_DRIVER_CAPABILITIES': 'compute,utility', 'AWS_EXECUTION_ENV': 'AWS_ECS_EC2', 'PATH': '/opt/amazon/bin:/usr/local/nvidia/bin:/usr/local/sbin:/usr/local/bin:/usr/sbin:/usr/bin:/sbin:/bin:/opt/amazon/bin:/opt/amazon/bin', 'PWD': '/', 'LANG': 'en_US.utf8', 'SAGEMAKER_METRICS_DIRECTORY': '/opt/ml/output/metrics/sagemaker', 'AWS_REGION': 'us-east-1', 'HOME': '/root', 'SHLVL': '1', 'PROTOCOL_BUFFERS_PYTHON_IMPLEMENTATION_VERSION': '2', 'OMP_NUM_THREADS': '2', 'ECS_CONTAINER_METADATA_URI': 'http://169.254.170.2/v3/82c1be3e-181d-471d-87a9-49f83727f9ba', 'DMLC_INTERFACE': 'eth0', 'ECS_CONTAINER_METADATA_URI_V4': 'http://169.254.170.2/v4/82c1be3e-181d-471d-87a9-49f83727f9ba', 'SAGEMAKER_HTTP_PORT': '8080', 'SAGEMAKER_DATA_PATH': '/opt/ml', 'KMP_DUPLICATE_LIB_OK': 'True', 'KMP_INIT_AT_FORK': 'FALSE'}\u001b[0m\n",
      "\u001b[34m[11/27/2021 09:50:49 INFO 140609982166848] envs={'ENVROOT': '/opt/amazon', 'PROTOCOL_BUFFERS_PYTHON_IMPLEMENTATION': 'cpp', 'HOSTNAME': 'ip-10-2-68-214.ec2.internal', 'TRAINING_JOB_NAME': 'randomcutforest-2021-11-27-09-47-12-602', 'NVIDIA_REQUIRE_CUDA': 'cuda>=9.0', 'TRAINING_JOB_ARN': 'arn:aws:sagemaker:us-east-1:241082659383:training-job/randomcutforest-2021-11-27-09-47-12-602', 'AWS_CONTAINER_CREDENTIALS_RELATIVE_URI': '/v2/credentials/60ede68f-2ef1-42e9-ad42-e2588813a4f2', 'CANONICAL_ENVROOT': '/opt/amazon', 'PYTHONUNBUFFERED': 'TRUE', 'NVIDIA_VISIBLE_DEVICES': 'void', 'LD_LIBRARY_PATH': '/opt/amazon/lib/python3.7/site-packages/cv2/../../../../lib:/usr/local/nvidia/lib64:/opt/amazon/lib', 'MXNET_KVSTORE_BIGARRAY_BOUND': '400000000', 'NVIDIA_DRIVER_CAPABILITIES': 'compute,utility', 'AWS_EXECUTION_ENV': 'AWS_ECS_EC2', 'PATH': '/opt/amazon/bin:/usr/local/nvidia/bin:/usr/local/sbin:/usr/local/bin:/usr/sbin:/usr/bin:/sbin:/bin:/opt/amazon/bin:/opt/amazon/bin', 'PWD': '/', 'LANG': 'en_US.utf8', 'SAGEMAKER_METRICS_DIRECTORY': '/opt/ml/output/metrics/sagemaker', 'AWS_REGION': 'us-east-1', 'HOME': '/root', 'SHLVL': '1', 'PROTOCOL_BUFFERS_PYTHON_IMPLEMENTATION_VERSION': '2', 'OMP_NUM_THREADS': '2', 'ECS_CONTAINER_METADATA_URI': 'http://169.254.170.2/v3/82c1be3e-181d-471d-87a9-49f83727f9ba', 'DMLC_INTERFACE': 'eth0', 'ECS_CONTAINER_METADATA_URI_V4': 'http://169.254.170.2/v4/82c1be3e-181d-471d-87a9-49f83727f9ba', 'SAGEMAKER_HTTP_PORT': '8080', 'SAGEMAKER_DATA_PATH': '/opt/ml', 'KMP_DUPLICATE_LIB_OK': 'True', 'KMP_INIT_AT_FORK': 'FALSE', 'DMLC_ROLE': 'server', 'DMLC_PS_ROOT_URI': '10.2.68.214', 'DMLC_PS_ROOT_PORT': '9000', 'DMLC_NUM_SERVER': '1', 'DMLC_NUM_WORKER': '1'}\u001b[0m\n",
      "\u001b[34m[11/27/2021 09:50:49 INFO 140609982166848] Environment: {'ENVROOT': '/opt/amazon', 'PROTOCOL_BUFFERS_PYTHON_IMPLEMENTATION': 'cpp', 'HOSTNAME': 'ip-10-2-68-214.ec2.internal', 'TRAINING_JOB_NAME': 'randomcutforest-2021-11-27-09-47-12-602', 'NVIDIA_REQUIRE_CUDA': 'cuda>=9.0', 'TRAINING_JOB_ARN': 'arn:aws:sagemaker:us-east-1:241082659383:training-job/randomcutforest-2021-11-27-09-47-12-602', 'AWS_CONTAINER_CREDENTIALS_RELATIVE_URI': '/v2/credentials/60ede68f-2ef1-42e9-ad42-e2588813a4f2', 'CANONICAL_ENVROOT': '/opt/amazon', 'PYTHONUNBUFFERED': 'TRUE', 'NVIDIA_VISIBLE_DEVICES': 'void', 'LD_LIBRARY_PATH': '/opt/amazon/lib/python3.7/site-packages/cv2/../../../../lib:/usr/local/nvidia/lib64:/opt/amazon/lib', 'MXNET_KVSTORE_BIGARRAY_BOUND': '400000000', 'NVIDIA_DRIVER_CAPABILITIES': 'compute,utility', 'AWS_EXECUTION_ENV': 'AWS_ECS_EC2', 'PATH': '/opt/amazon/bin:/usr/local/nvidia/bin:/usr/local/sbin:/usr/local/bin:/usr/sbin:/usr/bin:/sbin:/bin:/opt/amazon/bin:/opt/amazon/bin', 'PWD': '/', 'LANG': 'en_US.utf8', 'SAGEMAKER_METRICS_DIRECTORY': '/opt/ml/output/metrics/sagemaker', 'AWS_REGION': 'us-east-1', 'HOME': '/root', 'SHLVL': '1', 'PROTOCOL_BUFFERS_PYTHON_IMPLEMENTATION_VERSION': '2', 'OMP_NUM_THREADS': '2', 'ECS_CONTAINER_METADATA_URI': 'http://169.254.170.2/v3/82c1be3e-181d-471d-87a9-49f83727f9ba', 'DMLC_INTERFACE': 'eth0', 'ECS_CONTAINER_METADATA_URI_V4': 'http://169.254.170.2/v4/82c1be3e-181d-471d-87a9-49f83727f9ba', 'SAGEMAKER_HTTP_PORT': '8080', 'SAGEMAKER_DATA_PATH': '/opt/ml', 'KMP_DUPLICATE_LIB_OK': 'True', 'KMP_INIT_AT_FORK': 'FALSE', 'DMLC_ROLE': 'worker', 'DMLC_PS_ROOT_URI': '10.2.68.214', 'DMLC_PS_ROOT_PORT': '9000', 'DMLC_NUM_SERVER': '1', 'DMLC_NUM_WORKER': '1'}\u001b[0m\n",
      "\u001b[34mProcess 34 is a shell:scheduler.\u001b[0m\n",
      "\u001b[34mProcess 45 is a shell:server.\u001b[0m\n",
      "\u001b[34mProcess 1 is a worker.\u001b[0m\n",
      "\u001b[34m[11/27/2021 09:50:49 INFO 140609982166848] Using default worker.\u001b[0m\n",
      "\u001b[34m[11/27/2021 09:50:49 INFO 140609982166848] Loaded iterator creator application/x-recordio-protobuf for content type ('application/x-recordio-protobuf', '1.0')\u001b[0m\n",
      "\u001b[34m[11/27/2021 09:50:49 INFO 140609982166848] Checkpoint loading and saving are disabled.\u001b[0m\n",
      "\u001b[34m[11/27/2021 09:50:50 INFO 140609982166848] Verifying hyperparamemters...\u001b[0m\n",
      "\u001b[34m[11/27/2021 09:50:50 INFO 140609982166848] Hyperparameters are correct.\u001b[0m\n",
      "\u001b[34m[11/27/2021 09:50:50 INFO 140609982166848] Validating that feature_dim agrees with dimensions in training data...\u001b[0m\n",
      "\u001b[34m[11/27/2021 09:50:50 INFO 140609982166848] feature_dim is correct.\u001b[0m\n",
      "\u001b[34m[11/27/2021 09:50:50 INFO 140609982166848] Validating memory limits...\u001b[0m\n",
      "\u001b[34m[11/27/2021 09:50:50 INFO 140609982166848] Available memory in bytes: 15113723904\u001b[0m\n",
      "\u001b[34m[11/27/2021 09:50:50 INFO 140609982166848] Estimated sample size in bytes: 393216000\u001b[0m\n",
      "\u001b[34m[11/27/2021 09:50:50 INFO 140609982166848] Estimated memory needed to build the forest in bytes: 983040000\u001b[0m\n",
      "\u001b[34m[11/27/2021 09:50:50 INFO 140609982166848] Memory limits validated.\u001b[0m\n",
      "\u001b[34m[11/27/2021 09:50:50 INFO 140609982166848] Starting cluster sharing facilities...\u001b[0m\n",
      "\u001b[34m[11/27/2021 09:50:50 INFO 140609982166848] Create Store: dist_async\u001b[0m\n",
      "\u001b[34m[I 21-11-27 09:50:50] >>> starting FTP server on 0.0.0.0:8999, pid=1 <<<\u001b[0m\n",
      "\u001b[34m[11/27/2021 09:50:50 INFO 140608521893632] >>> starting FTP server on 0.0.0.0:8999, pid=1 <<<\u001b[0m\n",
      "\u001b[34m[I 21-11-27 09:50:50] poller: <class 'pyftpdlib.ioloop.Epoll'>\u001b[0m\n",
      "\u001b[34m[11/27/2021 09:50:50 INFO 140608521893632] poller: <class 'pyftpdlib.ioloop.Epoll'>\u001b[0m\n",
      "\u001b[34m[I 21-11-27 09:50:50] masquerade (NAT) address: None\u001b[0m\n",
      "\u001b[34m[11/27/2021 09:50:50 INFO 140608521893632] masquerade (NAT) address: None\u001b[0m\n",
      "\u001b[34m[I 21-11-27 09:50:50] passive ports: None\u001b[0m\n",
      "\u001b[34m[11/27/2021 09:50:50 INFO 140608521893632] passive ports: None\u001b[0m\n",
      "\u001b[34m[I 21-11-27 09:50:50] use sendfile(2): True\u001b[0m\n",
      "\u001b[34m[11/27/2021 09:50:50 INFO 140608521893632] use sendfile(2): True\u001b[0m\n",
      "\u001b[34m[11/27/2021 09:50:51 INFO 140609982166848] Cluster sharing facilities started.\u001b[0m\n",
      "\u001b[34m[11/27/2021 09:50:51 INFO 140609982166848] Verifying all workers are accessible...\u001b[0m\n",
      "\u001b[34m[11/27/2021 09:50:51 INFO 140609982166848] All workers accessible.\u001b[0m\n",
      "\u001b[34m[11/27/2021 09:50:51 INFO 140609982166848] Initializing Sampler...\u001b[0m\n",
      "\u001b[34m[11/27/2021 09:50:51 INFO 140609982166848] Sampler correctly initialized.\u001b[0m\n",
      "\u001b[34m#metrics {\"StartTime\": 1638006649.9758706, \"EndTime\": 1638006651.3331099, \"Dimensions\": {\"Algorithm\": \"RandomCutForest\", \"Host\": \"algo-1\", \"Operation\": \"training\"}, \"Metrics\": {\"initialize.time\": {\"sum\": 1327.256679534912, \"count\": 1, \"min\": 1327.256679534912, \"max\": 1327.256679534912}}}\u001b[0m\n",
      "\u001b[34m#metrics {\"StartTime\": 1638006651.3333209, \"EndTime\": 1638006651.3333771, \"Dimensions\": {\"Algorithm\": \"RandomCutForest\", \"Host\": \"algo-1\", \"Operation\": \"training\", \"Meta\": \"init_train_data_iter\"}, \"Metrics\": {\"Total Records Seen\": {\"sum\": 0.0, \"count\": 1, \"min\": 0, \"max\": 0}, \"Total Batches Seen\": {\"sum\": 0.0, \"count\": 1, \"min\": 0, \"max\": 0}, \"Max Records Seen Between Resets\": {\"sum\": 0.0, \"count\": 1, \"min\": 0, \"max\": 0}, \"Max Batches Seen Between Resets\": {\"sum\": 0.0, \"count\": 1, \"min\": 0, \"max\": 0}, \"Reset Count\": {\"sum\": 0.0, \"count\": 1, \"min\": 0, \"max\": 0}, \"Number of Records Since Last Reset\": {\"sum\": 0.0, \"count\": 1, \"min\": 0, \"max\": 0}, \"Number of Batches Since Last Reset\": {\"sum\": 0.0, \"count\": 1, \"min\": 0, \"max\": 0}}}\u001b[0m\n",
      "\u001b[34m[2021-11-27 09:50:51.342] [tensorio] [info] epoch_stats={\"data_pipeline\": \"/opt/ml/input/data/train\", \"epoch\": 0, \"duration\": 1366, \"num_examples\": 1, \"num_bytes\": 7708000}\u001b[0m\n",
      "\u001b[34m[11/27/2021 09:50:51 INFO 140609982166848] Sampling training data...\u001b[0m\n"
     ]
    },
    {
     "name": "stdout",
     "output_type": "stream",
     "text": [
      "\u001b[34m[2021-11-27 09:50:53.648] [tensorio] [info] epoch_stats={\"data_pipeline\": \"/opt/ml/input/data/train\", \"epoch\": 1, \"duration\": 2305, \"num_examples\": 100, \"num_bytes\": 763400320}\u001b[0m\n",
      "\u001b[34m[11/27/2021 09:50:53 INFO 140609982166848] Sampling training data completed.\u001b[0m\n",
      "\u001b[34m#metrics {\"StartTime\": 1638006651.333257, \"EndTime\": 1638006653.9974246, \"Dimensions\": {\"Algorithm\": \"RandomCutForest\", \"Host\": \"algo-1\", \"Operation\": \"training\"}, \"Metrics\": {\"epochs\": {\"sum\": 1.0, \"count\": 1, \"min\": 1, \"max\": 1}, \"update.time\": {\"sum\": 2654.5379161834717, \"count\": 1, \"min\": 2654.5379161834717, \"max\": 2654.5379161834717}}}\u001b[0m\n",
      "\u001b[34m[11/27/2021 09:50:53 INFO 140609982166848] Early stop condition met. Stopping training.\u001b[0m\n",
      "\u001b[34m[11/27/2021 09:50:53 INFO 140609982166848] #progress_metric: host=algo-1, completed 100 % epochs\u001b[0m\n",
      "\u001b[34m#metrics {\"StartTime\": 1638006651.3428426, \"EndTime\": 1638006653.9979017, \"Dimensions\": {\"Algorithm\": \"RandomCutForest\", \"Host\": \"algo-1\", \"Operation\": \"training\", \"epoch\": 0, \"Meta\": \"training_data_iter\"}, \"Metrics\": {\"Total Records Seen\": {\"sum\": 99040.0, \"count\": 1, \"min\": 99040, \"max\": 99040}, \"Total Batches Seen\": {\"sum\": 100.0, \"count\": 1, \"min\": 100, \"max\": 100}, \"Max Records Seen Between Resets\": {\"sum\": 99040.0, \"count\": 1, \"min\": 99040, \"max\": 99040}, \"Max Batches Seen Between Resets\": {\"sum\": 100.0, \"count\": 1, \"min\": 100, \"max\": 100}, \"Reset Count\": {\"sum\": 1.0, \"count\": 1, \"min\": 1, \"max\": 1}, \"Number of Records Since Last Reset\": {\"sum\": 99040.0, \"count\": 1, \"min\": 99040, \"max\": 99040}, \"Number of Batches Since Last Reset\": {\"sum\": 100.0, \"count\": 1, \"min\": 100, \"max\": 100}}}\u001b[0m\n",
      "\u001b[34m[11/27/2021 09:50:53 INFO 140609982166848] #throughput_metric: host=algo-1, train throughput=37299.808847892 records/second\u001b[0m\n",
      "\u001b[34m[11/27/2021 09:50:53 INFO 140609982166848] Master node: building Random Cut Forest...\u001b[0m\n",
      "\u001b[34m[11/27/2021 09:50:53 INFO 140609982166848] Gathering samples...\u001b[0m\n",
      "\u001b[34m[11/27/2021 09:50:54 INFO 140609982166848] 25600 samples gathered\u001b[0m\n",
      "\u001b[34m[11/27/2021 09:50:54 INFO 140609982166848] Building Random Cut Forest...\u001b[0m\n",
      "\u001b[34m[11/27/2021 09:50:56 INFO 140609982166848] Random Cut Forest built: \u001b[0m\n",
      "\u001b[34mForestInfo{num_trees: 50, num_samples_in_forest: 25600, num_samples_per_tree: 512, sample_dim: 960, shingle_size: 1, trees_num_nodes: [995, 991, 997, 981, 989, 989, 1003, 983, 989, 987, 993, 993, 991, 989, 989, 979, 983, 983, 1005, 985, 989, 991, 991, 991, 997, 985, 999, 981, 991, 1001, 993, 987, 991, 987, 999, 987, 1001, 989, 989, 993, 997, 985, 995, 991, 997, 987, 991, 989, 999, 973, ], trees_depth: [26, 31, 25, 29, 24, 33, 26, 26, 29, 24, 24, 30, 24, 25, 25, 28, 26, 23, 30, 24, 23, 25, 28, 26, 31, 22, 27, 29, 32, 24, 30, 35, 27, 29, 28, 25, 28, 35, 30, 32, 22, 29, 28, 30, 30, 27, 30, 33, 29, 28, ], max_num_nodes: 1005, min_num_nodes: 973, avg_num_nodes: 990, max_tree_depth: 35, min_tree_depth: 22, avg_tree_depth: 27, mem_size: 765139888}\u001b[0m\n",
      "\u001b[34m#metrics {\"StartTime\": 1638006653.9975598, \"EndTime\": 1638006656.117467, \"Dimensions\": {\"Algorithm\": \"RandomCutForest\", \"Host\": \"algo-1\", \"Operation\": \"training\"}, \"Metrics\": {\"fit_model.time\": {\"sum\": 2085.0725173950195, \"count\": 1, \"min\": 2085.0725173950195, \"max\": 2085.0725173950195}, \"model.bytes\": {\"sum\": 765139888.0, \"count\": 1, \"min\": 765139888, \"max\": 765139888}, \"finalize.time\": {\"sum\": 2119.0645694732666, \"count\": 1, \"min\": 2119.0645694732666, \"max\": 2119.0645694732666}}}\u001b[0m\n",
      "\n",
      "2021-11-27 09:51:17 Uploading - Uploading generated training model\u001b[34m[11/27/2021 09:51:07 INFO 140609982166848] Master node: Serializing the RandomCutForest model\u001b[0m\n",
      "\u001b[34m#metrics {\"StartTime\": 1638006656.117573, \"EndTime\": 1638006667.6157668, \"Dimensions\": {\"Algorithm\": \"RandomCutForest\", \"Host\": \"algo-1\", \"Operation\": \"training\"}, \"Metrics\": {\"serialize_model.time\": {\"sum\": 11498.130321502686, \"count\": 1, \"min\": 11498.130321502686, \"max\": 11498.130321502686}}}\u001b[0m\n",
      "\u001b[34m[11/27/2021 09:51:07 INFO 140609982166848] Test data is not provided.\u001b[0m\n",
      "\u001b[34m#metrics {\"StartTime\": 1638006667.6158674, \"EndTime\": 1638006667.6160262, \"Dimensions\": {\"Algorithm\": \"RandomCutForest\", \"Host\": \"algo-1\", \"Operation\": \"training\"}, \"Metrics\": {\"setuptime\": {\"sum\": 26.941537857055664, \"count\": 1, \"min\": 26.941537857055664, \"max\": 26.941537857055664}, \"totaltime\": {\"sum\": 17678.15113067627, \"count\": 1, \"min\": 17678.15113067627, \"max\": 17678.15113067627}}}\u001b[0m\n",
      "\n",
      "2021-11-27 09:52:58 Completed - Training job completed\n",
      "Training seconds: 198\n",
      "Billable seconds: 198\n"
     ]
    }
   ],
   "source": [
    "from sagemaker import RandomCutForest\n",
    "session = sagemaker.Session()\n",
    "\n",
    "# specify general training job information\n",
    "rcf = RandomCutForest(\n",
    "    role=execution_role,\n",
    "    instance_count=1,\n",
    "    instance_type=\"ml.m4.xlarge\",\n",
    "    data_location=f\"s3://{bucket}/{prefix_shingled}/\",\n",
    "    output_path=f\"s3://{bucket}/{prefix_shingled}/output\",\n",
    "    num_samples_per_tree=512,\n",
    "    num_trees=50,\n",
    ")\n",
    "\n",
    "# automatically upload the training data to S3 and run the training job\n",
    "rcf.fit(rcf.record_set(taxi_data_shingled))"
   ]
  },
  {
   "cell_type": "code",
   "execution_count": 214,
   "metadata": {},
   "outputs": [],
   "source": [
    "from sagemaker.serializers import CSVSerializer\n",
    "from sagemaker.deserializers import JSONDeserializer"
   ]
  },
  {
   "cell_type": "code",
   "execution_count": 215,
   "metadata": {},
   "outputs": [
    {
     "name": "stderr",
     "output_type": "stream",
     "text": [
      "Defaulting to the only supported framework/algorithm version: 1. Ignoring framework/algorithm version: 1.\n"
     ]
    },
    {
     "name": "stdout",
     "output_type": "stream",
     "text": [
      "---------!"
     ]
    }
   ],
   "source": [
    "\n",
    "\n",
    "rcf_inference = rcf.deploy(initial_instance_count=1, instance_type=\"ml.m4.xlarge\")\n",
    "\n",
    "rcf_inference.serializer = CSVSerializer()\n",
    "rcf_inference.deserializer = JSONDeserializer()"
   ]
  },
  {
   "cell_type": "code",
   "execution_count": 216,
   "metadata": {},
   "outputs": [
    {
     "name": "stdout",
     "output_type": "stream",
     "text": [
      "text/csv ('application/json',)\n"
     ]
    }
   ],
   "source": [
    "print(rcf_inference.content_type, rcf_inference.accept)"
   ]
  },
  {
   "cell_type": "markdown",
   "metadata": {},
   "source": [
    "Using the above inference endpoint we compute the anomaly scores associated with the shingled data."
   ]
  },
  {
   "cell_type": "code",
   "execution_count": 217,
   "metadata": {},
   "outputs": [
    {
     "data": {
      "text/plain": [
       "99040"
      ]
     },
     "execution_count": 217,
     "metadata": {},
     "output_type": "execute_result"
    }
   ],
   "source": [
    "len(taxi_data_shingled)"
   ]
  },
  {
   "cell_type": "code",
   "execution_count": 137,
   "metadata": {},
   "outputs": [],
   "source": [
    "from sagemaker.predictor import Predictor\n",
    "session = sagemaker.Session()\n",
    "rcf_inference = Predictor(endpoint_name='rcf', sagemaker_session=session, \n",
    "                          serializer=CSVSerializer(content_type=\"text/csv\"), deserializer=JSONDeserializer())"
   ]
  },
  {
   "cell_type": "code",
   "execution_count": 218,
   "metadata": {},
   "outputs": [
    {
     "data": {
      "text/plain": [
       "{'scores': [{'score': 0.6509875672},\n",
       "  {'score': 0.6467022523},\n",
       "  {'score': 0.6390394479},\n",
       "  {'score': 0.6324157517},\n",
       "  {'score': 0.6119010379},\n",
       "  {'score': 0.6118597181},\n",
       "  {'score': 0.6101131499},\n",
       "  {'score': 0.6210133634},\n",
       "  {'score': 0.6239253798},\n",
       "  {'score': 0.6237040907},\n",
       "  {'score': 0.6227687797},\n",
       "  {'score': 0.6121318073},\n",
       "  {'score': 0.6120343341},\n",
       "  {'score': 0.6129646865},\n",
       "  {'score': 0.6159258637},\n",
       "  {'score': 0.6160666384},\n",
       "  {'score': 0.612169058},\n",
       "  {'score': 0.6096594974},\n",
       "  {'score': 0.6087177306},\n",
       "  {'score': 0.6085379548},\n",
       "  {'score': 0.6229043074},\n",
       "  {'score': 0.6229759075},\n",
       "  {'score': 0.6183196193},\n",
       "  {'score': 0.6226983778},\n",
       "  {'score': 0.622218335},\n",
       "  {'score': 0.6180911303},\n",
       "  {'score': 0.6237217899},\n",
       "  {'score': 0.6170213709},\n",
       "  {'score': 0.6179747379},\n",
       "  {'score': 0.6119994444},\n",
       "  {'score': 0.6119595898},\n",
       "  {'score': 0.6175287062},\n",
       "  {'score': 0.61517695},\n",
       "  {'score': 0.6168876236},\n",
       "  {'score': 0.6183025454},\n",
       "  {'score': 0.6098002263},\n",
       "  {'score': 0.6124481244},\n",
       "  {'score': 0.6132477928},\n",
       "  {'score': 0.619945035},\n",
       "  {'score': 0.6273248756},\n",
       "  {'score': 0.6221232766},\n",
       "  {'score': 0.627262496},\n",
       "  {'score': 0.6178124526},\n",
       "  {'score': 0.6245503077},\n",
       "  {'score': 0.611835982},\n",
       "  {'score': 0.6146733903},\n",
       "  {'score': 0.6146223039},\n",
       "  {'score': 0.6122747333},\n",
       "  {'score': 0.6128296},\n",
       "  {'score': 0.6144093622},\n",
       "  {'score': 0.6101246021},\n",
       "  {'score': 0.6122013596},\n",
       "  {'score': 0.6142017517},\n",
       "  {'score': 0.6129597413},\n",
       "  {'score': 0.6137362621},\n",
       "  {'score': 0.6161659456},\n",
       "  {'score': 0.6304918462},\n",
       "  {'score': 0.6316860066},\n",
       "  {'score': 0.6336387075},\n",
       "  {'score': 0.6353194406},\n",
       "  {'score': 0.6299401529},\n",
       "  {'score': 0.6251036439},\n",
       "  {'score': 0.6376600322},\n",
       "  {'score': 0.6432390456},\n",
       "  {'score': 0.6347844816},\n",
       "  {'score': 0.639261853},\n",
       "  {'score': 0.6435646788},\n",
       "  {'score': 0.6429489251},\n",
       "  {'score': 0.6447189042},\n",
       "  {'score': 0.6462785266},\n",
       "  {'score': 0.6297810345},\n",
       "  {'score': 0.6382726248},\n",
       "  {'score': 0.6492668945},\n",
       "  {'score': 0.6345164247},\n",
       "  {'score': 0.6473784434},\n",
       "  {'score': 0.6329774786},\n",
       "  {'score': 0.6384426742},\n",
       "  {'score': 0.6412142603},\n",
       "  {'score': 0.6483710076},\n",
       "  {'score': 0.6447698237},\n",
       "  {'score': 0.646878359},\n",
       "  {'score': 0.6326043947},\n",
       "  {'score': 0.6404807873},\n",
       "  {'score': 0.6574012642},\n",
       "  {'score': 0.6575145543},\n",
       "  {'score': 0.6597184599},\n",
       "  {'score': 0.6613747675},\n",
       "  {'score': 0.6599745888},\n",
       "  {'score': 0.6565326097},\n",
       "  {'score': 0.6567183953},\n",
       "  {'score': 0.6500385121},\n",
       "  {'score': 0.6550673014},\n",
       "  {'score': 0.6560815294},\n",
       "  {'score': 0.6546665281},\n",
       "  {'score': 0.6523242603},\n",
       "  {'score': 0.6562840803},\n",
       "  {'score': 0.6615410867},\n",
       "  {'score': 0.6581784521},\n",
       "  {'score': 0.658298983},\n",
       "  {'score': 0.6598512904},\n",
       "  {'score': 0.6667588085},\n",
       "  {'score': 0.6720960758},\n",
       "  {'score': 0.6642728697},\n",
       "  {'score': 0.6661148198},\n",
       "  {'score': 0.6756830274},\n",
       "  {'score': 0.6743747558},\n",
       "  {'score': 0.679507481},\n",
       "  {'score': 0.6792392657},\n",
       "  {'score': 0.6792264622},\n",
       "  {'score': 0.684001867},\n",
       "  {'score': 0.6738413396},\n",
       "  {'score': 0.6652702832},\n",
       "  {'score': 0.6633301659},\n",
       "  {'score': 0.6644676119},\n",
       "  {'score': 0.6583810682},\n",
       "  {'score': 0.6579516443},\n",
       "  {'score': 0.6580804203},\n",
       "  {'score': 0.6546264779},\n",
       "  {'score': 0.6589311652},\n",
       "  {'score': 0.6673312953},\n",
       "  {'score': 0.6595594038},\n",
       "  {'score': 0.672885676},\n",
       "  {'score': 0.6754328247},\n",
       "  {'score': 0.679838017},\n",
       "  {'score': 0.6829841331},\n",
       "  {'score': 0.6830880044},\n",
       "  {'score': 0.7029078267},\n",
       "  {'score': 0.7029091727},\n",
       "  {'score': 0.6940383287},\n",
       "  {'score': 0.6835868069},\n",
       "  {'score': 0.7007377733},\n",
       "  {'score': 0.7048499495},\n",
       "  {'score': 0.6923350371},\n",
       "  {'score': 0.6847923255},\n",
       "  {'score': 0.6993371464},\n",
       "  {'score': 0.6867552916},\n",
       "  {'score': 0.7059476904},\n",
       "  {'score': 0.6955165075},\n",
       "  {'score': 0.6933882058},\n",
       "  {'score': 0.692947499},\n",
       "  {'score': 0.6963992548},\n",
       "  {'score': 0.6919416526},\n",
       "  {'score': 0.6901887821},\n",
       "  {'score': 0.6852749436},\n",
       "  {'score': 0.6850328951},\n",
       "  {'score': 0.684886996},\n",
       "  {'score': 0.6784148608},\n",
       "  {'score': 0.6858322165},\n",
       "  {'score': 0.6897269298},\n",
       "  {'score': 0.6897555062},\n",
       "  {'score': 0.6864842568},\n",
       "  {'score': 0.6838421802},\n",
       "  {'score': 0.6829510754},\n",
       "  {'score': 0.6900302135},\n",
       "  {'score': 0.678281169},\n",
       "  {'score': 0.681512588},\n",
       "  {'score': 0.6810896141},\n",
       "  {'score': 0.6706005754},\n",
       "  {'score': 0.677509593},\n",
       "  {'score': 0.6795571768},\n",
       "  {'score': 0.6885963642},\n",
       "  {'score': 0.6884140207},\n",
       "  {'score': 0.6819126436},\n",
       "  {'score': 0.6798005811},\n",
       "  {'score': 0.6848276857},\n",
       "  {'score': 0.6708001724},\n",
       "  {'score': 0.6830492758},\n",
       "  {'score': 0.6815078555},\n",
       "  {'score': 0.6862639844},\n",
       "  {'score': 0.6852298461},\n",
       "  {'score': 0.68414698},\n",
       "  {'score': 0.686510511},\n",
       "  {'score': 0.6918550832},\n",
       "  {'score': 0.6913190534},\n",
       "  {'score': 0.6964182194},\n",
       "  {'score': 0.6957211693},\n",
       "  {'score': 0.696410563},\n",
       "  {'score': 0.6969530656},\n",
       "  {'score': 0.6934657239},\n",
       "  {'score': 0.6924556474},\n",
       "  {'score': 0.6840157089},\n",
       "  {'score': 0.6810708884},\n",
       "  {'score': 0.6808544261},\n",
       "  {'score': 0.680255664},\n",
       "  {'score': 0.6788675979},\n",
       "  {'score': 0.6719293939},\n",
       "  {'score': 0.6702608934},\n",
       "  {'score': 0.6650380683},\n",
       "  {'score': 0.6683107781},\n",
       "  {'score': 0.6712642383},\n",
       "  {'score': 0.6694903288},\n",
       "  {'score': 0.669250159},\n",
       "  {'score': 0.668134642},\n",
       "  {'score': 0.6679129604},\n",
       "  {'score': 0.6727956411},\n",
       "  {'score': 0.6755204534},\n",
       "  {'score': 0.6678635051},\n",
       "  {'score': 0.6619072316},\n",
       "  {'score': 0.6595580945},\n",
       "  {'score': 0.6615468466},\n",
       "  {'score': 0.6684324783},\n",
       "  {'score': 0.6618717789},\n",
       "  {'score': 0.6676856839},\n",
       "  {'score': 0.6562483086},\n",
       "  {'score': 0.6566479986},\n",
       "  {'score': 0.6587171428},\n",
       "  {'score': 0.6599059768},\n",
       "  {'score': 0.6552486166},\n",
       "  {'score': 0.6493546168},\n",
       "  {'score': 0.6518293249},\n",
       "  {'score': 0.6524556829},\n",
       "  {'score': 0.6524548497},\n",
       "  {'score': 0.6525611019},\n",
       "  {'score': 0.651640032},\n",
       "  {'score': 0.6544001998},\n",
       "  {'score': 0.6528641395},\n",
       "  {'score': 0.6535814486},\n",
       "  {'score': 0.6472015994},\n",
       "  {'score': 0.6667421718},\n",
       "  {'score': 0.6470139926},\n",
       "  {'score': 0.6668876392},\n",
       "  {'score': 0.6687575035},\n",
       "  {'score': 0.6488251412},\n",
       "  {'score': 0.6498655115},\n",
       "  {'score': 0.654200606},\n",
       "  {'score': 0.6542765128},\n",
       "  {'score': 0.6565701218},\n",
       "  {'score': 0.6459392419},\n",
       "  {'score': 0.6574586586},\n",
       "  {'score': 0.6609641524},\n",
       "  {'score': 0.6506049573},\n",
       "  {'score': 0.6614850085},\n",
       "  {'score': 0.6626092279},\n",
       "  {'score': 0.7092778178},\n",
       "  {'score': 0.7069695761},\n",
       "  {'score': 0.7070821837},\n",
       "  {'score': 0.7081578094},\n",
       "  {'score': 0.7080941639},\n",
       "  {'score': 0.7038745453},\n",
       "  {'score': 0.7099958441},\n",
       "  {'score': 0.7150226371},\n",
       "  {'score': 0.7142693992},\n",
       "  {'score': 0.7228906957},\n",
       "  {'score': 0.7350673198},\n",
       "  {'score': 0.7262970951},\n",
       "  {'score': 0.7345887617},\n",
       "  {'score': 0.7224212027},\n",
       "  {'score': 0.7206842501},\n",
       "  {'score': 0.7133593182},\n",
       "  {'score': 0.7119766637},\n",
       "  {'score': 0.7170831088},\n",
       "  {'score': 0.7146679619},\n",
       "  {'score': 0.7194729579},\n",
       "  {'score': 0.7190329448},\n",
       "  {'score': 0.7281750749},\n",
       "  {'score': 0.7179046061},\n",
       "  {'score': 0.7162286042},\n",
       "  {'score': 0.7169175352},\n",
       "  {'score': 0.7185052868},\n",
       "  {'score': 0.726325408},\n",
       "  {'score': 0.7222000137},\n",
       "  {'score': 0.7247189814},\n",
       "  {'score': 0.7285348418},\n",
       "  {'score': 0.7252968581},\n",
       "  {'score': 0.7252775922},\n",
       "  {'score': 0.7254935465},\n",
       "  {'score': 0.7250707897},\n",
       "  {'score': 0.7076225305},\n",
       "  {'score': 0.7091652154},\n",
       "  {'score': 0.7090372754},\n",
       "  {'score': 0.7089671658},\n",
       "  {'score': 0.7032550357},\n",
       "  {'score': 0.6985487527},\n",
       "  {'score': 0.6998308366},\n",
       "  {'score': 0.7064216681},\n",
       "  {'score': 0.6984293778},\n",
       "  {'score': 0.6969523858},\n",
       "  {'score': 0.7013235648},\n",
       "  {'score': 0.6984606783},\n",
       "  {'score': 0.7040824245},\n",
       "  {'score': 0.6970820317},\n",
       "  {'score': 0.6990082588},\n",
       "  {'score': 0.6964316193},\n",
       "  {'score': 0.6995649587},\n",
       "  {'score': 0.6975755129},\n",
       "  {'score': 0.6968459837},\n",
       "  {'score': 0.6955250906},\n",
       "  {'score': 0.6978539406},\n",
       "  {'score': 0.6992637882},\n",
       "  {'score': 0.6923549272},\n",
       "  {'score': 0.687562364},\n",
       "  {'score': 0.7009680048},\n",
       "  {'score': 0.6875762863},\n",
       "  {'score': 0.7051672},\n",
       "  {'score': 0.7003226573},\n",
       "  {'score': 0.6867358546},\n",
       "  {'score': 0.6865993149},\n",
       "  {'score': 0.6863973931},\n",
       "  {'score': 0.6819241098},\n",
       "  {'score': 0.6804359845},\n",
       "  {'score': 0.6819502911},\n",
       "  {'score': 0.6816550552},\n",
       "  {'score': 0.6815645038},\n",
       "  {'score': 0.6814586586},\n",
       "  {'score': 0.6813690986},\n",
       "  {'score': 0.6812678937},\n",
       "  {'score': 0.6787547344},\n",
       "  {'score': 0.6785875131},\n",
       "  {'score': 0.6754307386},\n",
       "  {'score': 0.6692347001},\n",
       "  {'score': 0.6757750363},\n",
       "  {'score': 0.675577196},\n",
       "  {'score': 0.6773771373},\n",
       "  {'score': 0.6737305148},\n",
       "  {'score': 0.6666521722},\n",
       "  {'score': 0.6721839547},\n",
       "  {'score': 0.6751952576},\n",
       "  {'score': 0.679761785},\n",
       "  {'score': 0.6731610254},\n",
       "  {'score': 0.6656952774},\n",
       "  {'score': 0.6652828023},\n",
       "  {'score': 0.6732166145},\n",
       "  {'score': 0.6727408633},\n",
       "  {'score': 0.6706111885},\n",
       "  {'score': 0.6621500796},\n",
       "  {'score': 0.6624687243},\n",
       "  {'score': 0.6709553002},\n",
       "  {'score': 0.6771858906},\n",
       "  {'score': 0.6773439602},\n",
       "  {'score': 0.6839307891},\n",
       "  {'score': 0.6873164071},\n",
       "  {'score': 0.6938272996},\n",
       "  {'score': 0.6977838484},\n",
       "  {'score': 0.6985140603},\n",
       "  {'score': 0.7006595183},\n",
       "  {'score': 0.692356863},\n",
       "  {'score': 0.6948978399},\n",
       "  {'score': 0.6938191322},\n",
       "  {'score': 0.6876544339},\n",
       "  {'score': 0.6814878662},\n",
       "  {'score': 0.6893760288},\n",
       "  {'score': 0.6916920519},\n",
       "  {'score': 0.6748125971},\n",
       "  {'score': 0.6767381226},\n",
       "  {'score': 0.677472594},\n",
       "  {'score': 0.6905830686},\n",
       "  {'score': 0.7033541913},\n",
       "  {'score': 0.7043646594},\n",
       "  {'score': 0.6999058614},\n",
       "  {'score': 0.696206289},\n",
       "  {'score': 0.6963533812},\n",
       "  {'score': 0.7012120916},\n",
       "  {'score': 0.6841751956},\n",
       "  {'score': 0.694552554},\n",
       "  {'score': 0.693575669},\n",
       "  {'score': 0.6808151452},\n",
       "  {'score': 0.674682846},\n",
       "  {'score': 0.6732718225},\n",
       "  {'score': 0.6866590689},\n",
       "  {'score': 0.6699294007},\n",
       "  {'score': 0.6765078637},\n",
       "  {'score': 0.6767542329},\n",
       "  {'score': 0.6776285462},\n",
       "  {'score': 0.6737083248},\n",
       "  {'score': 0.6691996447},\n",
       "  {'score': 0.6853255457},\n",
       "  {'score': 0.6848721616},\n",
       "  {'score': 0.6844292337},\n",
       "  {'score': 0.6911532608},\n",
       "  {'score': 0.6881628638},\n",
       "  {'score': 0.6884193748},\n",
       "  {'score': 0.6789893548},\n",
       "  {'score': 0.6818661763},\n",
       "  {'score': 0.6838530517},\n",
       "  {'score': 0.6839703492},\n",
       "  {'score': 0.6893548423},\n",
       "  {'score': 0.7054722643},\n",
       "  {'score': 0.6931951109},\n",
       "  {'score': 0.7197855939},\n",
       "  {'score': 0.7199949852},\n",
       "  {'score': 0.7284996744},\n",
       "  {'score': 0.737272819},\n",
       "  {'score': 0.736936757},\n",
       "  {'score': 0.7377539474},\n",
       "  {'score': 0.7400521958},\n",
       "  {'score': 0.7400202651},\n",
       "  {'score': 0.7432944493},\n",
       "  {'score': 0.7309326978},\n",
       "  {'score': 0.7308096328},\n",
       "  {'score': 0.7307032153},\n",
       "  {'score': 0.741263727},\n",
       "  {'score': 0.7353832414},\n",
       "  {'score': 0.7135616577},\n",
       "  {'score': 0.7165936223},\n",
       "  {'score': 0.7180714605},\n",
       "  {'score': 0.7262850496},\n",
       "  {'score': 0.7152586895},\n",
       "  {'score': 0.7182243255},\n",
       "  {'score': 0.7183951626},\n",
       "  {'score': 0.7239782076},\n",
       "  {'score': 0.7266680303},\n",
       "  {'score': 0.7261107286},\n",
       "  {'score': 0.7365221354},\n",
       "  {'score': 0.7317406285},\n",
       "  {'score': 0.7343395503},\n",
       "  {'score': 0.734283694},\n",
       "  {'score': 0.7350028965},\n",
       "  {'score': 0.7350129822},\n",
       "  {'score': 0.7297850092},\n",
       "  {'score': 0.7380897182},\n",
       "  {'score': 0.7405210111},\n",
       "  {'score': 0.7377037271},\n",
       "  {'score': 0.7544346346},\n",
       "  {'score': 0.7565174279},\n",
       "  {'score': 0.750364749},\n",
       "  {'score': 0.7432000266},\n",
       "  {'score': 0.7605150744},\n",
       "  {'score': 0.7482454779},\n",
       "  {'score': 0.763592176},\n",
       "  {'score': 0.7582319063},\n",
       "  {'score': 0.75828613},\n",
       "  {'score': 0.759041374},\n",
       "  {'score': 0.7673943468},\n",
       "  {'score': 0.7474710043},\n",
       "  {'score': 0.7375411217},\n",
       "  {'score': 0.742275081},\n",
       "  {'score': 0.7433084688},\n",
       "  {'score': 0.7167362681},\n",
       "  {'score': 0.7185853363},\n",
       "  {'score': 0.7121538992},\n",
       "  {'score': 0.7120941108},\n",
       "  {'score': 0.7090709554},\n",
       "  {'score': 0.6935697505},\n",
       "  {'score': 0.690488208},\n",
       "  {'score': 0.6863484802},\n",
       "  {'score': 0.6832944561},\n",
       "  {'score': 0.7085673893},\n",
       "  {'score': 0.6889206608},\n",
       "  {'score': 0.7215719127},\n",
       "  {'score': 0.7194159829},\n",
       "  {'score': 0.716327116},\n",
       "  {'score': 0.6891684441},\n",
       "  {'score': 0.6838539802},\n",
       "  {'score': 0.6895656178},\n",
       "  {'score': 0.6869285201},\n",
       "  {'score': 0.7202936981},\n",
       "  {'score': 0.7196659922},\n",
       "  {'score': 0.7146362331},\n",
       "  {'score': 0.7034026181},\n",
       "  {'score': 0.7041596121},\n",
       "  {'score': 0.7050084732},\n",
       "  {'score': 0.7077915574},\n",
       "  {'score': 0.7077885367},\n",
       "  {'score': 0.7035355871},\n",
       "  {'score': 0.7072529339},\n",
       "  {'score': 0.6814178111},\n",
       "  {'score': 0.6852491313},\n",
       "  {'score': 0.6809631195},\n",
       "  {'score': 0.6824465251},\n",
       "  {'score': 0.6795023754},\n",
       "  {'score': 0.6791454403},\n",
       "  {'score': 0.6949412353},\n",
       "  {'score': 0.6963945631},\n",
       "  {'score': 0.6939228649},\n",
       "  {'score': 0.694385484},\n",
       "  {'score': 0.6909583253},\n",
       "  {'score': 0.6918949238},\n",
       "  {'score': 0.6852665843},\n",
       "  {'score': 0.6857176552},\n",
       "  {'score': 0.6865974065},\n",
       "  {'score': 0.6826025131},\n",
       "  {'score': 0.6866966823},\n",
       "  {'score': 0.6855585476},\n",
       "  {'score': 0.6813282359},\n",
       "  {'score': 0.6800541125},\n",
       "  {'score': 0.6764128277},\n",
       "  {'score': 0.6527392598},\n",
       "  {'score': 0.6549433899},\n",
       "  {'score': 0.6642328922},\n",
       "  {'score': 0.6616029695},\n",
       "  {'score': 0.6613989798},\n",
       "  {'score': 0.6576238412},\n",
       "  {'score': 0.6511861424},\n",
       "  {'score': 0.6463100574},\n",
       "  {'score': 0.6516465402},\n",
       "  {'score': 0.6486894813},\n",
       "  {'score': 0.6471588778},\n",
       "  {'score': 0.661211168},\n",
       "  {'score': 0.6599141657},\n",
       "  {'score': 0.6588501141},\n",
       "  {'score': 0.6583023685},\n",
       "  {'score': 0.6579283357},\n",
       "  {'score': 0.655546083},\n",
       "  {'score': 0.6707612618},\n",
       "  {'score': 0.6643650433},\n",
       "  {'score': 0.6621510435},\n",
       "  {'score': 0.654233067},\n",
       "  {'score': 0.6497470038},\n",
       "  {'score': 0.6502603658},\n",
       "  {'score': 0.6491048528},\n",
       "  {'score': 0.6529423014},\n",
       "  {'score': 0.6475209709},\n",
       "  {'score': 0.6376830416},\n",
       "  {'score': 0.6383013316},\n",
       "  {'score': 0.6417153313},\n",
       "  {'score': 0.6574383705},\n",
       "  {'score': 0.6634678383},\n",
       "  {'score': 0.6731249513},\n",
       "  {'score': 0.6551525604},\n",
       "  {'score': 0.6535080156},\n",
       "  {'score': 0.6643280042},\n",
       "  {'score': 0.6535914997},\n",
       "  {'score': 0.6582136482},\n",
       "  {'score': 0.6595131881},\n",
       "  {'score': 0.6613152631},\n",
       "  {'score': 0.6515173296},\n",
       "  {'score': 0.6495619221},\n",
       "  {'score': 0.6509867498},\n",
       "  {'score': 0.6496460354},\n",
       "  {'score': 0.6384674676},\n",
       "  {'score': 0.6381680961},\n",
       "  {'score': 0.6382469324},\n",
       "  {'score': 0.6350872047},\n",
       "  {'score': 0.6469303816},\n",
       "  {'score': 0.6501834094},\n",
       "  {'score': 0.665940426},\n",
       "  {'score': 0.6620238553},\n",
       "  {'score': 0.6665960113},\n",
       "  {'score': 0.6605740891},\n",
       "  {'score': 0.6582799334},\n",
       "  {'score': 0.6518079786},\n",
       "  {'score': 0.649037057},\n",
       "  {'score': 0.6509993374},\n",
       "  {'score': 0.6538888129},\n",
       "  {'score': 0.6550121841},\n",
       "  {'score': 0.6565258388},\n",
       "  {'score': 0.669015655},\n",
       "  {'score': 0.6712208358},\n",
       "  {'score': 0.6613433753},\n",
       "  {'score': 0.6630599034},\n",
       "  {'score': 0.6579966773},\n",
       "  {'score': 0.6801159323},\n",
       "  {'score': 0.6776165829},\n",
       "  {'score': 0.6778842041},\n",
       "  {'score': 0.6600626197},\n",
       "  {'score': 0.6751430089},\n",
       "  {'score': 0.6733938387},\n",
       "  {'score': 0.6853306831},\n",
       "  {'score': 0.688592501},\n",
       "  {'score': 0.6846581371},\n",
       "  {'score': 0.6903317179},\n",
       "  {'score': 0.6820293404},\n",
       "  {'score': 0.682729212},\n",
       "  {'score': 0.6798503993},\n",
       "  {'score': 0.6843503989},\n",
       "  {'score': 0.6708679035},\n",
       "  {'score': 0.6698133563},\n",
       "  {'score': 0.6759395307},\n",
       "  {'score': 0.6736421623},\n",
       "  {'score': 0.6676377002},\n",
       "  {'score': 0.6713288172},\n",
       "  {'score': 0.6699465799},\n",
       "  {'score': 0.6708534207},\n",
       "  {'score': 0.6660681227},\n",
       "  {'score': 0.6635393061},\n",
       "  {'score': 0.6722323397},\n",
       "  {'score': 0.6674254558},\n",
       "  {'score': 0.6655354794},\n",
       "  {'score': 0.6657309722},\n",
       "  {'score': 0.6719450345},\n",
       "  {'score': 0.6889976984},\n",
       "  {'score': 0.6796527478},\n",
       "  {'score': 0.679670538},\n",
       "  {'score': 0.7041713063},\n",
       "  {'score': 0.711976004},\n",
       "  {'score': 0.7142209279},\n",
       "  {'score': 0.717215231},\n",
       "  {'score': 0.7141470354},\n",
       "  {'score': 0.6862251487},\n",
       "  {'score': 0.6885812297},\n",
       "  {'score': 0.6875701899},\n",
       "  {'score': 0.6869857312},\n",
       "  {'score': 0.6888282179},\n",
       "  {'score': 0.6885859248},\n",
       "  {'score': 0.6856944873},\n",
       "  {'score': 0.6875058948},\n",
       "  {'score': 0.6930541066},\n",
       "  {'score': 0.7017819617},\n",
       "  {'score': 0.6909080101},\n",
       "  {'score': 0.7042277546},\n",
       "  {'score': 0.7010668308},\n",
       "  {'score': 0.7000052312},\n",
       "  {'score': 0.6848938336},\n",
       "  {'score': 0.6862524715},\n",
       "  {'score': 0.6817257056},\n",
       "  {'score': 0.6819604361},\n",
       "  {'score': 0.6908805897},\n",
       "  {'score': 0.688221827},\n",
       "  {'score': 0.6871163808},\n",
       "  {'score': 0.6679377605},\n",
       "  {'score': 0.6758089856},\n",
       "  {'score': 0.6808016143},\n",
       "  {'score': 0.6747730191},\n",
       "  {'score': 0.6727114881},\n",
       "  {'score': 0.6673961998},\n",
       "  {'score': 0.6716605501},\n",
       "  {'score': 0.6696129795},\n",
       "  {'score': 0.6763459095},\n",
       "  {'score': 0.6748078549},\n",
       "  {'score': 0.6779155889},\n",
       "  {'score': 0.6674004013},\n",
       "  {'score': 0.6712738711},\n",
       "  {'score': 0.6685913448},\n",
       "  {'score': 0.6638077188},\n",
       "  {'score': 0.6608280218},\n",
       "  {'score': 0.6609356585},\n",
       "  {'score': 0.6610212271},\n",
       "  {'score': 0.6798571234},\n",
       "  {'score': 0.6606148087},\n",
       "  {'score': 0.6562158852},\n",
       "  {'score': 0.6589010883},\n",
       "  {'score': 0.6667190118},\n",
       "  {'score': 0.6708896999},\n",
       "  {'score': 0.6733999986},\n",
       "  {'score': 0.6647484664},\n",
       "  {'score': 0.6642691558},\n",
       "  {'score': 0.6450176429},\n",
       "  {'score': 0.6516060565},\n",
       "  {'score': 0.6511589285},\n",
       "  {'score': 0.6476758496},\n",
       "  {'score': 0.6560546944},\n",
       "  {'score': 0.6386873967},\n",
       "  {'score': 0.6410985279},\n",
       "  {'score': 0.6414434046},\n",
       "  {'score': 0.6437064254},\n",
       "  {'score': 0.6469650112},\n",
       "  {'score': 0.6377006494},\n",
       "  {'score': 0.6389297777},\n",
       "  {'score': 0.632992922},\n",
       "  {'score': 0.6334526862},\n",
       "  {'score': 0.6347049176},\n",
       "  {'score': 0.6350418191},\n",
       "  {'score': 0.6384291093},\n",
       "  {'score': 0.6295729808},\n",
       "  {'score': 0.6395787124},\n",
       "  {'score': 0.6447094536},\n",
       "  {'score': 0.6396844713},\n",
       "  {'score': 0.6402943177},\n",
       "  {'score': 0.6517624621},\n",
       "  {'score': 0.6314010041},\n",
       "  {'score': 0.6256499796},\n",
       "  {'score': 0.6255444503},\n",
       "  {'score': 0.6251635349},\n",
       "  {'score': 0.6431265178},\n",
       "  {'score': 0.6430362708},\n",
       "  {'score': 0.6451641593},\n",
       "  {'score': 0.6463355107},\n",
       "  {'score': 0.6461281638},\n",
       "  {'score': 0.6467893477},\n",
       "  {'score': 0.6351215632},\n",
       "  {'score': 0.6332562579},\n",
       "  {'score': 0.6331381033},\n",
       "  {'score': 0.6334587475},\n",
       "  {'score': 0.6333999825},\n",
       "  {'score': 0.6316862805},\n",
       "  {'score': 0.6308366135},\n",
       "  {'score': 0.6467790082},\n",
       "  {'score': 0.6463069966},\n",
       "  {'score': 0.6485600224},\n",
       "  {'score': 0.6473185667},\n",
       "  {'score': 0.6479004679},\n",
       "  {'score': 0.6440880908},\n",
       "  {'score': 0.6420849108},\n",
       "  {'score': 0.6472579622},\n",
       "  {'score': 0.6468197862},\n",
       "  {'score': 0.6419467188},\n",
       "  {'score': 0.6432824952},\n",
       "  {'score': 0.6415477432},\n",
       "  {'score': 0.6469687999},\n",
       "  {'score': 0.6579781926},\n",
       "  {'score': 0.648008223},\n",
       "  {'score': 0.6447820176},\n",
       "  {'score': 0.6432624415},\n",
       "  {'score': 0.6297638308},\n",
       "  {'score': 0.6335157867},\n",
       "  {'score': 0.6331977615},\n",
       "  {'score': 0.6311646325},\n",
       "  {'score': 0.6371757338},\n",
       "  {'score': 0.6373925573},\n",
       "  {'score': 0.6323370423},\n",
       "  {'score': 0.6285977348},\n",
       "  {'score': 0.6214964911},\n",
       "  {'score': 0.6235311262},\n",
       "  {'score': 0.6252430521},\n",
       "  {'score': 0.6501170287},\n",
       "  {'score': 0.6502499645},\n",
       "  {'score': 0.6466217767},\n",
       "  {'score': 0.6434700185},\n",
       "  {'score': 0.6459238915},\n",
       "  {'score': 0.6479848451},\n",
       "  {'score': 0.646299111},\n",
       "  {'score': 0.6436542693},\n",
       "  {'score': 0.6445544575},\n",
       "  {'score': 0.6438179508},\n",
       "  {'score': 0.6360600975},\n",
       "  {'score': 0.6417068728},\n",
       "  {'score': 0.6357966799},\n",
       "  {'score': 0.6355833456},\n",
       "  {'score': 0.6282618858},\n",
       "  {'score': 0.6345939435},\n",
       "  {'score': 0.6295846721},\n",
       "  {'score': 0.6313175844},\n",
       "  {'score': 0.6361553936},\n",
       "  {'score': 0.6356527428},\n",
       "  {'score': 0.6352248857},\n",
       "  {'score': 0.6400617943},\n",
       "  {'score': 0.6247878182},\n",
       "  {'score': 0.6297730045},\n",
       "  {'score': 0.6322168535},\n",
       "  {'score': 0.6348323703},\n",
       "  {'score': 0.6404875278},\n",
       "  {'score': 0.6383733453},\n",
       "  {'score': 0.6462804975},\n",
       "  {'score': 0.6471704566},\n",
       "  {'score': 0.6484636886},\n",
       "  {'score': 0.648121422},\n",
       "  {'score': 0.6558206508},\n",
       "  {'score': 0.6620977425},\n",
       "  {'score': 0.6589691211},\n",
       "  {'score': 0.6563339242},\n",
       "  {'score': 0.6525407021},\n",
       "  {'score': 0.6572599273},\n",
       "  {'score': 0.6547781799},\n",
       "  {'score': 0.653435435},\n",
       "  {'score': 0.6364791306},\n",
       "  {'score': 0.6376713656},\n",
       "  {'score': 0.6367651982},\n",
       "  {'score': 0.6374527469},\n",
       "  {'score': 0.6394235405},\n",
       "  {'score': 0.6199640035},\n",
       "  {'score': 0.6278510275},\n",
       "  {'score': 0.6112805552},\n",
       "  {'score': 0.6056626557},\n",
       "  {'score': 0.6099496739},\n",
       "  {'score': 0.6065311737},\n",
       "  {'score': 0.6117991328},\n",
       "  {'score': 0.6187401834},\n",
       "  {'score': 0.615041207},\n",
       "  {'score': 0.6150586774},\n",
       "  {'score': 0.610590381},\n",
       "  {'score': 0.6075574469},\n",
       "  {'score': 0.6188913238},\n",
       "  {'score': 0.6139798789},\n",
       "  {'score': 0.6159241571},\n",
       "  {'score': 0.6140251925},\n",
       "  {'score': 0.6159482427},\n",
       "  {'score': 0.6207965835},\n",
       "  {'score': 0.614033128},\n",
       "  {'score': 0.6229836452},\n",
       "  {'score': 0.6269523883},\n",
       "  {'score': 0.6269700072},\n",
       "  {'score': 0.6310609658},\n",
       "  {'score': 0.6309996485},\n",
       "  {'score': 0.6215276203},\n",
       "  {'score': 0.6214950875},\n",
       "  {'score': 0.6140228382},\n",
       "  {'score': 0.604975982},\n",
       "  {'score': 0.611106891},\n",
       "  {'score': 0.6111757974},\n",
       "  {'score': 0.6138235106},\n",
       "  {'score': 0.607678168},\n",
       "  {'score': 0.6076161885},\n",
       "  {'score': 0.6115966135},\n",
       "  {'score': 0.6085576337},\n",
       "  {'score': 0.6151587256},\n",
       "  {'score': 0.621090541},\n",
       "  {'score': 0.6233774664},\n",
       "  {'score': 0.6250329526},\n",
       "  {'score': 0.6243322085},\n",
       "  {'score': 0.62010599},\n",
       "  {'score': 0.614100806},\n",
       "  {'score': 0.619417482},\n",
       "  {'score': 0.6058225197},\n",
       "  {'score': 0.6018501825},\n",
       "  {'score': 0.6041341876},\n",
       "  {'score': 0.6163036488},\n",
       "  {'score': 0.6064411071},\n",
       "  {'score': 0.6063017781},\n",
       "  {'score': 0.6064213069},\n",
       "  {'score': 0.6089648254},\n",
       "  {'score': 0.609554103},\n",
       "  {'score': 0.6167463939},\n",
       "  {'score': 0.6215027767},\n",
       "  {'score': 0.6224475467},\n",
       "  {'score': 0.6276098641},\n",
       "  {'score': 0.6333878526},\n",
       "  {'score': 0.6409791081},\n",
       "  {'score': 0.6329669557},\n",
       "  {'score': 0.6321929398},\n",
       "  {'score': 0.6350862805},\n",
       "  {'score': 0.6345399497},\n",
       "  {'score': 0.6445975592},\n",
       "  {'score': 0.6426568643},\n",
       "  {'score': 0.6383872902},\n",
       "  {'score': 0.6399529054},\n",
       "  {'score': 0.6498381653},\n",
       "  {'score': 0.6499704577},\n",
       "  {'score': 0.6498515675},\n",
       "  {'score': 0.6510726553},\n",
       "  {'score': 0.6389049757},\n",
       "  {'score': 0.6226797068},\n",
       "  {'score': 0.6310898539},\n",
       "  {'score': 0.6179827164},\n",
       "  {'score': 0.6161978533},\n",
       "  {'score': 0.6072002927},\n",
       "  {'score': 0.6041574916},\n",
       "  {'score': 0.601571926},\n",
       "  {'score': 0.6023006303},\n",
       "  {'score': 0.6038271295},\n",
       "  {'score': 0.6003069029},\n",
       "  {'score': 0.6156934518},\n",
       "  {'score': 0.6234996395},\n",
       "  {'score': 0.617514733},\n",
       "  {'score': 0.6181053184},\n",
       "  {'score': 0.6173747348},\n",
       "  {'score': 0.6204104781},\n",
       "  {'score': 0.6128363486},\n",
       "  {'score': 0.6114389447},\n",
       "  {'score': 0.6150256524},\n",
       "  {'score': 0.6093084635},\n",
       "  {'score': 0.6078826576},\n",
       "  {'score': 0.5938730902},\n",
       "  {'score': 0.602295851},\n",
       "  {'score': 0.5965982942},\n",
       "  {'score': 0.5943397224},\n",
       "  {'score': 0.5993116647},\n",
       "  {'score': 0.6064579415},\n",
       "  {'score': 0.6073281725},\n",
       "  {'score': 0.6044624569},\n",
       "  {'score': 0.6088661642},\n",
       "  {'score': 0.6181215155},\n",
       "  {'score': 0.6298564295},\n",
       "  {'score': 0.6264485038},\n",
       "  {'score': 0.6239512581},\n",
       "  {'score': 0.6249298653},\n",
       "  {'score': 0.6230992736},\n",
       "  {'score': 0.6269753446},\n",
       "  {'score': 0.6201115364},\n",
       "  {'score': 0.6246471336},\n",
       "  {'score': 0.6253798695},\n",
       "  {'score': 0.6399609811},\n",
       "  {'score': 0.6318735164},\n",
       "  {'score': 0.633150904},\n",
       "  {'score': 0.6259983561},\n",
       "  {'score': 0.6272977281},\n",
       "  {'score': 0.6297368268},\n",
       "  {'score': 0.6194735651},\n",
       "  {'score': 0.6034483706},\n",
       "  {'score': 0.604410041},\n",
       "  {'score': 0.6033727151},\n",
       "  {'score': 0.6080687507},\n",
       "  {'score': 0.6127468036},\n",
       "  {'score': 0.6085729226},\n",
       "  {'score': 0.6064376147},\n",
       "  {'score': 0.6115984227},\n",
       "  {'score': 0.6021987427},\n",
       "  {'score': 0.6052625718},\n",
       "  {'score': 0.6020361129},\n",
       "  {'score': 0.5982676822},\n",
       "  {'score': 0.604179951},\n",
       "  {'score': 0.6114531992},\n",
       "  {'score': 0.6238233074},\n",
       "  {'score': 0.6276496947},\n",
       "  {'score': 0.6258480742},\n",
       "  {'score': 0.6157366979},\n",
       "  {'score': 0.6196541127},\n",
       "  {'score': 0.612682818},\n",
       "  {'score': 0.6175829073},\n",
       "  {'score': 0.6080305996},\n",
       "  {'score': 0.6101576737},\n",
       "  {'score': 0.6160208613},\n",
       "  {'score': 0.6175711692},\n",
       "  {'score': 0.6044094941},\n",
       "  {'score': 0.5996818868},\n",
       "  {'score': 0.6047289288},\n",
       "  {'score': 0.6044303645},\n",
       "  {'score': 0.600064209},\n",
       "  {'score': 0.5998383162},\n",
       "  {'score': 0.6055909659},\n",
       "  {'score': 0.6101023161},\n",
       "  {'score': 0.6209186627},\n",
       "  {'score': 0.6222057464},\n",
       "  {'score': 0.6128874246},\n",
       "  {'score': 0.619137405},\n",
       "  {'score': 0.6172421534},\n",
       "  {'score': 0.621096469},\n",
       "  {'score': 0.6199268822},\n",
       "  {'score': 0.6287948337},\n",
       "  {'score': 0.6311921927},\n",
       "  {'score': 0.6224064166},\n",
       "  {'score': 0.6303639861},\n",
       "  {'score': 0.6343085905},\n",
       "  {'score': 0.6394124564},\n",
       "  {'score': 0.62513161},\n",
       "  {'score': 0.624587404},\n",
       "  {'score': 0.6193616377},\n",
       "  {'score': 0.6160724179},\n",
       "  {'score': 0.6157958794},\n",
       "  {'score': 0.6157187406},\n",
       "  {'score': 0.615842322},\n",
       "  {'score': 0.6151906971},\n",
       "  {'score': 0.6159226635},\n",
       "  {'score': 0.613827764},\n",
       "  {'score': 0.615042929},\n",
       "  {'score': 0.6191075219},\n",
       "  {'score': 0.6138747683},\n",
       "  {'score': 0.6039832875},\n",
       "  {'score': 0.6000034163},\n",
       "  {'score': 0.6215613548},\n",
       "  {'score': 0.6190698244},\n",
       "  {'score': 0.6140142489},\n",
       "  {'score': 0.6215245425},\n",
       "  {'score': 0.6221042543},\n",
       "  {'score': 0.6036253803},\n",
       "  {'score': 0.6041941177},\n",
       "  {'score': 0.6091988302},\n",
       "  {'score': 0.6076322351},\n",
       "  {'score': 0.6039224222},\n",
       "  {'score': 0.617769262},\n",
       "  {'score': 0.6058063319},\n",
       "  {'score': 0.5975278391},\n",
       "  {'score': 0.593111184},\n",
       "  {'score': 0.5970446426},\n",
       "  {'score': 0.5953288871},\n",
       "  {'score': 0.588274671},\n",
       "  {'score': 0.5891592373},\n",
       "  {'score': 0.578043187},\n",
       "  {'score': 0.5803012779},\n",
       "  {'score': 0.5772446109},\n",
       "  {'score': 0.5784802934},\n",
       "  {'score': 0.5804947634},\n",
       "  {'score': 0.5803086391},\n",
       "  {'score': 0.5801579205},\n",
       "  {'score': 0.5791555736},\n",
       "  {'score': 0.577521597},\n",
       "  {'score': 0.5776441862},\n",
       "  {'score': 0.5835630437},\n",
       "  {'score': 0.5916959078},\n",
       "  {'score': 0.5807199271},\n",
       "  {'score': 0.5832959725},\n",
       "  {'score': 0.5839934894},\n",
       "  {'score': 0.5840905405},\n",
       "  {'score': 0.5896835345},\n",
       "  {'score': 0.5893205157},\n",
       "  {'score': 0.586358863},\n",
       "  {'score': 0.5783707875},\n",
       "  {'score': 0.5897378595},\n",
       "  {'score': 0.589794868},\n",
       "  {'score': 0.5830233345},\n",
       "  {'score': 0.5681982487},\n",
       "  {'score': 0.5689808894},\n",
       "  {'score': 0.5647594898},\n",
       "  {'score': 0.5703474213},\n",
       "  {'score': 0.5714922903},\n",
       "  {'score': 0.5699733386},\n",
       "  {'score': 0.562946188},\n",
       "  {'score': 0.5530107505},\n",
       "  {'score': 0.5791094989},\n",
       "  {'score': 0.5756836607},\n",
       "  {'score': 0.5890070662},\n",
       "  {'score': 0.578420353},\n",
       "  {'score': 0.5625853861},\n",
       "  {'score': 0.5623048919},\n",
       "  {'score': 0.5738041329},\n",
       "  {'score': 0.5568116026},\n",
       "  {'score': 0.5614641146},\n",
       "  {'score': 0.5769766128},\n",
       "  {'score': 0.564188631},\n",
       "  {'score': 0.5730313694},\n",
       "  {'score': 0.5719251736},\n",
       "  {'score': 0.5780774831},\n",
       "  {'score': 0.5978620095},\n",
       "  {'score': 0.5931225468},\n",
       "  {'score': 0.6005275782},\n",
       "  {'score': 0.6072091337},\n",
       "  {'score': 0.599383537},\n",
       "  {'score': 0.6203911378},\n",
       "  {'score': 0.583932698},\n",
       "  {'score': 0.5912679067},\n",
       "  {'score': 0.5937049404},\n",
       "  {'score': 0.5824015772},\n",
       "  {'score': 0.5849678139},\n",
       "  {'score': 0.5814901024},\n",
       "  {'score': 0.596602058},\n",
       "  {'score': 0.5906693357},\n",
       "  {'score': 0.5808286617},\n",
       "  {'score': 0.5864910843},\n",
       "  {'score': 0.5807544837},\n",
       "  {'score': 0.5681293329},\n",
       "  {'score': 0.5756234026},\n",
       "  ...]}"
      ]
     },
     "execution_count": 218,
     "metadata": {},
     "output_type": "execute_result"
    }
   ],
   "source": [
    "total = []\n",
    "for i in range(len(taxi_data_shingled)):\n",
    "    one_result = rcf_inference.predict(\n",
    "        taxi_data_shingled[i], initial_args={\"ContentType\": \"text/csv\", \"Accept\": \"application/json\"}\n",
    "    )\n",
    "    result_list = one_result['scores'][0]\n",
    "    total.append(result_list)\n",
    "total\n",
    "results = {}\n",
    "results['scores'] = total\n",
    "results\n",
    "\n"
   ]
  },
  {
   "cell_type": "code",
   "execution_count": 219,
   "metadata": {},
   "outputs": [
    {
     "data": {
      "text/plain": [
       "2805"
      ]
     },
     "execution_count": 219,
     "metadata": {},
     "output_type": "execute_result"
    }
   ],
   "source": [
    "# Score the shingled datapoints\n",
    "#results = rcf_inference.predict(\n",
    "#    taxi_data_shingled, initial_args={\"ContentType\": \"text/csv\", \"Accept\": \"application/json\"}\n",
    "#)\n",
    "\n",
    "scores = np.array([datum[\"score\"] for datum in results[\"scores\"]])\n",
    "\n",
    "# compute the shingled score distribution and cutoff anbugbugd determine anomalous scores\n",
    "score_mean = scores.mean()\n",
    "score_std = scores.std()\n",
    "score_cutoff = score_mean + 3 * score_std\n",
    "\n",
    "anomalies = scores[scores > score_cutoff]\n",
    "anomaly_indices = np.arange(len(scores))[scores > score_cutoff]\n",
    "\n",
    "len(anomalies)"
   ]
  },
  {
   "cell_type": "code",
   "execution_count": 220,
   "metadata": {},
   "outputs": [
    {
     "data": {
      "text/html": [
       "<div>\n",
       "<style scoped>\n",
       "    .dataframe tbody tr th:only-of-type {\n",
       "        vertical-align: middle;\n",
       "    }\n",
       "\n",
       "    .dataframe tbody tr th {\n",
       "        vertical-align: top;\n",
       "    }\n",
       "\n",
       "    .dataframe thead th {\n",
       "        text-align: right;\n",
       "    }\n",
       "</style>\n",
       "<table border=\"1\" class=\"dataframe\">\n",
       "  <thead>\n",
       "    <tr style=\"text-align: right;\">\n",
       "      <th></th>\n",
       "      <th>timestamp</th>\n",
       "      <th>value</th>\n",
       "      <th>score</th>\n",
       "    </tr>\n",
       "  </thead>\n",
       "  <tbody>\n",
       "    <tr>\n",
       "      <th>0</th>\n",
       "      <td>2021-01-01 08:02:22</td>\n",
       "      <td>13.66</td>\n",
       "      <td>1.010138</td>\n",
       "    </tr>\n",
       "    <tr>\n",
       "      <th>1</th>\n",
       "      <td>2021-01-01 08:05:21</td>\n",
       "      <td>13.72</td>\n",
       "      <td>0.998418</td>\n",
       "    </tr>\n",
       "    <tr>\n",
       "      <th>2</th>\n",
       "      <td>2021-01-01 08:08:21</td>\n",
       "      <td>13.75</td>\n",
       "      <td>0.995754</td>\n",
       "    </tr>\n",
       "    <tr>\n",
       "      <th>3</th>\n",
       "      <td>2021-01-01 08:11:21</td>\n",
       "      <td>13.77</td>\n",
       "      <td>0.984190</td>\n",
       "    </tr>\n",
       "    <tr>\n",
       "      <th>4</th>\n",
       "      <td>2021-01-01 08:14:21</td>\n",
       "      <td>13.77</td>\n",
       "      <td>0.984190</td>\n",
       "    </tr>\n",
       "  </tbody>\n",
       "</table>\n",
       "</div>"
      ],
      "text/plain": [
       "             timestamp  value     score\n",
       "0  2021-01-01 08:02:22  13.66  1.010138\n",
       "1  2021-01-01 08:05:21  13.72  0.998418\n",
       "2  2021-01-01 08:08:21  13.75  0.995754\n",
       "3  2021-01-01 08:11:21  13.77  0.984190\n",
       "4  2021-01-01 08:14:21  13.77  0.984190"
      ]
     },
     "execution_count": 220,
     "metadata": {},
     "output_type": "execute_result"
    }
   ],
   "source": [
    "taxi_data.head()"
   ]
  },
  {
   "cell_type": "code",
   "execution_count": 157,
   "metadata": {},
   "outputs": [
    {
     "data": {
      "text/plain": [
       "array([1.21191344, 1.21364108, 1.21741336, ..., 1.7871906 , 1.5712718 ,\n",
       "       1.33363892])"
      ]
     },
     "execution_count": 157,
     "metadata": {},
     "output_type": "execute_result"
    }
   ],
   "source": [
    "anomalies"
   ]
  },
  {
   "cell_type": "code",
   "execution_count": 156,
   "metadata": {},
   "outputs": [
    {
     "data": {
      "text/plain": [
       "array([ 2758,  2759,  2762, ..., 61659, 61660, 61661])"
      ]
     },
     "execution_count": 156,
     "metadata": {},
     "output_type": "execute_result"
    }
   ],
   "source": [
    "anomaly_indices"
   ]
  },
  {
   "cell_type": "markdown",
   "metadata": {},
   "source": [
    "Finally, we plot the scores from the shingled data on top of the original dataset and mark the score lying above the anomaly score threshold."
   ]
  },
  {
   "cell_type": "code",
   "execution_count": 221,
   "metadata": {},
   "outputs": [],
   "source": [
    "%matplotlib inline\n",
    "\n",
    "import matplotlib\n",
    "import matplotlib.pyplot as plt"
   ]
  },
  {
   "cell_type": "code",
   "execution_count": 222,
   "metadata": {},
   "outputs": [],
   "source": [
    "matplotlib.rcParams[\"figure.dpi\"] = 100"
   ]
  },
  {
   "cell_type": "code",
   "execution_count": 179,
   "metadata": {},
   "outputs": [
    {
     "data": {
      "text/plain": [
       "100000"
      ]
     },
     "execution_count": 179,
     "metadata": {},
     "output_type": "execute_result"
    }
   ],
   "source": [
    "len(taxi_data)"
   ]
  },
  {
   "cell_type": "code",
   "execution_count": 223,
   "metadata": {},
   "outputs": [
    {
     "data": {
      "text/plain": [
       "99040"
      ]
     },
     "execution_count": 223,
     "metadata": {},
     "output_type": "execute_result"
    }
   ],
   "source": [
    "len(scores)"
   ]
  },
  {
   "cell_type": "code",
   "execution_count": 224,
   "metadata": {
    "scrolled": true
   },
   "outputs": [
    {
     "data": {
      "image/png": "[encoded data removed]",
      "text/plain": [
       "<Figure size 1500x400 with 2 Axes>"
      ]
     },
     "metadata": {},
     "output_type": "display_data"
    }
   ],
   "source": [
    "fig, ax1 = plt.subplots()\n",
    "ax2 = ax1.twinx()\n",
    "\n",
    "#\n",
    "# *Try this out* - change `start` and `end` to zoom in on the\n",
    "# anomaly found earlier in this notebook\n",
    "#\n",
    "start, end = 0, len(taxi_data)\n",
    "taxi_data_subset = taxi_data[start:end]\n",
    "\n",
    "ax1.plot(taxi_data_subset[\"value\"], color=\"C0\", alpha=0.8)\n",
    "ax2.plot(scores, color=\"C1\")\n",
    "#ax2.scatter(anomaly_indices, anomalies, color=\"k\")\n",
    "\n",
    "ax1.grid(which=\"major\", axis=\"both\")\n",
    "ax1.set_ylabel(\"Taxi Ridership\", color=\"C0\")\n",
    "ax2.set_ylabel(\"Anomaly Score\", color=\"C1\")\n",
    "ax1.tick_params(\"y\", colors=\"C0\")\n",
    "ax2.tick_params(\"y\", colors=\"C1\")\n",
    "ax1.set_ylim(0, 60)\n",
    "#ax2.set_ylim(min(scores), 6 * max(scores))\n",
    "ax2.set_ylim(min(scores), 10)\n",
    "fig.set_figwidth(15)"
   ]
  },
  {
   "cell_type": "code",
   "execution_count": 225,
   "metadata": {},
   "outputs": [
    {
     "data": {
      "image/png": "[encoded data removed]",
      "text/plain": [
       "<Figure size 1500x400 with 2 Axes>"
      ]
     },
     "execution_count": 225,
     "metadata": {},
     "output_type": "execute_result"
    }
   ],
   "source": [
    "ax2.plot(anomaly_indices, anomalies, \"ko\")\n",
    "fig"
   ]
  },
  {
   "cell_type": "markdown",
   "metadata": {},
   "source": [
    "We see that with this particular shingle size, hyperparameter selection, and anomaly cutoff threshold that the shingled approach more clearly captures the major anomalous events: the spike at around t=6000 and the dips at around t=9000 and t=10000. In general, the number of trees, sample size, and anomaly score cutoff are all parameters that a data scientist may need experiment with in order to achieve desired results. The use of a labeled test dataset allows the used to obtain common accuracy metrics for anomaly detection algorithms. For more information about Amazon SageMaker Random Cut Forest see the [AWS Documentation](https://docs.aws.amazon.com/sagemaker/latest/dg/randomcutforest.html)."
   ]
  },
  {
   "cell_type": "code",
   "execution_count": 203,
   "metadata": {},
   "outputs": [
    {
     "data": {
      "text/plain": [
       "array([[ 14.  ,  14.  ,  13.95, ...,   8.07,   8.03,   8.04],\n",
       "       [ 14.  ,  13.95,  13.89, ...,   8.03,   8.04,   8.06],\n",
       "       [ 13.92,  13.92,  13.94, ...,   8.12,   8.12,   8.19],\n",
       "       ...,\n",
       "       [271.48, 271.48, 271.48, ...,  28.15,  28.12,  28.06],\n",
       "       [271.48, 271.48, 271.48, ...,  28.12,  28.06,  28.06],\n",
       "       [271.48, 271.48,  27.33, ...,  28.06,  28.06,  28.03]])"
      ]
     },
     "execution_count": 203,
     "metadata": {},
     "output_type": "execute_result"
    }
   ],
   "source": [
    "taxi_data_shingled[anomaly_indices]"
   ]
  },
  {
   "cell_type": "code",
   "execution_count": 192,
   "metadata": {},
   "outputs": [
    {
     "data": {
      "text/plain": [
       "array([ 2758,  2759,  2762, ..., 61659, 61660, 61661])"
      ]
     },
     "execution_count": 192,
     "metadata": {},
     "output_type": "execute_result"
    }
   ],
   "source": [
    "anomaly_indices\n"
   ]
  },
  {
   "cell_type": "code",
   "execution_count": 191,
   "metadata": {},
   "outputs": [
    {
     "data": {
      "text/plain": [
       "array([1.21191344, 1.21364108, 1.21741336, ..., 1.7871906 , 1.5712718 ,\n",
       "       1.33363892])"
      ]
     },
     "execution_count": 191,
     "metadata": {},
     "output_type": "execute_result"
    }
   ],
   "source": [
    "anomalies"
   ]
  },
  {
   "cell_type": "code",
   "execution_count": 36,
   "metadata": {},
   "outputs": [
    {
     "name": "stderr",
     "output_type": "stream",
     "text": [
      "The endpoint attribute has been renamed in sagemaker>=2.\n",
      "See: https://sagemaker.readthedocs.io/en/stable/v2.html for details.\n"
     ]
    }
   ],
   "source": [
    "sagemaker.Session().delete_endpoint(rcf_inference.endpoint)"
   ]
  },
  {
   "cell_type": "code",
   "execution_count": null,
   "metadata": {},
   "outputs": [],
   "source": []
  }
 ],
 "metadata": {
  "celltoolbar": "Tags",
  "instance_type": "ml.t3.medium",
  "kernelspec": {
   "display_name": "conda_python3",
   "language": "python",
   "name": "conda_python3"
  },
  "language_info": {
   "codemirror_mode": {
    "name": "ipython",
    "version": 3
   },
   "file_extension": ".py",
   "mimetype": "text/x-python",
   "name": "python",
   "nbconvert_exporter": "python",
   "pygments_lexer": "ipython3",
   "version": "3.6.13"
  },
  "notice": "Copyright 2018 Amazon.com, Inc. or its affiliates. All Rights Reserved.  Licensed under the Apache License, Version 2.0 (the \"License\"). You may not use this file except in compliance with the License. A copy of the License is located at http://aws.amazon.com/apache2.0/ or in the \"license\" file accompanying this file. This file is distributed on an \"AS IS\" BASIS, WITHOUT WARRANTIES OR CONDITIONS OF ANY KIND, either express or implied. See the License for the specific language governing permissions and limitations under the License."
 },
 "nbformat": 4,
 "nbformat_minor": 4
}
