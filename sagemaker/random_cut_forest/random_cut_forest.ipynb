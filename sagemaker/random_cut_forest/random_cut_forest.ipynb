{
 "cells": [
  {
   "cell_type": "markdown",
   "metadata": {},
   "source": [
    "# An Introduction to SageMaker Random Cut Forests\n",
    "\n",
    "***Unsupervised anomaly detection on timeseries data a Random Cut Forest algorithm.***\n",
    "\n",
    "---\n",
    "\n",
    "1. [Introduction](#Introduction)\n",
    "1. [Setup](#Setup)\n",
    "1. [Training](#Training)\n",
    "1. [Inference](#Inference)\n",
    "1. [Epilogue](#Epilogue)"
   ]
  },
  {
   "cell_type": "markdown",
   "metadata": {},
   "source": [
    "# Introduction\n",
    "***\n",
    "\n",
    "Amazon SageMaker Random Cut Forest (RCF) is an algorithm designed to detect anomalous data points within a dataset. Examples of when anomalies are important to detect include when website activity uncharactersitically spikes, when temperature data diverges from a periodic behavior, or when changes to public transit ridership reflect the occurrence of a special event.\n",
    "\n",
    "In this notebook, we will use the SageMaker RCF algorithm to train an RCF model on the Numenta Anomaly Benchmark (NAB) NYC Taxi dataset which records the amount New York City taxi ridership over the course of six months. We will then use this model to predict anomalous events by emitting an \"anomaly score\" for each data point. The main goals of this notebook are,\n",
    "\n",
    "* to learn how to obtain, transform, and store data for use in Amazon SageMaker;\n",
    "* to create an AWS SageMaker training job on a data set to produce an RCF model,\n",
    "* use the RCF model to perform inference with an Amazon SageMaker endpoint.\n",
    "\n",
    "The following are ***not*** goals of this notebook:\n",
    "\n",
    "* deeply understand the RCF model,\n",
    "* understand how the Amazon SageMaker RCF algorithm works.\n",
    "\n",
    "If you would like to know more please check out the [SageMaker RCF Documentation](https://docs.aws.amazon.com/sagemaker/latest/dg/randomcutforest.html)."
   ]
  },
  {
   "cell_type": "markdown",
   "metadata": {},
   "source": [
    "# Setup\n",
    "\n",
    "***\n",
    "\n",
    "*This notebook was tested in Amazon SageMaker Studio on a ml.t3.medium instance with Python 3 (Data Science) kernel.*\n",
    "\n",
    "Our first step is to setup our AWS credentials so that AWS SageMaker can store and access training data and model artifacts. We also need some data to inspect and to train upon."
   ]
  },
  {
   "cell_type": "markdown",
   "metadata": {},
   "source": [
    "## Select Amazon S3 Bucket\n",
    "\n",
    "We first need to specify the locations where the original data is stored and where we will store our training data and trained model artifacts. ***This is the only cell of this notebook that you will need to edit.*** In particular, we need the following data:\n",
    "\n",
    "* `bucket` - An S3 bucket accessible by this account.\n",
    "* `prefix` - The location in the bucket where this notebook's input and output data will be stored. (The default value is sufficient.)\n",
    "* `downloaded_data_bucket` - An S3 bucket where data is downloaded from this [link](https://raw.githubusercontent.com/numenta/NAB/master/data/realKnownCause/nyc_taxi.csv) and stored.\n",
    "* `downloaded_data_prefix` - The location in the bucket where the data is stored."
   ]
  },
  {
   "cell_type": "code",
   "execution_count": 1,
   "metadata": {
    "isConfigCell": true,
    "tags": [
     "parameters"
    ]
   },
   "outputs": [
    {
     "name": "stdout",
     "output_type": "stream",
     "text": [
      "Training input/output will be stored in: s3://sagemaker-us-east-1-241082659383/sagemaker/rcf-benchmarks\n",
      "Downloaded training data will be read from s3://sagemaker-sample-files/datasets/tabular/anomaly_benchmark_taxi\n"
     ]
    }
   ],
   "source": [
    "import boto3\n",
    "import botocore\n",
    "import sagemaker\n",
    "import sys\n",
    "\n",
    "\n",
    "bucket = (\n",
    "    sagemaker.Session().default_bucket()\n",
    ")  # Feel free to change to another bucket you have access to\n",
    "prefix = \"sagemaker/rcf-benchmarks\"\n",
    "execution_role = sagemaker.get_execution_role()\n",
    "region = boto3.Session().region_name\n",
    "\n",
    "# S3 bucket where the original data is downloaded and stored.\n",
    "downloaded_data_bucket = f\"sagemaker-sample-files\"\n",
    "downloaded_data_prefix = \"datasets/tabular/anomaly_benchmark_taxi\"\n",
    "\n",
    "\n",
    "def check_bucket_permission(bucket):\n",
    "    # check if the bucket exists\n",
    "    permission = False\n",
    "    try:\n",
    "        boto3.Session().client(\"s3\").head_bucket(Bucket=bucket)\n",
    "    except botocore.exceptions.ParamValidationError as e:\n",
    "        print(\n",
    "            \"Hey! You either forgot to specify your S3 bucket\"\n",
    "            \" or you gave your bucket an invalid name!\"\n",
    "        )\n",
    "    except botocore.exceptions.ClientError as e:\n",
    "        if e.response[\"Error\"][\"Code\"] == \"403\":\n",
    "            print(f\"Hey! You don't have permission to access the bucket, {bucket}.\")\n",
    "        elif e.response[\"Error\"][\"Code\"] == \"404\":\n",
    "            print(f\"Hey! Your bucket, {bucket}, doesn't exist!\")\n",
    "        else:\n",
    "            raise\n",
    "    else:\n",
    "        permission = True\n",
    "    return permission\n",
    "\n",
    "\n",
    "if check_bucket_permission(bucket):\n",
    "    print(f\"Training input/output will be stored in: s3://{bucket}/{prefix}\")\n",
    "if check_bucket_permission(downloaded_data_bucket):\n",
    "    print(\n",
    "        f\"Downloaded training data will be read from s3://{downloaded_data_bucket}/{downloaded_data_prefix}\"\n",
    "    )"
   ]
  },
  {
   "cell_type": "markdown",
   "metadata": {},
   "source": [
    "## Obtain and Inspect Example Data\n",
    "\n",
    "\n",
    "Our data comes from the Numenta Anomaly Benchmark (NAB) NYC Taxi dataset [[1](https://github.com/numenta/NAB/blob/master/data/realKnownCause/nyc_taxi.csv)]. We downloaded data from [here](https://raw.githubusercontent.com/numenta/NAB/master/data/realKnownCause/nyc_taxi.csv) and stored in an S3 bucket. These data consists of the number of New York City taxi passengers over the course of six months aggregated into 30-minute buckets. We know, a priori, that there are anomalous events occurring during the NYC marathon, Thanksgiving, Christmas, New Year's day, and on the day of a snow storm.\n",
    "\n",
    "> [1] https://github.com/numenta/NAB/blob/master/data/realKnownCause/nyc_taxi.csv"
   ]
  },
  {
   "cell_type": "code",
   "execution_count": 3,
   "metadata": {},
   "outputs": [
    {
     "name": "stdout",
     "output_type": "stream",
     "text": [
      "CPU times: user 29.8 ms, sys: 7.73 ms, total: 37.6 ms\n",
      "Wall time: 149 ms\n"
     ]
    }
   ],
   "source": [
    "%%time\n",
    "\n",
    "import pandas as pd\n",
    "\n",
    "data_filename = \"NAB_nyc_taxi.csv\"\n",
    "s3 = boto3.client(\"s3\")\n",
    "s3.download_file(downloaded_data_bucket, f\"{downloaded_data_prefix}/{data_filename}\", data_filename)\n",
    "taxi_data = pd.read_csv(data_filename, delimiter=\",\")"
   ]
  },
  {
   "cell_type": "markdown",
   "metadata": {},
   "source": [
    "Before training any models it is important to inspect our data, first. Perhaps there are some underlying patterns or structures that we could provide as \"hints\" to the model or maybe there is some noise that we could pre-process away. The raw data looks like this:"
   ]
  },
  {
   "cell_type": "code",
   "execution_count": 4,
   "metadata": {},
   "outputs": [
    {
     "data": {
      "text/html": [
       "<div>\n",
       "<style scoped>\n",
       "    .dataframe tbody tr th:only-of-type {\n",
       "        vertical-align: middle;\n",
       "    }\n",
       "\n",
       "    .dataframe tbody tr th {\n",
       "        vertical-align: top;\n",
       "    }\n",
       "\n",
       "    .dataframe thead th {\n",
       "        text-align: right;\n",
       "    }\n",
       "</style>\n",
       "<table border=\"1\" class=\"dataframe\">\n",
       "  <thead>\n",
       "    <tr style=\"text-align: right;\">\n",
       "      <th></th>\n",
       "      <th>timestamp</th>\n",
       "      <th>value</th>\n",
       "    </tr>\n",
       "  </thead>\n",
       "  <tbody>\n",
       "    <tr>\n",
       "      <th>0</th>\n",
       "      <td>2014-07-01 00:00:00</td>\n",
       "      <td>10844</td>\n",
       "    </tr>\n",
       "    <tr>\n",
       "      <th>1</th>\n",
       "      <td>2014-07-01 00:30:00</td>\n",
       "      <td>8127</td>\n",
       "    </tr>\n",
       "    <tr>\n",
       "      <th>2</th>\n",
       "      <td>2014-07-01 01:00:00</td>\n",
       "      <td>6210</td>\n",
       "    </tr>\n",
       "    <tr>\n",
       "      <th>3</th>\n",
       "      <td>2014-07-01 01:30:00</td>\n",
       "      <td>4656</td>\n",
       "    </tr>\n",
       "    <tr>\n",
       "      <th>4</th>\n",
       "      <td>2014-07-01 02:00:00</td>\n",
       "      <td>3820</td>\n",
       "    </tr>\n",
       "  </tbody>\n",
       "</table>\n",
       "</div>"
      ],
      "text/plain": [
       "             timestamp  value\n",
       "0  2014-07-01 00:00:00  10844\n",
       "1  2014-07-01 00:30:00   8127\n",
       "2  2014-07-01 01:00:00   6210\n",
       "3  2014-07-01 01:30:00   4656\n",
       "4  2014-07-01 02:00:00   3820"
      ]
     },
     "execution_count": 4,
     "metadata": {},
     "output_type": "execute_result"
    }
   ],
   "source": [
    "taxi_data.head()"
   ]
  },
  {
   "cell_type": "markdown",
   "metadata": {},
   "source": [
    "Human beings are visual creatures so let's take a look at a plot of the data."
   ]
  },
  {
   "cell_type": "code",
   "execution_count": 5,
   "metadata": {},
   "outputs": [
    {
     "name": "stderr",
     "output_type": "stream",
     "text": [
      "Matplotlib is building the font cache; this may take a moment.\n"
     ]
    },
    {
     "data": {
      "text/plain": [
       "<AxesSubplot:>"
      ]
     },
     "execution_count": 5,
     "metadata": {},
     "output_type": "execute_result"
    },
    {
     "data": {
      "image/png": "[encoded data removed]",
      "text/plain": [
       "<Figure size 600x400 with 1 Axes>"
      ]
     },
     "metadata": {
      "needs_background": "light"
     },
     "output_type": "display_data"
    }
   ],
   "source": [
    "%matplotlib inline\n",
    "\n",
    "import matplotlib\n",
    "import matplotlib.pyplot as plt\n",
    "\n",
    "matplotlib.rcParams[\"figure.dpi\"] = 100\n",
    "\n",
    "taxi_data.plot()"
   ]
  },
  {
   "cell_type": "markdown",
   "metadata": {},
   "source": [
    "Human beings are also extraordinarily good at perceiving patterns. Note, for example, that something uncharacteristic occurs at around datapoint number 6000. Additionally, as we might expect with taxi ridership, the passenger count appears more or less periodic. Let's zoom in to not only examine this anomaly but also to get a better picture of what the \"normal\" data looks like."
   ]
  },
  {
   "cell_type": "code",
   "execution_count": 6,
   "metadata": {},
   "outputs": [
    {
     "data": {
      "text/plain": [
       "<AxesSubplot:>"
      ]
     },
     "execution_count": 6,
     "metadata": {},
     "output_type": "execute_result"
    },
    {
     "data": {
      "image/png": "[encoded data removed]",
      "text/plain": [
       "<Figure size 432x288 with 1 Axes>"
      ]
     },
     "metadata": {
      "needs_background": "light"
     },
     "output_type": "display_data"
    }
   ],
   "source": [
    "taxi_data[5500:6500].plot()"
   ]
  },
  {
   "cell_type": "markdown",
   "metadata": {},
   "source": [
    "Here we see that the number of taxi trips taken is mostly periodic with one mode of length approximately 50 data points. In fact, the mode is length 48 since each datapoint represents a 30-minute bin of ridership count. Therefore, we expect another mode of length $336 = 48 \\times 7$, the length of a week. Smaller frequencies over the course of the day occur, as well.\n",
    "\n",
    "For example, here is the data across the day containing the above anomaly:"
   ]
  },
  {
   "cell_type": "code",
   "execution_count": 7,
   "metadata": {},
   "outputs": [
    {
     "data": {
      "text/html": [
       "<div>\n",
       "<style scoped>\n",
       "    .dataframe tbody tr th:only-of-type {\n",
       "        vertical-align: middle;\n",
       "    }\n",
       "\n",
       "    .dataframe tbody tr th {\n",
       "        vertical-align: top;\n",
       "    }\n",
       "\n",
       "    .dataframe thead th {\n",
       "        text-align: right;\n",
       "    }\n",
       "</style>\n",
       "<table border=\"1\" class=\"dataframe\">\n",
       "  <thead>\n",
       "    <tr style=\"text-align: right;\">\n",
       "      <th></th>\n",
       "      <th>timestamp</th>\n",
       "      <th>value</th>\n",
       "    </tr>\n",
       "  </thead>\n",
       "  <tbody>\n",
       "    <tr>\n",
       "      <th>5952</th>\n",
       "      <td>2014-11-02 00:00:00</td>\n",
       "      <td>25110</td>\n",
       "    </tr>\n",
       "    <tr>\n",
       "      <th>5953</th>\n",
       "      <td>2014-11-02 00:30:00</td>\n",
       "      <td>23109</td>\n",
       "    </tr>\n",
       "    <tr>\n",
       "      <th>5954</th>\n",
       "      <td>2014-11-02 01:00:00</td>\n",
       "      <td>39197</td>\n",
       "    </tr>\n",
       "    <tr>\n",
       "      <th>5955</th>\n",
       "      <td>2014-11-02 01:30:00</td>\n",
       "      <td>35212</td>\n",
       "    </tr>\n",
       "    <tr>\n",
       "      <th>5956</th>\n",
       "      <td>2014-11-02 02:00:00</td>\n",
       "      <td>13259</td>\n",
       "    </tr>\n",
       "    <tr>\n",
       "      <th>5957</th>\n",
       "      <td>2014-11-02 02:30:00</td>\n",
       "      <td>12250</td>\n",
       "    </tr>\n",
       "    <tr>\n",
       "      <th>5958</th>\n",
       "      <td>2014-11-02 03:00:00</td>\n",
       "      <td>10013</td>\n",
       "    </tr>\n",
       "    <tr>\n",
       "      <th>5959</th>\n",
       "      <td>2014-11-02 03:30:00</td>\n",
       "      <td>7898</td>\n",
       "    </tr>\n",
       "    <tr>\n",
       "      <th>5960</th>\n",
       "      <td>2014-11-02 04:00:00</td>\n",
       "      <td>6375</td>\n",
       "    </tr>\n",
       "    <tr>\n",
       "      <th>5961</th>\n",
       "      <td>2014-11-02 04:30:00</td>\n",
       "      <td>4532</td>\n",
       "    </tr>\n",
       "    <tr>\n",
       "      <th>5962</th>\n",
       "      <td>2014-11-02 05:00:00</td>\n",
       "      <td>5116</td>\n",
       "    </tr>\n",
       "    <tr>\n",
       "      <th>5963</th>\n",
       "      <td>2014-11-02 05:30:00</td>\n",
       "      <td>5232</td>\n",
       "    </tr>\n",
       "    <tr>\n",
       "      <th>5964</th>\n",
       "      <td>2014-11-02 06:00:00</td>\n",
       "      <td>4542</td>\n",
       "    </tr>\n",
       "    <tr>\n",
       "      <th>5965</th>\n",
       "      <td>2014-11-02 06:30:00</td>\n",
       "      <td>5298</td>\n",
       "    </tr>\n",
       "    <tr>\n",
       "      <th>5966</th>\n",
       "      <td>2014-11-02 07:00:00</td>\n",
       "      <td>5155</td>\n",
       "    </tr>\n",
       "    <tr>\n",
       "      <th>5967</th>\n",
       "      <td>2014-11-02 07:30:00</td>\n",
       "      <td>6029</td>\n",
       "    </tr>\n",
       "    <tr>\n",
       "      <th>5968</th>\n",
       "      <td>2014-11-02 08:00:00</td>\n",
       "      <td>6280</td>\n",
       "    </tr>\n",
       "    <tr>\n",
       "      <th>5969</th>\n",
       "      <td>2014-11-02 08:30:00</td>\n",
       "      <td>8771</td>\n",
       "    </tr>\n",
       "    <tr>\n",
       "      <th>5970</th>\n",
       "      <td>2014-11-02 09:00:00</td>\n",
       "      <td>10151</td>\n",
       "    </tr>\n",
       "    <tr>\n",
       "      <th>5971</th>\n",
       "      <td>2014-11-02 09:30:00</td>\n",
       "      <td>12501</td>\n",
       "    </tr>\n",
       "    <tr>\n",
       "      <th>5972</th>\n",
       "      <td>2014-11-02 10:00:00</td>\n",
       "      <td>13990</td>\n",
       "    </tr>\n",
       "    <tr>\n",
       "      <th>5973</th>\n",
       "      <td>2014-11-02 10:30:00</td>\n",
       "      <td>16534</td>\n",
       "    </tr>\n",
       "    <tr>\n",
       "      <th>5974</th>\n",
       "      <td>2014-11-02 11:00:00</td>\n",
       "      <td>17133</td>\n",
       "    </tr>\n",
       "    <tr>\n",
       "      <th>5975</th>\n",
       "      <td>2014-11-02 11:30:00</td>\n",
       "      <td>18775</td>\n",
       "    </tr>\n",
       "    <tr>\n",
       "      <th>5976</th>\n",
       "      <td>2014-11-02 12:00:00</td>\n",
       "      <td>18985</td>\n",
       "    </tr>\n",
       "    <tr>\n",
       "      <th>5977</th>\n",
       "      <td>2014-11-02 12:30:00</td>\n",
       "      <td>19911</td>\n",
       "    </tr>\n",
       "    <tr>\n",
       "      <th>5978</th>\n",
       "      <td>2014-11-02 13:00:00</td>\n",
       "      <td>19123</td>\n",
       "    </tr>\n",
       "    <tr>\n",
       "      <th>5979</th>\n",
       "      <td>2014-11-02 13:30:00</td>\n",
       "      <td>19524</td>\n",
       "    </tr>\n",
       "    <tr>\n",
       "      <th>5980</th>\n",
       "      <td>2014-11-02 14:00:00</td>\n",
       "      <td>19640</td>\n",
       "    </tr>\n",
       "    <tr>\n",
       "      <th>5981</th>\n",
       "      <td>2014-11-02 14:30:00</td>\n",
       "      <td>18364</td>\n",
       "    </tr>\n",
       "    <tr>\n",
       "      <th>5982</th>\n",
       "      <td>2014-11-02 15:00:00</td>\n",
       "      <td>17940</td>\n",
       "    </tr>\n",
       "    <tr>\n",
       "      <th>5983</th>\n",
       "      <td>2014-11-02 15:30:00</td>\n",
       "      <td>17949</td>\n",
       "    </tr>\n",
       "    <tr>\n",
       "      <th>5984</th>\n",
       "      <td>2014-11-02 16:00:00</td>\n",
       "      <td>17288</td>\n",
       "    </tr>\n",
       "    <tr>\n",
       "      <th>5985</th>\n",
       "      <td>2014-11-02 16:30:00</td>\n",
       "      <td>16326</td>\n",
       "    </tr>\n",
       "    <tr>\n",
       "      <th>5986</th>\n",
       "      <td>2014-11-02 17:00:00</td>\n",
       "      <td>17522</td>\n",
       "    </tr>\n",
       "    <tr>\n",
       "      <th>5987</th>\n",
       "      <td>2014-11-02 17:30:00</td>\n",
       "      <td>19243</td>\n",
       "    </tr>\n",
       "    <tr>\n",
       "      <th>5988</th>\n",
       "      <td>2014-11-02 18:00:00</td>\n",
       "      <td>20291</td>\n",
       "    </tr>\n",
       "    <tr>\n",
       "      <th>5989</th>\n",
       "      <td>2014-11-02 18:30:00</td>\n",
       "      <td>21649</td>\n",
       "    </tr>\n",
       "    <tr>\n",
       "      <th>5990</th>\n",
       "      <td>2014-11-02 19:00:00</td>\n",
       "      <td>22839</td>\n",
       "    </tr>\n",
       "    <tr>\n",
       "      <th>5991</th>\n",
       "      <td>2014-11-02 19:30:00</td>\n",
       "      <td>21772</td>\n",
       "    </tr>\n",
       "    <tr>\n",
       "      <th>5992</th>\n",
       "      <td>2014-11-02 20:00:00</td>\n",
       "      <td>20994</td>\n",
       "    </tr>\n",
       "    <tr>\n",
       "      <th>5993</th>\n",
       "      <td>2014-11-02 20:30:00</td>\n",
       "      <td>19774</td>\n",
       "    </tr>\n",
       "    <tr>\n",
       "      <th>5994</th>\n",
       "      <td>2014-11-02 21:00:00</td>\n",
       "      <td>18398</td>\n",
       "    </tr>\n",
       "    <tr>\n",
       "      <th>5995</th>\n",
       "      <td>2014-11-02 21:30:00</td>\n",
       "      <td>17764</td>\n",
       "    </tr>\n",
       "    <tr>\n",
       "      <th>5996</th>\n",
       "      <td>2014-11-02 22:00:00</td>\n",
       "      <td>17334</td>\n",
       "    </tr>\n",
       "    <tr>\n",
       "      <th>5997</th>\n",
       "      <td>2014-11-02 22:30:00</td>\n",
       "      <td>15431</td>\n",
       "    </tr>\n",
       "    <tr>\n",
       "      <th>5998</th>\n",
       "      <td>2014-11-02 23:00:00</td>\n",
       "      <td>12958</td>\n",
       "    </tr>\n",
       "    <tr>\n",
       "      <th>5999</th>\n",
       "      <td>2014-11-02 23:30:00</td>\n",
       "      <td>10224</td>\n",
       "    </tr>\n",
       "  </tbody>\n",
       "</table>\n",
       "</div>"
      ],
      "text/plain": [
       "                timestamp  value\n",
       "5952  2014-11-02 00:00:00  25110\n",
       "5953  2014-11-02 00:30:00  23109\n",
       "5954  2014-11-02 01:00:00  39197\n",
       "5955  2014-11-02 01:30:00  35212\n",
       "5956  2014-11-02 02:00:00  13259\n",
       "5957  2014-11-02 02:30:00  12250\n",
       "5958  2014-11-02 03:00:00  10013\n",
       "5959  2014-11-02 03:30:00   7898\n",
       "5960  2014-11-02 04:00:00   6375\n",
       "5961  2014-11-02 04:30:00   4532\n",
       "5962  2014-11-02 05:00:00   5116\n",
       "5963  2014-11-02 05:30:00   5232\n",
       "5964  2014-11-02 06:00:00   4542\n",
       "5965  2014-11-02 06:30:00   5298\n",
       "5966  2014-11-02 07:00:00   5155\n",
       "5967  2014-11-02 07:30:00   6029\n",
       "5968  2014-11-02 08:00:00   6280\n",
       "5969  2014-11-02 08:30:00   8771\n",
       "5970  2014-11-02 09:00:00  10151\n",
       "5971  2014-11-02 09:30:00  12501\n",
       "5972  2014-11-02 10:00:00  13990\n",
       "5973  2014-11-02 10:30:00  16534\n",
       "5974  2014-11-02 11:00:00  17133\n",
       "5975  2014-11-02 11:30:00  18775\n",
       "5976  2014-11-02 12:00:00  18985\n",
       "5977  2014-11-02 12:30:00  19911\n",
       "5978  2014-11-02 13:00:00  19123\n",
       "5979  2014-11-02 13:30:00  19524\n",
       "5980  2014-11-02 14:00:00  19640\n",
       "5981  2014-11-02 14:30:00  18364\n",
       "5982  2014-11-02 15:00:00  17940\n",
       "5983  2014-11-02 15:30:00  17949\n",
       "5984  2014-11-02 16:00:00  17288\n",
       "5985  2014-11-02 16:30:00  16326\n",
       "5986  2014-11-02 17:00:00  17522\n",
       "5987  2014-11-02 17:30:00  19243\n",
       "5988  2014-11-02 18:00:00  20291\n",
       "5989  2014-11-02 18:30:00  21649\n",
       "5990  2014-11-02 19:00:00  22839\n",
       "5991  2014-11-02 19:30:00  21772\n",
       "5992  2014-11-02 20:00:00  20994\n",
       "5993  2014-11-02 20:30:00  19774\n",
       "5994  2014-11-02 21:00:00  18398\n",
       "5995  2014-11-02 21:30:00  17764\n",
       "5996  2014-11-02 22:00:00  17334\n",
       "5997  2014-11-02 22:30:00  15431\n",
       "5998  2014-11-02 23:00:00  12958\n",
       "5999  2014-11-02 23:30:00  10224"
      ]
     },
     "execution_count": 7,
     "metadata": {},
     "output_type": "execute_result"
    }
   ],
   "source": [
    "taxi_data[5952:6000]"
   ]
  },
  {
   "cell_type": "markdown",
   "metadata": {},
   "source": [
    "# Training\n",
    "\n",
    "***\n",
    "\n",
    "Next, we configure a SageMaker training job to train the Random Cut Forest (RCF) algorithm on the taxi cab data."
   ]
  },
  {
   "cell_type": "markdown",
   "metadata": {},
   "source": [
    "## Hyperparameters\n",
    "\n",
    "Particular to a SageMaker RCF training job are the following hyperparameters:\n",
    "\n",
    "* **`num_samples_per_tree`** - the number randomly sampled data points sent to each tree. As a general rule, `1/num_samples_per_tree` should approximate the the estimated ratio of anomalies to normal points in the dataset.\n",
    "* **`num_trees`** - the number of trees to create in the forest. Each tree learns a separate model from different samples of data. The full forest model uses the mean predicted anomaly score from each constituent tree.\n",
    "* **`feature_dim`** - the dimension of each data point.\n",
    "\n",
    "In addition to these RCF model hyperparameters, we provide additional parameters defining things like the EC2 instance type on which training will run, the S3 bucket containing the data, and the AWS access role. Note that,\n",
    "\n",
    "* Recommended instance type: `ml.m4`, `ml.c4`, or `ml.c5`\n",
    "* Current limitations:\n",
    "  * The RCF algorithm does not take advantage of GPU hardware."
   ]
  },
  {
   "cell_type": "code",
   "execution_count": 13,
   "metadata": {},
   "outputs": [
    {
     "data": {
      "text/plain": [
       "(10320, 1)"
      ]
     },
     "execution_count": 13,
     "metadata": {},
     "output_type": "execute_result"
    }
   ],
   "source": [
    "taxi_data.value.to_numpy().reshape(-1, 1).shape"
   ]
  },
  {
   "cell_type": "code",
   "execution_count": 14,
   "metadata": {},
   "outputs": [
    {
     "name": "stderr",
     "output_type": "stream",
     "text": [
      "Defaulting to the only supported framework/algorithm version: 1. Ignoring framework/algorithm version: 1.\n",
      "Defaulting to the only supported framework/algorithm version: 1. Ignoring framework/algorithm version: 1.\n"
     ]
    },
    {
     "name": "stdout",
     "output_type": "stream",
     "text": [
      "2021-11-22 04:01:17 Starting - Starting the training job...\n",
      "2021-11-22 04:01:43 Starting - Launching requested ML instancesProfilerReport-1637553677: InProgress\n",
      ".........\n",
      "2021-11-22 04:03:08 Starting - Preparing the instances for training.........\n",
      "2021-11-22 04:04:44 Downloading - Downloading input data...\n",
      "2021-11-22 04:05:18 Training - Downloading the training image...\n",
      "2021-11-22 04:05:44 Training - Training image download completed. Training in progress.\u001b[34mDocker entrypoint called with argument(s): train\u001b[0m\n",
      "\u001b[34mRunning default environment configuration script\u001b[0m\n",
      "\u001b[34m[11/22/2021 04:05:47 INFO 139645442692928] Reading default configuration from /opt/amazon/lib/python3.7/site-packages/algorithm/resources/default-conf.json: {'num_samples_per_tree': 256, 'num_trees': 100, 'force_dense': 'true', 'eval_metrics': ['accuracy', 'precision_recall_fscore'], 'epochs': 1, 'mini_batch_size': 1000, '_log_level': 'info', '_kvstore': 'dist_async', '_num_kv_servers': 'auto', '_num_gpus': 'auto', '_tuning_objective_metric': '', '_ftp_port': 8999}\u001b[0m\n",
      "\u001b[34m[11/22/2021 04:05:47 INFO 139645442692928] Merging with provided configuration from /opt/ml/input/config/hyperparameters.json: {'num_trees': '50', 'num_samples_per_tree': '512', 'feature_dim': '1', 'mini_batch_size': '1000'}\u001b[0m\n",
      "\u001b[34m[11/22/2021 04:05:47 INFO 139645442692928] Final configuration: {'num_samples_per_tree': '512', 'num_trees': '50', 'force_dense': 'true', 'eval_metrics': ['accuracy', 'precision_recall_fscore'], 'epochs': 1, 'mini_batch_size': '1000', '_log_level': 'info', '_kvstore': 'dist_async', '_num_kv_servers': 'auto', '_num_gpus': 'auto', '_tuning_objective_metric': '', '_ftp_port': 8999, 'feature_dim': '1'}\u001b[0m\n",
      "\u001b[34m[11/22/2021 04:05:47 WARNING 139645442692928] Loggers have already been setup.\u001b[0m\n",
      "\u001b[34m[11/22/2021 04:05:47 INFO 139645442692928] Launching parameter server for role scheduler\u001b[0m\n",
      "\u001b[34m[11/22/2021 04:05:47 INFO 139645442692928] {'ENVROOT': '/opt/amazon', 'PROTOCOL_BUFFERS_PYTHON_IMPLEMENTATION': 'cpp', 'HOSTNAME': 'ip-10-0-177-212.ec2.internal', 'TRAINING_JOB_NAME': 'randomcutforest-2021-11-22-04-01-17-585', 'NVIDIA_REQUIRE_CUDA': 'cuda>=9.0', 'TRAINING_JOB_ARN': 'arn:aws:sagemaker:us-east-1:241082659383:training-job/randomcutforest-2021-11-22-04-01-17-585', 'AWS_CONTAINER_CREDENTIALS_RELATIVE_URI': '/v2/credentials/3ac21de5-02b4-49db-9d9a-6e9b6d081cd7', 'CANONICAL_ENVROOT': '/opt/amazon', 'PYTHONUNBUFFERED': 'TRUE', 'NVIDIA_VISIBLE_DEVICES': 'void', 'LD_LIBRARY_PATH': '/opt/amazon/lib/python3.7/site-packages/cv2/../../../../lib:/usr/local/nvidia/lib64:/opt/amazon/lib', 'MXNET_KVSTORE_BIGARRAY_BOUND': '400000000', 'NVIDIA_DRIVER_CAPABILITIES': 'compute,utility', 'AWS_EXECUTION_ENV': 'AWS_ECS_EC2', 'PATH': '/opt/amazon/bin:/usr/local/nvidia/bin:/usr/local/sbin:/usr/local/bin:/usr/sbin:/usr/bin:/sbin:/bin:/opt/amazon/bin:/opt/amazon/bin', 'PWD': '/', 'LANG': 'en_US.utf8', 'AWS_REGION': 'us-east-1', 'SAGEMAKER_METRICS_DIRECTORY': '/opt/ml/output/metrics/sagemaker', 'HOME': '/root', 'SHLVL': '1', 'PROTOCOL_BUFFERS_PYTHON_IMPLEMENTATION_VERSION': '2', 'OMP_NUM_THREADS': '2', 'ECS_CONTAINER_METADATA_URI': 'http://169.254.170.2/v3/96ba2b64-4ede-456f-9b57-1a4fa6f1af2d', 'DMLC_INTERFACE': 'eth0', 'ECS_CONTAINER_METADATA_URI_V4': 'http://169.254.170.2/v4/96ba2b64-4ede-456f-9b57-1a4fa6f1af2d', 'SAGEMAKER_HTTP_PORT': '8080', 'SAGEMAKER_DATA_PATH': '/opt/ml', 'KMP_DUPLICATE_LIB_OK': 'True', 'KMP_INIT_AT_FORK': 'FALSE'}\u001b[0m\n",
      "\u001b[34m[11/22/2021 04:05:47 INFO 139645442692928] envs={'ENVROOT': '/opt/amazon', 'PROTOCOL_BUFFERS_PYTHON_IMPLEMENTATION': 'cpp', 'HOSTNAME': 'ip-10-0-177-212.ec2.internal', 'TRAINING_JOB_NAME': 'randomcutforest-2021-11-22-04-01-17-585', 'NVIDIA_REQUIRE_CUDA': 'cuda>=9.0', 'TRAINING_JOB_ARN': 'arn:aws:sagemaker:us-east-1:241082659383:training-job/randomcutforest-2021-11-22-04-01-17-585', 'AWS_CONTAINER_CREDENTIALS_RELATIVE_URI': '/v2/credentials/3ac21de5-02b4-49db-9d9a-6e9b6d081cd7', 'CANONICAL_ENVROOT': '/opt/amazon', 'PYTHONUNBUFFERED': 'TRUE', 'NVIDIA_VISIBLE_DEVICES': 'void', 'LD_LIBRARY_PATH': '/opt/amazon/lib/python3.7/site-packages/cv2/../../../../lib:/usr/local/nvidia/lib64:/opt/amazon/lib', 'MXNET_KVSTORE_BIGARRAY_BOUND': '400000000', 'NVIDIA_DRIVER_CAPABILITIES': 'compute,utility', 'AWS_EXECUTION_ENV': 'AWS_ECS_EC2', 'PATH': '/opt/amazon/bin:/usr/local/nvidia/bin:/usr/local/sbin:/usr/local/bin:/usr/sbin:/usr/bin:/sbin:/bin:/opt/amazon/bin:/opt/amazon/bin', 'PWD': '/', 'LANG': 'en_US.utf8', 'AWS_REGION': 'us-east-1', 'SAGEMAKER_METRICS_DIRECTORY': '/opt/ml/output/metrics/sagemaker', 'HOME': '/root', 'SHLVL': '1', 'PROTOCOL_BUFFERS_PYTHON_IMPLEMENTATION_VERSION': '2', 'OMP_NUM_THREADS': '2', 'ECS_CONTAINER_METADATA_URI': 'http://169.254.170.2/v3/96ba2b64-4ede-456f-9b57-1a4fa6f1af2d', 'DMLC_INTERFACE': 'eth0', 'ECS_CONTAINER_METADATA_URI_V4': 'http://169.254.170.2/v4/96ba2b64-4ede-456f-9b57-1a4fa6f1af2d', 'SAGEMAKER_HTTP_PORT': '8080', 'SAGEMAKER_DATA_PATH': '/opt/ml', 'KMP_DUPLICATE_LIB_OK': 'True', 'KMP_INIT_AT_FORK': 'FALSE', 'DMLC_ROLE': 'scheduler', 'DMLC_PS_ROOT_URI': '10.0.177.212', 'DMLC_PS_ROOT_PORT': '9000', 'DMLC_NUM_SERVER': '1', 'DMLC_NUM_WORKER': '1'}\u001b[0m\n",
      "\u001b[34m[11/22/2021 04:05:47 INFO 139645442692928] Launching parameter server for role server\u001b[0m\n",
      "\u001b[34m[11/22/2021 04:05:47 INFO 139645442692928] {'ENVROOT': '/opt/amazon', 'PROTOCOL_BUFFERS_PYTHON_IMPLEMENTATION': 'cpp', 'HOSTNAME': 'ip-10-0-177-212.ec2.internal', 'TRAINING_JOB_NAME': 'randomcutforest-2021-11-22-04-01-17-585', 'NVIDIA_REQUIRE_CUDA': 'cuda>=9.0', 'TRAINING_JOB_ARN': 'arn:aws:sagemaker:us-east-1:241082659383:training-job/randomcutforest-2021-11-22-04-01-17-585', 'AWS_CONTAINER_CREDENTIALS_RELATIVE_URI': '/v2/credentials/3ac21de5-02b4-49db-9d9a-6e9b6d081cd7', 'CANONICAL_ENVROOT': '/opt/amazon', 'PYTHONUNBUFFERED': 'TRUE', 'NVIDIA_VISIBLE_DEVICES': 'void', 'LD_LIBRARY_PATH': '/opt/amazon/lib/python3.7/site-packages/cv2/../../../../lib:/usr/local/nvidia/lib64:/opt/amazon/lib', 'MXNET_KVSTORE_BIGARRAY_BOUND': '400000000', 'NVIDIA_DRIVER_CAPABILITIES': 'compute,utility', 'AWS_EXECUTION_ENV': 'AWS_ECS_EC2', 'PATH': '/opt/amazon/bin:/usr/local/nvidia/bin:/usr/local/sbin:/usr/local/bin:/usr/sbin:/usr/bin:/sbin:/bin:/opt/amazon/bin:/opt/amazon/bin', 'PWD': '/', 'LANG': 'en_US.utf8', 'AWS_REGION': 'us-east-1', 'SAGEMAKER_METRICS_DIRECTORY': '/opt/ml/output/metrics/sagemaker', 'HOME': '/root', 'SHLVL': '1', 'PROTOCOL_BUFFERS_PYTHON_IMPLEMENTATION_VERSION': '2', 'OMP_NUM_THREADS': '2', 'ECS_CONTAINER_METADATA_URI': 'http://169.254.170.2/v3/96ba2b64-4ede-456f-9b57-1a4fa6f1af2d', 'DMLC_INTERFACE': 'eth0', 'ECS_CONTAINER_METADATA_URI_V4': 'http://169.254.170.2/v4/96ba2b64-4ede-456f-9b57-1a4fa6f1af2d', 'SAGEMAKER_HTTP_PORT': '8080', 'SAGEMAKER_DATA_PATH': '/opt/ml', 'KMP_DUPLICATE_LIB_OK': 'True', 'KMP_INIT_AT_FORK': 'FALSE'}\u001b[0m\n",
      "\u001b[34m[11/22/2021 04:05:47 INFO 139645442692928] envs={'ENVROOT': '/opt/amazon', 'PROTOCOL_BUFFERS_PYTHON_IMPLEMENTATION': 'cpp', 'HOSTNAME': 'ip-10-0-177-212.ec2.internal', 'TRAINING_JOB_NAME': 'randomcutforest-2021-11-22-04-01-17-585', 'NVIDIA_REQUIRE_CUDA': 'cuda>=9.0', 'TRAINING_JOB_ARN': 'arn:aws:sagemaker:us-east-1:241082659383:training-job/randomcutforest-2021-11-22-04-01-17-585', 'AWS_CONTAINER_CREDENTIALS_RELATIVE_URI': '/v2/credentials/3ac21de5-02b4-49db-9d9a-6e9b6d081cd7', 'CANONICAL_ENVROOT': '/opt/amazon', 'PYTHONUNBUFFERED': 'TRUE', 'NVIDIA_VISIBLE_DEVICES': 'void', 'LD_LIBRARY_PATH': '/opt/amazon/lib/python3.7/site-packages/cv2/../../../../lib:/usr/local/nvidia/lib64:/opt/amazon/lib', 'MXNET_KVSTORE_BIGARRAY_BOUND': '400000000', 'NVIDIA_DRIVER_CAPABILITIES': 'compute,utility', 'AWS_EXECUTION_ENV': 'AWS_ECS_EC2', 'PATH': '/opt/amazon/bin:/usr/local/nvidia/bin:/usr/local/sbin:/usr/local/bin:/usr/sbin:/usr/bin:/sbin:/bin:/opt/amazon/bin:/opt/amazon/bin', 'PWD': '/', 'LANG': 'en_US.utf8', 'AWS_REGION': 'us-east-1', 'SAGEMAKER_METRICS_DIRECTORY': '/opt/ml/output/metrics/sagemaker', 'HOME': '/root', 'SHLVL': '1', 'PROTOCOL_BUFFERS_PYTHON_IMPLEMENTATION_VERSION': '2', 'OMP_NUM_THREADS': '2', 'ECS_CONTAINER_METADATA_URI': 'http://169.254.170.2/v3/96ba2b64-4ede-456f-9b57-1a4fa6f1af2d', 'DMLC_INTERFACE': 'eth0', 'ECS_CONTAINER_METADATA_URI_V4': 'http://169.254.170.2/v4/96ba2b64-4ede-456f-9b57-1a4fa6f1af2d', 'SAGEMAKER_HTTP_PORT': '8080', 'SAGEMAKER_DATA_PATH': '/opt/ml', 'KMP_DUPLICATE_LIB_OK': 'True', 'KMP_INIT_AT_FORK': 'FALSE', 'DMLC_ROLE': 'server', 'DMLC_PS_ROOT_URI': '10.0.177.212', 'DMLC_PS_ROOT_PORT': '9000', 'DMLC_NUM_SERVER': '1', 'DMLC_NUM_WORKER': '1'}\u001b[0m\n",
      "\u001b[34m[11/22/2021 04:05:47 INFO 139645442692928] Environment: {'ENVROOT': '/opt/amazon', 'PROTOCOL_BUFFERS_PYTHON_IMPLEMENTATION': 'cpp', 'HOSTNAME': 'ip-10-0-177-212.ec2.internal', 'TRAINING_JOB_NAME': 'randomcutforest-2021-11-22-04-01-17-585', 'NVIDIA_REQUIRE_CUDA': 'cuda>=9.0', 'TRAINING_JOB_ARN': 'arn:aws:sagemaker:us-east-1:241082659383:training-job/randomcutforest-2021-11-22-04-01-17-585', 'AWS_CONTAINER_CREDENTIALS_RELATIVE_URI': '/v2/credentials/3ac21de5-02b4-49db-9d9a-6e9b6d081cd7', 'CANONICAL_ENVROOT': '/opt/amazon', 'PYTHONUNBUFFERED': 'TRUE', 'NVIDIA_VISIBLE_DEVICES': 'void', 'LD_LIBRARY_PATH': '/opt/amazon/lib/python3.7/site-packages/cv2/../../../../lib:/usr/local/nvidia/lib64:/opt/amazon/lib', 'MXNET_KVSTORE_BIGARRAY_BOUND': '400000000', 'NVIDIA_DRIVER_CAPABILITIES': 'compute,utility', 'AWS_EXECUTION_ENV': 'AWS_ECS_EC2', 'PATH': '/opt/amazon/bin:/usr/local/nvidia/bin:/usr/local/sbin:/usr/local/bin:/usr/sbin:/usr/bin:/sbin:/bin:/opt/amazon/bin:/opt/amazon/bin', 'PWD': '/', 'LANG': 'en_US.utf8', 'AWS_REGION': 'us-east-1', 'SAGEMAKER_METRICS_DIRECTORY': '/opt/ml/output/metrics/sagemaker', 'HOME': '/root', 'SHLVL': '1', 'PROTOCOL_BUFFERS_PYTHON_IMPLEMENTATION_VERSION': '2', 'OMP_NUM_THREADS': '2', 'ECS_CONTAINER_METADATA_URI': 'http://169.254.170.2/v3/96ba2b64-4ede-456f-9b57-1a4fa6f1af2d', 'DMLC_INTERFACE': 'eth0', 'ECS_CONTAINER_METADATA_URI_V4': 'http://169.254.170.2/v4/96ba2b64-4ede-456f-9b57-1a4fa6f1af2d', 'SAGEMAKER_HTTP_PORT': '8080', 'SAGEMAKER_DATA_PATH': '/opt/ml', 'KMP_DUPLICATE_LIB_OK': 'True', 'KMP_INIT_AT_FORK': 'FALSE', 'DMLC_ROLE': 'worker', 'DMLC_PS_ROOT_URI': '10.0.177.212', 'DMLC_PS_ROOT_PORT': '9000', 'DMLC_NUM_SERVER': '1', 'DMLC_NUM_WORKER': '1'}\u001b[0m\n",
      "\u001b[34mProcess 34 is a shell:scheduler.\u001b[0m\n",
      "\u001b[34mProcess 44 is a shell:server.\u001b[0m\n",
      "\u001b[34mProcess 1 is a worker.\u001b[0m\n",
      "\u001b[34m[11/22/2021 04:05:47 INFO 139645442692928] Using default worker.\u001b[0m\n",
      "\u001b[34m[11/22/2021 04:05:47 INFO 139645442692928] Loaded iterator creator application/x-recordio-protobuf for content type ('application/x-recordio-protobuf', '1.0')\u001b[0m\n",
      "\u001b[34m[11/22/2021 04:05:47 INFO 139645442692928] Checkpoint loading and saving are disabled.\u001b[0m\n",
      "\u001b[34m[11/22/2021 04:05:47 INFO 139645442692928] Verifying hyperparamemters...\u001b[0m\n",
      "\u001b[34m[11/22/2021 04:05:47 INFO 139645442692928] Hyperparameters are correct.\u001b[0m\n",
      "\u001b[34m[11/22/2021 04:05:47 INFO 139645442692928] Validating that feature_dim agrees with dimensions in training data...\u001b[0m\n",
      "\u001b[34m[11/22/2021 04:05:47 INFO 139645442692928] feature_dim is correct.\u001b[0m\n",
      "\u001b[34m[11/22/2021 04:05:47 INFO 139645442692928] Validating memory limits...\u001b[0m\n",
      "\u001b[34m[11/22/2021 04:05:47 INFO 139645442692928] Available memory in bytes: 15129206784\u001b[0m\n",
      "\u001b[34m[11/22/2021 04:05:47 INFO 139645442692928] Estimated sample size in bytes: 204800\u001b[0m\n",
      "\u001b[34m[11/22/2021 04:05:47 INFO 139645442692928] Estimated memory needed to build the forest in bytes: 1024000\u001b[0m\n",
      "\u001b[34m[11/22/2021 04:05:47 INFO 139645442692928] Memory limits validated.\u001b[0m\n",
      "\u001b[34m[11/22/2021 04:05:47 INFO 139645442692928] Starting cluster sharing facilities...\u001b[0m\n",
      "\u001b[34m[11/22/2021 04:05:47 INFO 139645442692928] Create Store: dist_async\u001b[0m\n",
      "\u001b[34m[I 21-11-22 04:05:47] >>> starting FTP server on 0.0.0.0:8999, pid=1 <<<\u001b[0m\n",
      "\u001b[34m[I 21-11-22 04:05:47] poller: <class 'pyftpdlib.ioloop.Epoll'>\u001b[0m\n",
      "\u001b[34m[11/22/2021 04:05:47 INFO 139643924236032] >>> starting FTP server on 0.0.0.0:8999, pid=1 <<<\u001b[0m\n",
      "\u001b[34m[11/22/2021 04:05:47 INFO 139643924236032] poller: <class 'pyftpdlib.ioloop.Epoll'>\u001b[0m\n",
      "\u001b[34m[I 21-11-22 04:05:47] masquerade (NAT) address: None\u001b[0m\n",
      "\u001b[34m[I 21-11-22 04:05:47] passive ports: None\u001b[0m\n",
      "\u001b[34m[11/22/2021 04:05:47 INFO 139643924236032] masquerade (NAT) address: None\u001b[0m\n",
      "\u001b[34m[11/22/2021 04:05:47 INFO 139643924236032] passive ports: None\u001b[0m\n",
      "\u001b[34m[I 21-11-22 04:05:47] use sendfile(2): True\u001b[0m\n",
      "\u001b[34m[11/22/2021 04:05:47 INFO 139643924236032] use sendfile(2): True\u001b[0m\n",
      "\u001b[34m[11/22/2021 04:05:48 INFO 139645442692928] Cluster sharing facilities started.\u001b[0m\n",
      "\u001b[34m[11/22/2021 04:05:48 INFO 139645442692928] Verifying all workers are accessible...\u001b[0m\n",
      "\u001b[34m[11/22/2021 04:05:48 INFO 139645442692928] All workers accessible.\u001b[0m\n",
      "\u001b[34m[11/22/2021 04:05:48 INFO 139645442692928] Initializing Sampler...\u001b[0m\n",
      "\u001b[34m[11/22/2021 04:05:48 INFO 139645442692928] Sampler correctly initialized.\u001b[0m\n",
      "\u001b[34m#metrics {\"StartTime\": 1637553947.5632277, \"EndTime\": 1637553948.695812, \"Dimensions\": {\"Algorithm\": \"RandomCutForest\", \"Host\": \"algo-1\", \"Operation\": \"training\"}, \"Metrics\": {\"initialize.time\": {\"sum\": 1125.9808540344238, \"count\": 1, \"min\": 1125.9808540344238, \"max\": 1125.9808540344238}}}\u001b[0m\n",
      "\u001b[34m#metrics {\"StartTime\": 1637553948.6960354, \"EndTime\": 1637553948.6961398, \"Dimensions\": {\"Algorithm\": \"RandomCutForest\", \"Host\": \"algo-1\", \"Operation\": \"training\", \"Meta\": \"init_train_data_iter\"}, \"Metrics\": {\"Total Records Seen\": {\"sum\": 0.0, \"count\": 1, \"min\": 0, \"max\": 0}, \"Total Batches Seen\": {\"sum\": 0.0, \"count\": 1, \"min\": 0, \"max\": 0}, \"Max Records Seen Between Resets\": {\"sum\": 0.0, \"count\": 1, \"min\": 0, \"max\": 0}, \"Max Batches Seen Between Resets\": {\"sum\": 0.0, \"count\": 1, \"min\": 0, \"max\": 0}, \"Reset Count\": {\"sum\": 0.0, \"count\": 1, \"min\": 0, \"max\": 0}, \"Number of Records Since Last Reset\": {\"sum\": 0.0, \"count\": 1, \"min\": 0, \"max\": 0}, \"Number of Batches Since Last Reset\": {\"sum\": 0.0, \"count\": 1, \"min\": 0, \"max\": 0}}}\u001b[0m\n",
      "\u001b[34m[2021-11-22 04:05:48.696] [tensorio] [info] epoch_stats={\"data_pipeline\": \"/opt/ml/input/data/train\", \"epoch\": 0, \"duration\": 1132, \"num_examples\": 1, \"num_bytes\": 28000}\u001b[0m\n",
      "\u001b[34m[11/22/2021 04:05:48 INFO 139645442692928] Sampling training data...\u001b[0m\n",
      "\u001b[34m[2021-11-22 04:05:48.742] [tensorio] [info] epoch_stats={\"data_pipeline\": \"/opt/ml/input/data/train\", \"epoch\": 1, \"duration\": 45, \"num_examples\": 11, \"num_bytes\": 288960}\u001b[0m\n",
      "\u001b[34m[11/22/2021 04:05:48 INFO 139645442692928] Sampling training data completed.\u001b[0m\n",
      "\u001b[34m#metrics {\"StartTime\": 1637553948.6959682, \"EndTime\": 1637553948.7485967, \"Dimensions\": {\"Algorithm\": \"RandomCutForest\", \"Host\": \"algo-1\", \"Operation\": \"training\"}, \"Metrics\": {\"epochs\": {\"sum\": 1.0, \"count\": 1, \"min\": 1, \"max\": 1}, \"update.time\": {\"sum\": 52.00624465942383, \"count\": 1, \"min\": 52.00624465942383, \"max\": 52.00624465942383}}}\u001b[0m\n",
      "\u001b[34m[11/22/2021 04:05:48 INFO 139645442692928] Early stop condition met. Stopping training.\u001b[0m\n",
      "\u001b[34m[11/22/2021 04:05:48 INFO 139645442692928] #progress_metric: host=algo-1, completed 100 % epochs\u001b[0m\n",
      "\u001b[34m#metrics {\"StartTime\": 1637553948.6965473, \"EndTime\": 1637553948.749005, \"Dimensions\": {\"Algorithm\": \"RandomCutForest\", \"Host\": \"algo-1\", \"Operation\": \"training\", \"epoch\": 0, \"Meta\": \"training_data_iter\"}, \"Metrics\": {\"Total Records Seen\": {\"sum\": 10320.0, \"count\": 1, \"min\": 10320, \"max\": 10320}, \"Total Batches Seen\": {\"sum\": 11.0, \"count\": 1, \"min\": 11, \"max\": 11}, \"Max Records Seen Between Resets\": {\"sum\": 10320.0, \"count\": 1, \"min\": 10320, \"max\": 10320}, \"Max Batches Seen Between Resets\": {\"sum\": 11.0, \"count\": 1, \"min\": 11, \"max\": 11}, \"Reset Count\": {\"sum\": 1.0, \"count\": 1, \"min\": 1, \"max\": 1}, \"Number of Records Since Last Reset\": {\"sum\": 10320.0, \"count\": 1, \"min\": 10320, \"max\": 10320}, \"Number of Batches Since Last Reset\": {\"sum\": 11.0, \"count\": 1, \"min\": 11, \"max\": 11}}}\u001b[0m\n",
      "\u001b[34m[11/22/2021 04:05:48 INFO 139645442692928] #throughput_metric: host=algo-1, train throughput=196142.94450838765 records/second\u001b[0m\n",
      "\u001b[34m[11/22/2021 04:05:48 INFO 139645442692928] Master node: building Random Cut Forest...\u001b[0m\n",
      "\u001b[34m[11/22/2021 04:05:48 INFO 139645442692928] Gathering samples...\u001b[0m\n",
      "\u001b[34m[11/22/2021 04:05:48 INFO 139645442692928] 10320 samples gathered\u001b[0m\n",
      "\u001b[34m[11/22/2021 04:05:48 INFO 139645442692928] Building Random Cut Forest...\u001b[0m\n",
      "\u001b[34m[11/22/2021 04:05:48 INFO 139645442692928] Random Cut Forest built: \u001b[0m\n",
      "\u001b[34mForestInfo{num_trees: 50, num_samples_in_forest: 10300, num_samples_per_tree: 206, sample_dim: 1, shingle_size: 1, trees_num_nodes: [405, 403, 409, 409, 411, 409, 407, 409, 407, 411, 409, 411, 411, 407, 405, 409, 407, 409, 409, 409, 411, 411, 401, 409, 409, 411, 407, 411, 411, 401, 411, 405, 411, 411, 409, 409, 411, 405, 409, 407, 409, 411, 411, 407, 409, 411, 407, 407, 411, 409, ], trees_depth: [16, 22, 17, 20, 14, 20, 17, 15, 17, 22, 17, 15, 17, 17, 16, 15, 19, 18, 17, 16, 21, 15, 20, 18, 21, 22, 18, 18, 20, 16, 20, 17, 19, 18, 16, 16, 15, 18, 20, 17, 18, 18, 14, 19, 20, 15, 17, 16, 19, 16, ], max_num_nodes: 411, min_num_nodes: 401, avg_num_nodes: 408, max_tree_depth: 22, min_tree_depth: 14, avg_tree_depth: 17, mem_size: 2124960}\u001b[0m\n",
      "\u001b[34m#metrics {\"StartTime\": 1637553948.7487164, \"EndTime\": 1637553948.7620277, \"Dimensions\": {\"Algorithm\": \"RandomCutForest\", \"Host\": \"algo-1\", \"Operation\": \"training\"}, \"Metrics\": {\"fit_model.time\": {\"sum\": 6.294965744018555, \"count\": 1, \"min\": 6.294965744018555, \"max\": 6.294965744018555}, \"model.bytes\": {\"sum\": 2124960.0, \"count\": 1, \"min\": 2124960, \"max\": 2124960}, \"finalize.time\": {\"sum\": 12.63880729675293, \"count\": 1, \"min\": 12.63880729675293, \"max\": 12.63880729675293}}}\u001b[0m\n",
      "\u001b[34m[11/22/2021 04:05:48 INFO 139645442692928] Master node: Serializing the RandomCutForest model\u001b[0m\n",
      "\u001b[34m#metrics {\"StartTime\": 1637553948.7621102, \"EndTime\": 1637553948.7870052, \"Dimensions\": {\"Algorithm\": \"RandomCutForest\", \"Host\": \"algo-1\", \"Operation\": \"training\"}, \"Metrics\": {\"serialize_model.time\": {\"sum\": 24.852514266967773, \"count\": 1, \"min\": 24.852514266967773, \"max\": 24.852514266967773}}}\u001b[0m\n",
      "\u001b[34m[11/22/2021 04:05:48 INFO 139645442692928] Test data is not provided.\u001b[0m\n",
      "\u001b[34m#metrics {\"StartTime\": 1637553948.7870848, \"EndTime\": 1637553948.7872293, \"Dimensions\": {\"Algorithm\": \"RandomCutForest\", \"Host\": \"algo-1\", \"Operation\": \"training\"}, \"Metrics\": {\"setuptime\": {\"sum\": 29.053449630737305, \"count\": 1, \"min\": 29.053449630737305, \"max\": 29.053449630737305}, \"totaltime\": {\"sum\": 1268.0015563964844, \"count\": 1, \"min\": 1268.0015563964844, \"max\": 1268.0015563964844}}}\u001b[0m\n"
     ]
    },
    {
     "name": "stdout",
     "output_type": "stream",
     "text": [
      "\n",
      "2021-11-22 04:06:04 Uploading - Uploading generated training model\n",
      "2021-11-22 04:06:04 Completed - Training job completed\n",
      "Training seconds: 81\n",
      "Billable seconds: 81\n"
     ]
    }
   ],
   "source": [
    "from sagemaker import RandomCutForest\n",
    "\n",
    "session = sagemaker.Session()\n",
    "\n",
    "# specify general training job information\n",
    "rcf = RandomCutForest(\n",
    "    role=execution_role,\n",
    "    instance_count=1,\n",
    "    instance_type=\"ml.m4.xlarge\",\n",
    "    data_location=f\"s3://{bucket}/{prefix}/\",\n",
    "    output_path=f\"s3://{bucket}/{prefix}/output\",\n",
    "    num_samples_per_tree=512,\n",
    "    num_trees=50,\n",
    ")\n",
    "\n",
    "# automatically upload the training data to S3 and run the training job\n",
    "rcf.fit(rcf.record_set(taxi_data.value.to_numpy().reshape(-1, 1)))"
   ]
  },
  {
   "cell_type": "markdown",
   "metadata": {},
   "source": [
    "If you see the message\n",
    "\n",
    "> `===== Job Complete =====`\n",
    "\n",
    "at the bottom of the output logs then that means training successfully completed and the output RCF model was stored in the specified output path. You can also view information about and the status of a training job using the AWS SageMaker console. Just click on the \"Jobs\" tab and select training job matching the training job name, below:"
   ]
  },
  {
   "cell_type": "code",
   "execution_count": 15,
   "metadata": {},
   "outputs": [
    {
     "name": "stdout",
     "output_type": "stream",
     "text": [
      "Training job name: randomcutforest-2021-11-22-04-01-17-585\n"
     ]
    }
   ],
   "source": [
    "print(f\"Training job name: {rcf.latest_training_job.job_name}\")"
   ]
  },
  {
   "cell_type": "markdown",
   "metadata": {},
   "source": [
    "# Inference\n",
    "\n",
    "***\n",
    "\n",
    "A trained Random Cut Forest model does nothing on its own. We now want to use the model we computed to perform inference on data. In this case, it means computing anomaly scores from input time series data points.\n",
    "\n",
    "We create an inference endpoint using the SageMaker Python SDK `deploy()` function from the job we defined above. We specify the instance type where inference is computed as well as an initial number of instances to spin up. We recommend using the `ml.c5` instance type as it provides the fastest inference time at the lowest cost."
   ]
  },
  {
   "cell_type": "code",
   "execution_count": 16,
   "metadata": {},
   "outputs": [
    {
     "data": {
      "text/plain": [
       "<sagemaker.amazon.randomcutforest.RandomCutForest at 0x7fdf03048eb8>"
      ]
     },
     "execution_count": 16,
     "metadata": {},
     "output_type": "execute_result"
    }
   ],
   "source": [
    "rcf"
   ]
  },
  {
   "cell_type": "code",
   "execution_count": 17,
   "metadata": {},
   "outputs": [
    {
     "name": "stderr",
     "output_type": "stream",
     "text": [
      "Defaulting to the only supported framework/algorithm version: 1. Ignoring framework/algorithm version: 1.\n"
     ]
    },
    {
     "name": "stdout",
     "output_type": "stream",
     "text": [
      "----------!"
     ]
    }
   ],
   "source": [
    "rcf_inference = rcf.deploy(initial_instance_count=1, instance_type=\"ml.m4.xlarge\")"
   ]
  },
  {
   "cell_type": "markdown",
   "metadata": {},
   "source": [
    "Congratulations! You now have a functioning SageMaker RCF inference endpoint. You can confirm the endpoint configuration and status by navigating to the \"Endpoints\" tab in the AWS SageMaker console and selecting the endpoint matching the endpoint name, below: "
   ]
  },
  {
   "cell_type": "code",
   "execution_count": 18,
   "metadata": {},
   "outputs": [
    {
     "name": "stderr",
     "output_type": "stream",
     "text": [
      "The endpoint attribute has been renamed in sagemaker>=2.\n",
      "See: https://sagemaker.readthedocs.io/en/stable/v2.html for details.\n"
     ]
    },
    {
     "name": "stdout",
     "output_type": "stream",
     "text": [
      "Endpoint name: randomcutforest-2021-11-22-07-32-39-071\n"
     ]
    }
   ],
   "source": [
    "print(f\"Endpoint name: {rcf_inference.endpoint}\")"
   ]
  },
  {
   "cell_type": "markdown",
   "metadata": {},
   "source": [
    "## Data Serialization/Deserialization\n",
    "\n",
    "We can pass data in a variety of formats to our inference endpoint. In this example we will demonstrate passing CSV-formatted data. Other available formats are JSON-formatted and RecordIO Protobuf. We make use of the SageMaker Python SDK utilities `csv_serializer` and `json_deserializer` when configuring the inference endpoint."
   ]
  },
  {
   "cell_type": "code",
   "execution_count": 19,
   "metadata": {},
   "outputs": [],
   "source": [
    "from sagemaker.serializers import CSVSerializer\n",
    "from sagemaker.deserializers import JSONDeserializer\n",
    "\n",
    "rcf_inference.serializer = CSVSerializer()\n",
    "rcf_inference.deserializer = JSONDeserializer()"
   ]
  },
  {
   "cell_type": "markdown",
   "metadata": {},
   "source": [
    "Let's pass the training dataset, in CSV format, to the inference endpoint so we can automatically detect the anomalies we saw with our eyes in the plots, above. Note that the serializer and deserializer will automatically take care of the datatype conversion from Numpy NDArrays.\n",
    "\n",
    "For starters, let's only pass in the first six datapoints so we can see what the output looks like."
   ]
  },
  {
   "cell_type": "code",
   "execution_count": 20,
   "metadata": {},
   "outputs": [
    {
     "name": "stdout",
     "output_type": "stream",
     "text": [
      "[[10844]\n",
      " [ 8127]\n",
      " [ 6210]\n",
      " [ 4656]\n",
      " [ 3820]\n",
      " [ 2873]]\n"
     ]
    }
   ],
   "source": [
    "taxi_data_numpy = taxi_data.value.to_numpy().reshape(-1, 1)\n",
    "print(taxi_data_numpy[:6])\n",
    "results = rcf_inference.predict(\n",
    "    taxi_data_numpy[:6], initial_args={\"ContentType\": \"text/csv\", \"Accept\": \"application/json\"}\n",
    ")"
   ]
  },
  {
   "cell_type": "code",
   "execution_count": 21,
   "metadata": {},
   "outputs": [
    {
     "data": {
      "text/plain": [
       "{'scores': [{'score': 0.9527555993},\n",
       "  {'score': 1.0004607938},\n",
       "  {'score': 0.8943928115},\n",
       "  {'score': 0.8833487616},\n",
       "  {'score': 0.8623040595},\n",
       "  {'score': 0.9293807631}]}"
      ]
     },
     "execution_count": 21,
     "metadata": {},
     "output_type": "execute_result"
    }
   ],
   "source": [
    "results"
   ]
  },
  {
   "cell_type": "markdown",
   "metadata": {},
   "source": [
    "## Computing Anomaly Scores\n",
    "\n",
    "Now, let's compute and plot the anomaly scores from the entire taxi dataset."
   ]
  },
  {
   "cell_type": "code",
   "execution_count": 22,
   "metadata": {},
   "outputs": [
    {
     "data": {
      "text/html": [
       "<div>\n",
       "<style scoped>\n",
       "    .dataframe tbody tr th:only-of-type {\n",
       "        vertical-align: middle;\n",
       "    }\n",
       "\n",
       "    .dataframe tbody tr th {\n",
       "        vertical-align: top;\n",
       "    }\n",
       "\n",
       "    .dataframe thead th {\n",
       "        text-align: right;\n",
       "    }\n",
       "</style>\n",
       "<table border=\"1\" class=\"dataframe\">\n",
       "  <thead>\n",
       "    <tr style=\"text-align: right;\">\n",
       "      <th></th>\n",
       "      <th>timestamp</th>\n",
       "      <th>value</th>\n",
       "      <th>score</th>\n",
       "    </tr>\n",
       "  </thead>\n",
       "  <tbody>\n",
       "    <tr>\n",
       "      <th>0</th>\n",
       "      <td>2014-07-01 00:00:00</td>\n",
       "      <td>10844</td>\n",
       "      <td>0.952756</td>\n",
       "    </tr>\n",
       "    <tr>\n",
       "      <th>1</th>\n",
       "      <td>2014-07-01 00:30:00</td>\n",
       "      <td>8127</td>\n",
       "      <td>1.000461</td>\n",
       "    </tr>\n",
       "    <tr>\n",
       "      <th>2</th>\n",
       "      <td>2014-07-01 01:00:00</td>\n",
       "      <td>6210</td>\n",
       "      <td>0.894393</td>\n",
       "    </tr>\n",
       "    <tr>\n",
       "      <th>3</th>\n",
       "      <td>2014-07-01 01:30:00</td>\n",
       "      <td>4656</td>\n",
       "      <td>0.883349</td>\n",
       "    </tr>\n",
       "    <tr>\n",
       "      <th>4</th>\n",
       "      <td>2014-07-01 02:00:00</td>\n",
       "      <td>3820</td>\n",
       "      <td>0.862304</td>\n",
       "    </tr>\n",
       "  </tbody>\n",
       "</table>\n",
       "</div>"
      ],
      "text/plain": [
       "             timestamp  value     score\n",
       "0  2014-07-01 00:00:00  10844  0.952756\n",
       "1  2014-07-01 00:30:00   8127  1.000461\n",
       "2  2014-07-01 01:00:00   6210  0.894393\n",
       "3  2014-07-01 01:30:00   4656  0.883349\n",
       "4  2014-07-01 02:00:00   3820  0.862304"
      ]
     },
     "execution_count": 22,
     "metadata": {},
     "output_type": "execute_result"
    }
   ],
   "source": [
    "results = rcf_inference.predict(taxi_data_numpy)\n",
    "scores = [datum[\"score\"] for datum in results[\"scores\"]]\n",
    "\n",
    "# add scores to taxi data frame and print first few values\n",
    "taxi_data[\"score\"] = pd.Series(scores, index=taxi_data.index)\n",
    "taxi_data.head()"
   ]
  },
  {
   "cell_type": "code",
   "execution_count": 1,
   "metadata": {},
   "outputs": [
    {
     "ename": "NameError",
     "evalue": "name 'plt' is not defined",
     "output_type": "error",
     "traceback": [
      "\u001b[0;31m---------------------------------------------------------------------------\u001b[0m",
      "\u001b[0;31mNameError\u001b[0m                                 Traceback (most recent call last)",
      "\u001b[0;32m<ipython-input-1-cf8f337ba394>\u001b[0m in \u001b[0;36m<module>\u001b[0;34m\u001b[0m\n\u001b[0;32m----> 1\u001b[0;31m \u001b[0mfig\u001b[0m\u001b[0;34m,\u001b[0m \u001b[0max1\u001b[0m \u001b[0;34m=\u001b[0m \u001b[0mplt\u001b[0m\u001b[0;34m.\u001b[0m\u001b[0msubplots\u001b[0m\u001b[0;34m(\u001b[0m\u001b[0;34m)\u001b[0m\u001b[0;34m\u001b[0m\u001b[0;34m\u001b[0m\u001b[0m\n\u001b[0m\u001b[1;32m      2\u001b[0m \u001b[0max2\u001b[0m \u001b[0;34m=\u001b[0m \u001b[0max1\u001b[0m\u001b[0;34m.\u001b[0m\u001b[0mtwinx\u001b[0m\u001b[0;34m(\u001b[0m\u001b[0;34m)\u001b[0m\u001b[0;34m\u001b[0m\u001b[0;34m\u001b[0m\u001b[0m\n\u001b[1;32m      3\u001b[0m \u001b[0;34m\u001b[0m\u001b[0m\n\u001b[1;32m      4\u001b[0m \u001b[0;31m#\u001b[0m\u001b[0;34m\u001b[0m\u001b[0;34m\u001b[0m\u001b[0;34m\u001b[0m\u001b[0m\n\u001b[1;32m      5\u001b[0m \u001b[0;31m# *Try this out* - change `start` and `end` to zoom in on the\u001b[0m\u001b[0;34m\u001b[0m\u001b[0;34m\u001b[0m\u001b[0;34m\u001b[0m\u001b[0m\n",
      "\u001b[0;31mNameError\u001b[0m: name 'plt' is not defined"
     ]
    }
   ],
   "source": [
    "fig, ax1 = plt.subplots()\n",
    "ax2 = ax1.twinx()\n",
    "\n",
    "#\n",
    "# *Try this out* - change `start` and `end` to zoom in on the\n",
    "# anomaly found earlier in this notebook\n",
    "#\n",
    "start, end = 0, len(taxi_data)\n",
    "# start, end = 5500, 6500\n",
    "taxi_data_subset = taxi_data[start:end]\n",
    "\n",
    "ax1.plot(taxi_data_subset[\"value\"], color=\"C0\", alpha=0.8)\n",
    "ax2.plot(taxi_data_subset[\"score\"], color=\"C1\")\n",
    "\n",
    "ax1.grid(which=\"major\", axis=\"both\")\n",
    "\n",
    "ax1.set_ylabel(\"Taxi Ridership\", color=\"C0\")\n",
    "ax2.set_ylabel(\"Anomaly Score\", color=\"C1\")\n",
    "\n",
    "ax1.tick_params(\"y\", colors=\"C0\")\n",
    "ax2.tick_params(\"y\", colors=\"C1\")\n",
    "\n",
    "ax1.set_ylim(0, 40000)\n",
    "ax2.set_ylim(min(scores), 1.4 * max(scores))\n",
    "fig.set_figwidth(10)"
   ]
  },
  {
   "cell_type": "markdown",
   "metadata": {},
   "source": [
    "Note that the anomaly score spikes where our eyeball-norm method suggests there is an anomalous data point as well as in some places where our eyeballs are not as accurate.\n",
    "\n",
    "Below we print and plot any data points with scores greater than 3 standard deviations (approx 99.9th percentile) from the mean score."
   ]
  },
  {
   "cell_type": "code",
   "execution_count": 28,
   "metadata": {},
   "outputs": [
    {
     "data": {
      "text/html": [
       "<div>\n",
       "<style scoped>\n",
       "    .dataframe tbody tr th:only-of-type {\n",
       "        vertical-align: middle;\n",
       "    }\n",
       "\n",
       "    .dataframe tbody tr th {\n",
       "        vertical-align: top;\n",
       "    }\n",
       "\n",
       "    .dataframe thead th {\n",
       "        text-align: right;\n",
       "    }\n",
       "</style>\n",
       "<table border=\"1\" class=\"dataframe\">\n",
       "  <thead>\n",
       "    <tr style=\"text-align: right;\">\n",
       "      <th></th>\n",
       "      <th>timestamp</th>\n",
       "      <th>value</th>\n",
       "      <th>score</th>\n",
       "    </tr>\n",
       "  </thead>\n",
       "  <tbody>\n",
       "    <tr>\n",
       "      <th>37</th>\n",
       "      <td>2014-07-01 18:30:00</td>\n",
       "      <td>27598</td>\n",
       "      <td>2.116870</td>\n",
       "    </tr>\n",
       "    <tr>\n",
       "      <th>38</th>\n",
       "      <td>2014-07-01 19:00:00</td>\n",
       "      <td>26827</td>\n",
       "      <td>1.750156</td>\n",
       "    </tr>\n",
       "    <tr>\n",
       "      <th>87</th>\n",
       "      <td>2014-07-02 19:30:00</td>\n",
       "      <td>26872</td>\n",
       "      <td>1.758034</td>\n",
       "    </tr>\n",
       "    <tr>\n",
       "      <th>134</th>\n",
       "      <td>2014-07-03 19:00:00</td>\n",
       "      <td>29985</td>\n",
       "      <td>3.038134</td>\n",
       "    </tr>\n",
       "    <tr>\n",
       "      <th>527</th>\n",
       "      <td>2014-07-11 23:30:00</td>\n",
       "      <td>26873</td>\n",
       "      <td>1.756937</td>\n",
       "    </tr>\n",
       "    <tr>\n",
       "      <th>...</th>\n",
       "      <td>...</td>\n",
       "      <td>...</td>\n",
       "      <td>...</td>\n",
       "    </tr>\n",
       "    <tr>\n",
       "      <th>10309</th>\n",
       "      <td>2015-01-31 18:30:00</td>\n",
       "      <td>27286</td>\n",
       "      <td>1.933792</td>\n",
       "    </tr>\n",
       "    <tr>\n",
       "      <th>10310</th>\n",
       "      <td>2015-01-31 19:00:00</td>\n",
       "      <td>28804</td>\n",
       "      <td>2.642491</td>\n",
       "    </tr>\n",
       "    <tr>\n",
       "      <th>10311</th>\n",
       "      <td>2015-01-31 19:30:00</td>\n",
       "      <td>27773</td>\n",
       "      <td>2.185997</td>\n",
       "    </tr>\n",
       "    <tr>\n",
       "      <th>10317</th>\n",
       "      <td>2015-01-31 22:30:00</td>\n",
       "      <td>27309</td>\n",
       "      <td>1.942674</td>\n",
       "    </tr>\n",
       "    <tr>\n",
       "      <th>10318</th>\n",
       "      <td>2015-01-31 23:00:00</td>\n",
       "      <td>26591</td>\n",
       "      <td>1.694445</td>\n",
       "    </tr>\n",
       "  </tbody>\n",
       "</table>\n",
       "<p>239 rows × 3 columns</p>\n",
       "</div>"
      ],
      "text/plain": [
       "                 timestamp  value     score\n",
       "37     2014-07-01 18:30:00  27598  2.116870\n",
       "38     2014-07-01 19:00:00  26827  1.750156\n",
       "87     2014-07-02 19:30:00  26872  1.758034\n",
       "134    2014-07-03 19:00:00  29985  3.038134\n",
       "527    2014-07-11 23:30:00  26873  1.756937\n",
       "...                    ...    ...       ...\n",
       "10309  2015-01-31 18:30:00  27286  1.933792\n",
       "10310  2015-01-31 19:00:00  28804  2.642491\n",
       "10311  2015-01-31 19:30:00  27773  2.185997\n",
       "10317  2015-01-31 22:30:00  27309  1.942674\n",
       "10318  2015-01-31 23:00:00  26591  1.694445\n",
       "\n",
       "[239 rows x 3 columns]"
      ]
     },
     "execution_count": 28,
     "metadata": {},
     "output_type": "execute_result"
    }
   ],
   "source": [
    "score_mean = taxi_data[\"score\"].mean()\n",
    "score_std = taxi_data[\"score\"].std()\n",
    "score_cutoff = score_mean + 3 * score_std\n",
    "\n",
    "anomalies = taxi_data_subset[taxi_data_subset[\"score\"] > score_cutoff]\n",
    "anomalies"
   ]
  },
  {
   "cell_type": "markdown",
   "metadata": {},
   "source": [
    "The following is a list of known anomalous events which occurred in New York City within this timeframe:\n",
    "\n",
    "* `2014-11-02` - NYC Marathon\n",
    "* `2015-01-01` - New Year's Eve\n",
    "* `2015-01-27` - Snowstorm\n",
    "\n",
    "Note that our algorithm managed to capture these events along with quite a few others. Below we add these anomalies to the score plot."
   ]
  },
  {
   "cell_type": "code",
   "execution_count": 31,
   "metadata": {},
   "outputs": [
    {
     "data": {
      "image/png": "[encoded data removed]",
      "text/plain": [
       "<Figure size 720x288 with 2 Axes>"
      ]
     },
     "execution_count": 31,
     "metadata": {},
     "output_type": "execute_result"
    }
   ],
   "source": [
    "ax2.plot(anomalies.index, anomalies.score, \"ko\")\n",
    "fig"
   ]
  },
  {
   "cell_type": "markdown",
   "metadata": {},
   "source": [
    "With the current hyperparameter choices we see that the three-standard-deviation threshold, while able to capture the known anomalies as well as the ones apparent in the ridership plot, is rather sensitive to fine-grained peruturbations and anomalous behavior. Adding trees to the SageMaker RCF model could smooth out the results as well as using a larger data set."
   ]
  },
  {
   "cell_type": "markdown",
   "metadata": {},
   "source": [
    "## Stop and Delete the Endpoint\n",
    "\n",
    "Finally, we should delete the endpoint before we close the notebook.\n",
    "\n",
    "To do so execute the cell below. Alternately, you can navigate to the \"Endpoints\" tab in the SageMaker console, select the endpoint with the name stored in the variable `endpoint_name`, and select \"Delete\" from the \"Actions\" dropdown menu. "
   ]
  },
  {
   "cell_type": "code",
   "execution_count": 32,
   "metadata": {},
   "outputs": [
    {
     "name": "stderr",
     "output_type": "stream",
     "text": [
      "The endpoint attribute has been renamed in sagemaker>=2.\n",
      "See: https://sagemaker.readthedocs.io/en/stable/v2.html for details.\n"
     ]
    }
   ],
   "source": [
    "sagemaker.Session().delete_endpoint(rcf_inference.endpoint)"
   ]
  },
  {
   "cell_type": "markdown",
   "metadata": {},
   "source": [
    "# Epilogue\n",
    "\n",
    "---\n",
    "\n",
    "We used Amazon SageMaker Random Cut Forest to detect anomalous datapoints in a taxi ridership dataset. In these data the anomalies occurred when ridership was uncharacteristically high or low. However, the RCF algorithm is also capable of detecting when, for example, data breaks periodicity or uncharacteristically changes global behavior.\n",
    "\n",
    "Depending on the kind of data you have there are several ways to improve algorithm performance. One method, for example, is to use an appropriate training set. If you know that a particular set of data is characteristic of \"normal\" behavior then training on said set of data will more accurately characterize \"abnormal\" data.\n",
    "\n",
    "Another improvement is make use of a windowing technique called \"shingling\". This is especially useful when working with periodic data with known period, such as the NYC taxi dataset used above. The idea is to treat a period of $P$ datapoints as a single datapoint of feature length $P$ and then run the RCF algorithm on these feature vectors. That is, if our original data consists of points $x_1, x_2, \\ldots, x_N \\in \\mathbb{R}$ then we perform the transformation,\n",
    "\n",
    "```\n",
    "data = [[x_1],            shingled_data = [[x_1, x_2, ..., x_{P}],\n",
    "        [x_2],    --->                     [x_2, x_3, ..., x_{P+1}],\n",
    "        ...                                ...\n",
    "        [x_N]]                             [x_{N-P}, ..., x_{N}]]\n",
    "\n",
    "```"
   ]
  },
  {
   "cell_type": "code",
   "execution_count": 47,
   "metadata": {},
   "outputs": [
    {
     "data": {
      "text/plain": [
       "array([10844, 8127, 6210, ..., 27309, 26591, 26288], dtype=object)"
      ]
     },
     "execution_count": 47,
     "metadata": {},
     "output_type": "execute_result"
    }
   ],
   "source": [
    "taxi_data.values[:,1]"
   ]
  },
  {
   "cell_type": "code",
   "execution_count": 48,
   "metadata": {},
   "outputs": [
    {
     "name": "stdout",
     "output_type": "stream",
     "text": [
      "[[10844.  8127.  6210. ... 21733. 20104. 16111.]\n",
      " [ 8127.  6210.  4656. ... 20104. 16111. 13370.]\n",
      " [ 6210.  4656.  3820. ... 16111. 13370.  9945.]\n",
      " ...\n",
      " [26874. 26928. 26000. ... 23719. 24670. 25721.]\n",
      " [26928. 26000. 25778. ... 24670. 25721. 27309.]\n",
      " [26000. 25778. 23304. ... 25721. 27309. 26591.]]\n"
     ]
    }
   ],
   "source": [
    "import numpy as np\n",
    "\n",
    "\n",
    "def shingle(data, shingle_size):\n",
    "    num_data = len(data)\n",
    "    shingled_data = np.zeros((num_data - shingle_size, shingle_size))\n",
    "\n",
    "    for n in range(num_data - shingle_size):\n",
    "        shingled_data[n] = data[n : (n + shingle_size)]\n",
    "    return shingled_data\n",
    "\n",
    "\n",
    "# single data with shingle size=48 (one day)\n",
    "shingle_size = 48\n",
    "prefix_shingled = \"sagemaker/randomcutforest_shingled\"\n",
    "taxi_data_shingled = shingle(taxi_data.values[:, 1], shingle_size)\n",
    "print(taxi_data_shingled)"
   ]
  },
  {
   "cell_type": "markdown",
   "metadata": {},
   "source": [
    "We create a new training job and and inference endpoint. (Note that we cannot re-use the endpoint created above because it was trained with one-dimensional data.)"
   ]
  },
  {
   "cell_type": "code",
   "execution_count": 49,
   "metadata": {},
   "outputs": [
    {
     "name": "stderr",
     "output_type": "stream",
     "text": [
      "Defaulting to the only supported framework/algorithm version: 1. Ignoring framework/algorithm version: 1.\n",
      "Defaulting to the only supported framework/algorithm version: 1. Ignoring framework/algorithm version: 1.\n"
     ]
    },
    {
     "name": "stdout",
     "output_type": "stream",
     "text": [
      "2021-11-22 09:03:21 Starting - Starting the training job...\n",
      "2021-11-22 09:03:34 Starting - Launching requested ML instancesProfilerReport-1637571801: InProgress\n",
      "......\n",
      "2021-11-22 09:04:35 Starting - Preparing the instances for training.........\n",
      "2021-11-22 09:06:16 Downloading - Downloading input data......\n",
      "2021-11-22 09:07:16 Training - Downloading the training image..\u001b[34mDocker entrypoint called with argument(s): train\u001b[0m\n",
      "\u001b[34mRunning default environment configuration script\u001b[0m\n",
      "\u001b[34m[11/22/2021 09:07:35 INFO 140410452236096] Reading default configuration from /opt/amazon/lib/python3.7/site-packages/algorithm/resources/default-conf.json: {'num_samples_per_tree': 256, 'num_trees': 100, 'force_dense': 'true', 'eval_metrics': ['accuracy', 'precision_recall_fscore'], 'epochs': 1, 'mini_batch_size': 1000, '_log_level': 'info', '_kvstore': 'dist_async', '_num_kv_servers': 'auto', '_num_gpus': 'auto', '_tuning_objective_metric': '', '_ftp_port': 8999}\u001b[0m\n",
      "\u001b[34m[11/22/2021 09:07:35 INFO 140410452236096] Merging with provided configuration from /opt/ml/input/config/hyperparameters.json: {'num_trees': '50', 'num_samples_per_tree': '512', 'feature_dim': '48', 'mini_batch_size': '1000'}\u001b[0m\n",
      "\u001b[34m[11/22/2021 09:07:35 INFO 140410452236096] Final configuration: {'num_samples_per_tree': '512', 'num_trees': '50', 'force_dense': 'true', 'eval_metrics': ['accuracy', 'precision_recall_fscore'], 'epochs': 1, 'mini_batch_size': '1000', '_log_level': 'info', '_kvstore': 'dist_async', '_num_kv_servers': 'auto', '_num_gpus': 'auto', '_tuning_objective_metric': '', '_ftp_port': 8999, 'feature_dim': '48'}\u001b[0m\n",
      "\u001b[34m[11/22/2021 09:07:35 WARNING 140410452236096] Loggers have already been setup.\u001b[0m\n",
      "\u001b[34m[11/22/2021 09:07:35 INFO 140410452236096] Launching parameter server for role scheduler\u001b[0m\n",
      "\u001b[34m[11/22/2021 09:07:35 INFO 140410452236096] {'ENVROOT': '/opt/amazon', 'PROTOCOL_BUFFERS_PYTHON_IMPLEMENTATION': 'cpp', 'HOSTNAME': 'ip-10-2-201-231.ec2.internal', 'TRAINING_JOB_NAME': 'randomcutforest-2021-11-22-09-03-21-653', 'NVIDIA_REQUIRE_CUDA': 'cuda>=9.0', 'TRAINING_JOB_ARN': 'arn:aws:sagemaker:us-east-1:241082659383:training-job/randomcutforest-2021-11-22-09-03-21-653', 'AWS_CONTAINER_CREDENTIALS_RELATIVE_URI': '/v2/credentials/ed9df2c1-8b79-48e8-b3c9-cd299a99fab7', 'CANONICAL_ENVROOT': '/opt/amazon', 'PYTHONUNBUFFERED': 'TRUE', 'NVIDIA_VISIBLE_DEVICES': 'void', 'LD_LIBRARY_PATH': '/opt/amazon/lib/python3.7/site-packages/cv2/../../../../lib:/usr/local/nvidia/lib64:/opt/amazon/lib', 'MXNET_KVSTORE_BIGARRAY_BOUND': '400000000', 'NVIDIA_DRIVER_CAPABILITIES': 'compute,utility', 'AWS_EXECUTION_ENV': 'AWS_ECS_EC2', 'PATH': '/opt/amazon/bin:/usr/local/nvidia/bin:/usr/local/sbin:/usr/local/bin:/usr/sbin:/usr/bin:/sbin:/bin:/opt/amazon/bin:/opt/amazon/bin', 'PWD': '/', 'LANG': 'en_US.utf8', 'AWS_REGION': 'us-east-1', 'SAGEMAKER_METRICS_DIRECTORY': '/opt/ml/output/metrics/sagemaker', 'HOME': '/root', 'SHLVL': '1', 'PROTOCOL_BUFFERS_PYTHON_IMPLEMENTATION_VERSION': '2', 'OMP_NUM_THREADS': '2', 'ECS_CONTAINER_METADATA_URI': 'http://169.254.170.2/v3/52995620-a464-45d5-b88f-41e1490e57ff', 'DMLC_INTERFACE': 'eth0', 'ECS_CONTAINER_METADATA_URI_V4': 'http://169.254.170.2/v4/52995620-a464-45d5-b88f-41e1490e57ff', 'SAGEMAKER_HTTP_PORT': '8080', 'SAGEMAKER_DATA_PATH': '/opt/ml', 'KMP_DUPLICATE_LIB_OK': 'True', 'KMP_INIT_AT_FORK': 'FALSE'}\u001b[0m\n",
      "\u001b[34m[11/22/2021 09:07:35 INFO 140410452236096] envs={'ENVROOT': '/opt/amazon', 'PROTOCOL_BUFFERS_PYTHON_IMPLEMENTATION': 'cpp', 'HOSTNAME': 'ip-10-2-201-231.ec2.internal', 'TRAINING_JOB_NAME': 'randomcutforest-2021-11-22-09-03-21-653', 'NVIDIA_REQUIRE_CUDA': 'cuda>=9.0', 'TRAINING_JOB_ARN': 'arn:aws:sagemaker:us-east-1:241082659383:training-job/randomcutforest-2021-11-22-09-03-21-653', 'AWS_CONTAINER_CREDENTIALS_RELATIVE_URI': '/v2/credentials/ed9df2c1-8b79-48e8-b3c9-cd299a99fab7', 'CANONICAL_ENVROOT': '/opt/amazon', 'PYTHONUNBUFFERED': 'TRUE', 'NVIDIA_VISIBLE_DEVICES': 'void', 'LD_LIBRARY_PATH': '/opt/amazon/lib/python3.7/site-packages/cv2/../../../../lib:/usr/local/nvidia/lib64:/opt/amazon/lib', 'MXNET_KVSTORE_BIGARRAY_BOUND': '400000000', 'NVIDIA_DRIVER_CAPABILITIES': 'compute,utility', 'AWS_EXECUTION_ENV': 'AWS_ECS_EC2', 'PATH': '/opt/amazon/bin:/usr/local/nvidia/bin:/usr/local/sbin:/usr/local/bin:/usr/sbin:/usr/bin:/sbin:/bin:/opt/amazon/bin:/opt/amazon/bin', 'PWD': '/', 'LANG': 'en_US.utf8', 'AWS_REGION': 'us-east-1', 'SAGEMAKER_METRICS_DIRECTORY': '/opt/ml/output/metrics/sagemaker', 'HOME': '/root', 'SHLVL': '1', 'PROTOCOL_BUFFERS_PYTHON_IMPLEMENTATION_VERSION': '2', 'OMP_NUM_THREADS': '2', 'ECS_CONTAINER_METADATA_URI': 'http://169.254.170.2/v3/52995620-a464-45d5-b88f-41e1490e57ff', 'DMLC_INTERFACE': 'eth0', 'ECS_CONTAINER_METADATA_URI_V4': 'http://169.254.170.2/v4/52995620-a464-45d5-b88f-41e1490e57ff', 'SAGEMAKER_HTTP_PORT': '8080', 'SAGEMAKER_DATA_PATH': '/opt/ml', 'KMP_DUPLICATE_LIB_OK': 'True', 'KMP_INIT_AT_FORK': 'FALSE', 'DMLC_ROLE': 'scheduler', 'DMLC_PS_ROOT_URI': '10.2.201.231', 'DMLC_PS_ROOT_PORT': '9000', 'DMLC_NUM_SERVER': '1', 'DMLC_NUM_WORKER': '1'}\u001b[0m\n",
      "\u001b[34m[11/22/2021 09:07:35 INFO 140410452236096] Launching parameter server for role server\u001b[0m\n",
      "\u001b[34m[11/22/2021 09:07:35 INFO 140410452236096] {'ENVROOT': '/opt/amazon', 'PROTOCOL_BUFFERS_PYTHON_IMPLEMENTATION': 'cpp', 'HOSTNAME': 'ip-10-2-201-231.ec2.internal', 'TRAINING_JOB_NAME': 'randomcutforest-2021-11-22-09-03-21-653', 'NVIDIA_REQUIRE_CUDA': 'cuda>=9.0', 'TRAINING_JOB_ARN': 'arn:aws:sagemaker:us-east-1:241082659383:training-job/randomcutforest-2021-11-22-09-03-21-653', 'AWS_CONTAINER_CREDENTIALS_RELATIVE_URI': '/v2/credentials/ed9df2c1-8b79-48e8-b3c9-cd299a99fab7', 'CANONICAL_ENVROOT': '/opt/amazon', 'PYTHONUNBUFFERED': 'TRUE', 'NVIDIA_VISIBLE_DEVICES': 'void', 'LD_LIBRARY_PATH': '/opt/amazon/lib/python3.7/site-packages/cv2/../../../../lib:/usr/local/nvidia/lib64:/opt/amazon/lib', 'MXNET_KVSTORE_BIGARRAY_BOUND': '400000000', 'NVIDIA_DRIVER_CAPABILITIES': 'compute,utility', 'AWS_EXECUTION_ENV': 'AWS_ECS_EC2', 'PATH': '/opt/amazon/bin:/usr/local/nvidia/bin:/usr/local/sbin:/usr/local/bin:/usr/sbin:/usr/bin:/sbin:/bin:/opt/amazon/bin:/opt/amazon/bin', 'PWD': '/', 'LANG': 'en_US.utf8', 'AWS_REGION': 'us-east-1', 'SAGEMAKER_METRICS_DIRECTORY': '/opt/ml/output/metrics/sagemaker', 'HOME': '/root', 'SHLVL': '1', 'PROTOCOL_BUFFERS_PYTHON_IMPLEMENTATION_VERSION': '2', 'OMP_NUM_THREADS': '2', 'ECS_CONTAINER_METADATA_URI': 'http://169.254.170.2/v3/52995620-a464-45d5-b88f-41e1490e57ff', 'DMLC_INTERFACE': 'eth0', 'ECS_CONTAINER_METADATA_URI_V4': 'http://169.254.170.2/v4/52995620-a464-45d5-b88f-41e1490e57ff', 'SAGEMAKER_HTTP_PORT': '8080', 'SAGEMAKER_DATA_PATH': '/opt/ml', 'KMP_DUPLICATE_LIB_OK': 'True', 'KMP_INIT_AT_FORK': 'FALSE'}\u001b[0m\n",
      "\u001b[34m[11/22/2021 09:07:35 INFO 140410452236096] envs={'ENVROOT': '/opt/amazon', 'PROTOCOL_BUFFERS_PYTHON_IMPLEMENTATION': 'cpp', 'HOSTNAME': 'ip-10-2-201-231.ec2.internal', 'TRAINING_JOB_NAME': 'randomcutforest-2021-11-22-09-03-21-653', 'NVIDIA_REQUIRE_CUDA': 'cuda>=9.0', 'TRAINING_JOB_ARN': 'arn:aws:sagemaker:us-east-1:241082659383:training-job/randomcutforest-2021-11-22-09-03-21-653', 'AWS_CONTAINER_CREDENTIALS_RELATIVE_URI': '/v2/credentials/ed9df2c1-8b79-48e8-b3c9-cd299a99fab7', 'CANONICAL_ENVROOT': '/opt/amazon', 'PYTHONUNBUFFERED': 'TRUE', 'NVIDIA_VISIBLE_DEVICES': 'void', 'LD_LIBRARY_PATH': '/opt/amazon/lib/python3.7/site-packages/cv2/../../../../lib:/usr/local/nvidia/lib64:/opt/amazon/lib', 'MXNET_KVSTORE_BIGARRAY_BOUND': '400000000', 'NVIDIA_DRIVER_CAPABILITIES': 'compute,utility', 'AWS_EXECUTION_ENV': 'AWS_ECS_EC2', 'PATH': '/opt/amazon/bin:/usr/local/nvidia/bin:/usr/local/sbin:/usr/local/bin:/usr/sbin:/usr/bin:/sbin:/bin:/opt/amazon/bin:/opt/amazon/bin', 'PWD': '/', 'LANG': 'en_US.utf8', 'AWS_REGION': 'us-east-1', 'SAGEMAKER_METRICS_DIRECTORY': '/opt/ml/output/metrics/sagemaker', 'HOME': '/root', 'SHLVL': '1', 'PROTOCOL_BUFFERS_PYTHON_IMPLEMENTATION_VERSION': '2', 'OMP_NUM_THREADS': '2', 'ECS_CONTAINER_METADATA_URI': 'http://169.254.170.2/v3/52995620-a464-45d5-b88f-41e1490e57ff', 'DMLC_INTERFACE': 'eth0', 'ECS_CONTAINER_METADATA_URI_V4': 'http://169.254.170.2/v4/52995620-a464-45d5-b88f-41e1490e57ff', 'SAGEMAKER_HTTP_PORT': '8080', 'SAGEMAKER_DATA_PATH': '/opt/ml', 'KMP_DUPLICATE_LIB_OK': 'True', 'KMP_INIT_AT_FORK': 'FALSE', 'DMLC_ROLE': 'server', 'DMLC_PS_ROOT_URI': '10.2.201.231', 'DMLC_PS_ROOT_PORT': '9000', 'DMLC_NUM_SERVER': '1', 'DMLC_NUM_WORKER': '1'}\u001b[0m\n",
      "\u001b[34m[11/22/2021 09:07:35 INFO 140410452236096] Environment: {'ENVROOT': '/opt/amazon', 'PROTOCOL_BUFFERS_PYTHON_IMPLEMENTATION': 'cpp', 'HOSTNAME': 'ip-10-2-201-231.ec2.internal', 'TRAINING_JOB_NAME': 'randomcutforest-2021-11-22-09-03-21-653', 'NVIDIA_REQUIRE_CUDA': 'cuda>=9.0', 'TRAINING_JOB_ARN': 'arn:aws:sagemaker:us-east-1:241082659383:training-job/randomcutforest-2021-11-22-09-03-21-653', 'AWS_CONTAINER_CREDENTIALS_RELATIVE_URI': '/v2/credentials/ed9df2c1-8b79-48e8-b3c9-cd299a99fab7', 'CANONICAL_ENVROOT': '/opt/amazon', 'PYTHONUNBUFFERED': 'TRUE', 'NVIDIA_VISIBLE_DEVICES': 'void', 'LD_LIBRARY_PATH': '/opt/amazon/lib/python3.7/site-packages/cv2/../../../../lib:/usr/local/nvidia/lib64:/opt/amazon/lib', 'MXNET_KVSTORE_BIGARRAY_BOUND': '400000000', 'NVIDIA_DRIVER_CAPABILITIES': 'compute,utility', 'AWS_EXECUTION_ENV': 'AWS_ECS_EC2', 'PATH': '/opt/amazon/bin:/usr/local/nvidia/bin:/usr/local/sbin:/usr/local/bin:/usr/sbin:/usr/bin:/sbin:/bin:/opt/amazon/bin:/opt/amazon/bin', 'PWD': '/', 'LANG': 'en_US.utf8', 'AWS_REGION': 'us-east-1', 'SAGEMAKER_METRICS_DIRECTORY': '/opt/ml/output/metrics/sagemaker', 'HOME': '/root', 'SHLVL': '1', 'PROTOCOL_BUFFERS_PYTHON_IMPLEMENTATION_VERSION': '2', 'OMP_NUM_THREADS': '2', 'ECS_CONTAINER_METADATA_URI': 'http://169.254.170.2/v3/52995620-a464-45d5-b88f-41e1490e57ff', 'DMLC_INTERFACE': 'eth0', 'ECS_CONTAINER_METADATA_URI_V4': 'http://169.254.170.2/v4/52995620-a464-45d5-b88f-41e1490e57ff', 'SAGEMAKER_HTTP_PORT': '8080', 'SAGEMAKER_DATA_PATH': '/opt/ml', 'KMP_DUPLICATE_LIB_OK': 'True', 'KMP_INIT_AT_FORK': 'FALSE', 'DMLC_ROLE': 'worker', 'DMLC_PS_ROOT_URI': '10.2.201.231', 'DMLC_PS_ROOT_PORT': '9000', 'DMLC_NUM_SERVER': '1', 'DMLC_NUM_WORKER': '1'}\u001b[0m\n",
      "\u001b[34mProcess 34 is a shell:scheduler.\u001b[0m\n",
      "\u001b[34mProcess 43 is a shell:server.\u001b[0m\n",
      "\u001b[34mProcess 1 is a worker.\u001b[0m\n",
      "\u001b[34m[11/22/2021 09:07:35 INFO 140410452236096] Using default worker.\u001b[0m\n",
      "\u001b[34m[11/22/2021 09:07:35 INFO 140410452236096] Loaded iterator creator application/x-recordio-protobuf for content type ('application/x-recordio-protobuf', '1.0')\u001b[0m\n",
      "\u001b[34m[11/22/2021 09:07:35 INFO 140410452236096] Checkpoint loading and saving are disabled.\u001b[0m\n",
      "\u001b[34m[11/22/2021 09:07:35 INFO 140410452236096] Verifying hyperparamemters...\u001b[0m\n",
      "\u001b[34m[11/22/2021 09:07:35 INFO 140410452236096] Hyperparameters are correct.\u001b[0m\n",
      "\u001b[34m[11/22/2021 09:07:35 INFO 140410452236096] Validating that feature_dim agrees with dimensions in training data...\u001b[0m\n",
      "\u001b[34m[11/22/2021 09:07:35 INFO 140410452236096] feature_dim is correct.\u001b[0m\n",
      "\u001b[34m[11/22/2021 09:07:35 INFO 140410452236096] Validating memory limits...\u001b[0m\n",
      "\u001b[34m[11/22/2021 09:07:35 INFO 140410452236096] Available memory in bytes: 15138148352\u001b[0m\n",
      "\u001b[34m[11/22/2021 09:07:35 INFO 140410452236096] Estimated sample size in bytes: 19660800\u001b[0m\n",
      "\u001b[34m[11/22/2021 09:07:35 INFO 140410452236096] Estimated memory needed to build the forest in bytes: 49152000\u001b[0m\n",
      "\u001b[34m[11/22/2021 09:07:35 INFO 140410452236096] Memory limits validated.\u001b[0m\n",
      "\u001b[34m[11/22/2021 09:07:35 INFO 140410452236096] Starting cluster sharing facilities...\u001b[0m\n",
      "\u001b[34m[I 21-11-22 09:07:35] >>> starting FTP server on 0.0.0.0:8999, pid=1 <<<\u001b[0m\n",
      "\u001b[34m[11/22/2021 09:07:35 INFO 140410452236096] Create Store: dist_async\u001b[0m\n",
      "\u001b[34m[11/22/2021 09:07:35 INFO 140409007273728] >>> starting FTP server on 0.0.0.0:8999, pid=1 <<<\u001b[0m\n",
      "\u001b[34m[I 21-11-22 09:07:35] poller: <class 'pyftpdlib.ioloop.Epoll'>\u001b[0m\n",
      "\u001b[34m[11/22/2021 09:07:35 INFO 140409007273728] poller: <class 'pyftpdlib.ioloop.Epoll'>\u001b[0m\n",
      "\u001b[34m[I 21-11-22 09:07:35] masquerade (NAT) address: None\u001b[0m\n",
      "\u001b[34m[11/22/2021 09:07:35 INFO 140409007273728] masquerade (NAT) address: None\u001b[0m\n",
      "\u001b[34m[11/22/2021 09:07:35 INFO 140409007273728] passive ports: None\u001b[0m\n",
      "\u001b[34m[I 21-11-22 09:07:35] passive ports: None\u001b[0m\n",
      "\u001b[34m[I 21-11-22 09:07:35] use sendfile(2): True\u001b[0m\n",
      "\u001b[34m[11/22/2021 09:07:35 INFO 140409007273728] use sendfile(2): True\u001b[0m\n",
      "\u001b[34m[11/22/2021 09:07:36 INFO 140410452236096] Cluster sharing facilities started.\u001b[0m\n",
      "\u001b[34m[11/22/2021 09:07:36 INFO 140410452236096] Verifying all workers are accessible...\u001b[0m\n",
      "\u001b[34m[11/22/2021 09:07:36 INFO 140410452236096] All workers accessible.\u001b[0m\n",
      "\u001b[34m[11/22/2021 09:07:36 INFO 140410452236096] Initializing Sampler...\u001b[0m\n",
      "\u001b[34m[11/22/2021 09:07:36 INFO 140410452236096] Sampler correctly initialized.\u001b[0m\n",
      "\u001b[34m#metrics {\"StartTime\": 1637572055.416722, \"EndTime\": 1637572056.6849756, \"Dimensions\": {\"Algorithm\": \"RandomCutForest\", \"Host\": \"algo-1\", \"Operation\": \"training\"}, \"Metrics\": {\"initialize.time\": {\"sum\": 1260.216236114502, \"count\": 1, \"min\": 1260.216236114502, \"max\": 1260.216236114502}}}\u001b[0m\n",
      "\u001b[34m#metrics {\"StartTime\": 1637572056.685188, \"EndTime\": 1637572056.6852477, \"Dimensions\": {\"Algorithm\": \"RandomCutForest\", \"Host\": \"algo-1\", \"Operation\": \"training\", \"Meta\": \"init_train_data_iter\"}, \"Metrics\": {\"Total Records Seen\": {\"sum\": 0.0, \"count\": 1, \"min\": 0, \"max\": 0}, \"Total Batches Seen\": {\"sum\": 0.0, \"count\": 1, \"min\": 0, \"max\": 0}, \"Max Records Seen Between Resets\": {\"sum\": 0.0, \"count\": 1, \"min\": 0, \"max\": 0}, \"Max Batches Seen Between Resets\": {\"sum\": 0.0, \"count\": 1, \"min\": 0, \"max\": 0}, \"Reset Count\": {\"sum\": 0.0, \"count\": 1, \"min\": 0, \"max\": 0}, \"Number of Records Since Last Reset\": {\"sum\": 0.0, \"count\": 1, \"min\": 0, \"max\": 0}, \"Number of Batches Since Last Reset\": {\"sum\": 0.0, \"count\": 1, \"min\": 0, \"max\": 0}}}\u001b[0m\n",
      "\u001b[34m[2021-11-22 09:07:36.685] [tensorio] [info] epoch_stats={\"data_pipeline\": \"/opt/ml/input/data/train\", \"epoch\": 0, \"duration\": 1268, \"num_examples\": 1, \"num_bytes\": 412000}\u001b[0m\n",
      "\u001b[34m[11/22/2021 09:07:36 INFO 140410452236096] Sampling training data...\u001b[0m\n",
      "\u001b[34m[2021-11-22 09:07:36.731] [tensorio] [info] epoch_stats={\"data_pipeline\": \"/opt/ml/input/data/train\", \"epoch\": 1, \"duration\": 45, \"num_examples\": 11, \"num_bytes\": 4232064}\u001b[0m\n",
      "\u001b[34m[11/22/2021 09:07:36 INFO 140410452236096] Sampling training data completed.\u001b[0m\n",
      "\u001b[34m#metrics {\"StartTime\": 1637572056.6851187, \"EndTime\": 1637572056.7390203, \"Dimensions\": {\"Algorithm\": \"RandomCutForest\", \"Host\": \"algo-1\", \"Operation\": \"training\"}, \"Metrics\": {\"epochs\": {\"sum\": 1.0, \"count\": 1, \"min\": 1, \"max\": 1}, \"update.time\": {\"sum\": 53.086042404174805, \"count\": 1, \"min\": 53.086042404174805, \"max\": 53.086042404174805}}}\u001b[0m\n",
      "\u001b[34m[11/22/2021 09:07:36 INFO 140410452236096] Early stop condition met. Stopping training.\u001b[0m\n",
      "\u001b[34m[11/22/2021 09:07:36 INFO 140410452236096] #progress_metric: host=algo-1, completed 100 % epochs\u001b[0m\n",
      "\u001b[34m#metrics {\"StartTime\": 1637572056.6858857, \"EndTime\": 1637572056.7395065, \"Dimensions\": {\"Algorithm\": \"RandomCutForest\", \"Host\": \"algo-1\", \"Operation\": \"training\", \"epoch\": 0, \"Meta\": \"training_data_iter\"}, \"Metrics\": {\"Total Records Seen\": {\"sum\": 10272.0, \"count\": 1, \"min\": 10272, \"max\": 10272}, \"Total Batches Seen\": {\"sum\": 11.0, \"count\": 1, \"min\": 11, \"max\": 11}, \"Max Records Seen Between Resets\": {\"sum\": 10272.0, \"count\": 1, \"min\": 10272, \"max\": 10272}, \"Max Batches Seen Between Resets\": {\"sum\": 11.0, \"count\": 1, \"min\": 11, \"max\": 11}, \"Reset Count\": {\"sum\": 1.0, \"count\": 1, \"min\": 1, \"max\": 1}, \"Number of Records Since Last Reset\": {\"sum\": 10272.0, \"count\": 1, \"min\": 10272, \"max\": 10272}, \"Number of Batches Since Last Reset\": {\"sum\": 11.0, \"count\": 1, \"min\": 11, \"max\": 11}}}\u001b[0m\n",
      "\u001b[34m[11/22/2021 09:07:36 INFO 140410452236096] #throughput_metric: host=algo-1, train throughput=190991.62464757514 records/second\u001b[0m\n",
      "\u001b[34m[11/22/2021 09:07:36 INFO 140410452236096] Master node: building Random Cut Forest...\u001b[0m\n",
      "\u001b[34m[11/22/2021 09:07:36 INFO 140410452236096] Gathering samples...\u001b[0m\n",
      "\u001b[34m[11/22/2021 09:07:36 INFO 140410452236096] 10272 samples gathered\u001b[0m\n",
      "\u001b[34m[11/22/2021 09:07:36 INFO 140410452236096] Building Random Cut Forest...\u001b[0m\n",
      "\u001b[34m[11/22/2021 09:07:36 INFO 140410452236096] Random Cut Forest built: \u001b[0m\n",
      "\u001b[34mForestInfo{num_trees: 50, num_samples_in_forest: 10250, num_samples_per_tree: 205, sample_dim: 48, shingle_size: 1, trees_num_nodes: [409, 409, 409, 409, 409, 409, 409, 409, 409, 409, 409, 409, 409, 409, 409, 409, 409, 409, 409, 409, 409, 409, 409, 409, 409, 409, 409, 409, 409, 409, 409, 409, 409, 409, 409, 409, 409, 409, 409, 409, 409, 409, 409, 409, 409, 409, 409, 409, 409, 409, ], trees_depth: [23, 24, 16, 18, 19, 19, 18, 19, 20, 19, 18, 20, 17, 21, 26, 19, 20, 18, 20, 22, 19, 18, 19, 22, 18, 20, 15, 21, 23, 20, 18, 17, 17, 18, 15, 15, 22, 19, 21, 21, 15, 20, 20, 21, 16, 18, 16, 17, 18, 15, ], max_num_nodes: 409, min_num_nodes: 409, avg_num_nodes: 409, max_tree_depth: 26, min_tree_depth: 15, avg_tree_depth: 19, mem_size: 17505648}\u001b[0m\n",
      "\u001b[34m#metrics {\"StartTime\": 1637572056.7391472, \"EndTime\": 1637572056.7825735, \"Dimensions\": {\"Algorithm\": \"RandomCutForest\", \"Host\": \"algo-1\", \"Operation\": \"training\"}, \"Metrics\": {\"fit_model.time\": {\"sum\": 31.54730796813965, \"count\": 1, \"min\": 31.54730796813965, \"max\": 31.54730796813965}, \"model.bytes\": {\"sum\": 17505648.0, \"count\": 1, \"min\": 17505648, \"max\": 17505648}, \"finalize.time\": {\"sum\": 42.62733459472656, \"count\": 1, \"min\": 42.62733459472656, \"max\": 42.62733459472656}}}\u001b[0m\n",
      "\u001b[34m[11/22/2021 09:07:37 INFO 140410452236096] Master node: Serializing the RandomCutForest model\u001b[0m\n",
      "\u001b[34m#metrics {\"StartTime\": 1637572056.7827122, \"EndTime\": 1637572057.0758688, \"Dimensions\": {\"Algorithm\": \"RandomCutForest\", \"Host\": \"algo-1\", \"Operation\": \"training\"}, \"Metrics\": {\"serialize_model.time\": {\"sum\": 293.074369430542, \"count\": 1, \"min\": 293.074369430542, \"max\": 293.074369430542}}}\u001b[0m\n",
      "\u001b[34m[11/22/2021 09:07:37 INFO 140410452236096] Test data is not provided.\u001b[0m\n",
      "\u001b[34m#metrics {\"StartTime\": 1637572057.0759778, \"EndTime\": 1637572057.076111, \"Dimensions\": {\"Algorithm\": \"RandomCutForest\", \"Host\": \"algo-1\", \"Operation\": \"training\"}, \"Metrics\": {\"setuptime\": {\"sum\": 37.317514419555664, \"count\": 1, \"min\": 37.317514419555664, \"max\": 37.317514419555664}, \"totaltime\": {\"sum\": 1707.4480056762695, \"count\": 1, \"min\": 1707.4480056762695, \"max\": 1707.4480056762695}}}\u001b[0m\n"
     ]
    },
    {
     "name": "stdout",
     "output_type": "stream",
     "text": [
      "\n",
      "2021-11-22 09:07:48 Uploading - Uploading generated training model\n",
      "2021-11-22 09:07:48 Completed - Training job completed\n",
      "Training seconds: 93\n",
      "Billable seconds: 93\n"
     ]
    }
   ],
   "source": [
    "session = sagemaker.Session()\n",
    "\n",
    "# specify general training job information\n",
    "rcf = RandomCutForest(\n",
    "    role=execution_role,\n",
    "    instance_count=1,\n",
    "    instance_type=\"ml.m4.xlarge\",\n",
    "    data_location=f\"s3://{bucket}/{prefix_shingled}/\",\n",
    "    output_path=f\"s3://{bucket}/{prefix_shingled}/output\",\n",
    "    num_samples_per_tree=512,\n",
    "    num_trees=50,\n",
    ")\n",
    "\n",
    "# automatically upload the training data to S3 and run the training job\n",
    "rcf.fit(rcf.record_set(taxi_data_shingled))"
   ]
  },
  {
   "cell_type": "code",
   "execution_count": 50,
   "metadata": {},
   "outputs": [
    {
     "name": "stderr",
     "output_type": "stream",
     "text": [
      "Defaulting to the only supported framework/algorithm version: 1. Ignoring framework/algorithm version: 1.\n"
     ]
    },
    {
     "name": "stdout",
     "output_type": "stream",
     "text": [
      "----------!"
     ]
    }
   ],
   "source": [
    "from sagemaker.serializers import CSVSerializer\n",
    "from sagemaker.deserializers import JSONDeserializer\n",
    "\n",
    "rcf_inference = rcf.deploy(initial_instance_count=1, instance_type=\"ml.m4.xlarge\")\n",
    "\n",
    "rcf_inference.serializer = CSVSerializer()\n",
    "rcf_inference.deserializer = JSONDeserializer()"
   ]
  },
  {
   "cell_type": "code",
   "execution_count": 51,
   "metadata": {},
   "outputs": [
    {
     "name": "stdout",
     "output_type": "stream",
     "text": [
      "text/csv ('application/json',)\n"
     ]
    }
   ],
   "source": [
    "print(rcf_inference.content_type, rcf_inference.accept)"
   ]
  },
  {
   "cell_type": "markdown",
   "metadata": {},
   "source": [
    "Using the above inference endpoint we compute the anomaly scores associated with the shingled data."
   ]
  },
  {
   "cell_type": "code",
   "execution_count": 52,
   "metadata": {},
   "outputs": [
    {
     "name": "stdout",
     "output_type": "stream",
     "text": [
      "[1.46494575 1.45717382 1.45097518 1.44754664 1.47014339 1.47721585\n",
      " 1.60890217 1.60847897 1.5652727  1.61160529 1.56476847 1.59646486\n",
      " 1.53289356 1.53956154 1.46314443 1.48138031 1.53064672 1.70015986\n",
      " 1.6772769  1.72066022 1.66149033 1.68395947 1.66421594 1.64854487\n",
      " 1.70612434 1.57910792 1.58100502 1.68482883 1.55577486 1.62635485\n",
      " 1.66861994 1.64381996 1.62187976 1.62819064 1.66841887 1.67145579\n",
      " 1.69549764 1.65242045 1.55401146 1.57532277 1.5329015  1.54307286\n",
      " 1.48830949 1.47015671 1.52518459 1.52291066 1.50030818 1.50377744\n",
      " 1.52907164 1.52385657 1.45651137 1.44485188 1.46801006 1.49749089\n",
      " 1.54345128 1.55101707 1.60424273 1.57733339 1.55185076 1.54876231\n",
      " 1.54538934 1.54329212 1.49175445 1.49645276 1.49848348 1.52161182\n",
      " 1.47142627 1.46281926 1.44580092 1.45897251 1.50673836 1.49195205\n",
      " 1.48329362 1.4824545  1.52292085 1.52744383 1.48713951 1.48986201\n",
      " 1.59225506 1.59345773 1.59658876 1.51121389 1.56465213 1.5858156\n",
      " 1.62366177 1.68395455 1.67056055 1.70400609 1.73180939 1.77031059\n",
      " 1.80117549 1.87163529 1.88858765 1.90892637 1.93141878 1.99538491\n",
      " 2.02898929 2.0419334  2.08438093 2.09702963 2.11568313 2.09589898\n",
      " 2.16366135 2.19170057 2.19473071 2.20093328 2.23105684 2.26311209\n",
      " 2.25253909 2.25161609 2.2309975  2.1941674  2.17788698 2.15919365\n",
      " 2.15165769 2.14529849 2.12284749 2.11964133 2.11557601 2.13629384\n",
      " 2.10465278 2.02444667 2.01328936 2.01042179 1.9954424  1.94706163\n",
      " 1.96383624 1.95707426 1.96108766 1.94193448 1.93831123 1.8951767\n",
      " 1.87142103 1.83876222 1.84457168 1.84522893 1.82967177 1.81335051\n",
      " 1.76361169 1.71392542 1.65411918 1.54301576 1.52098192 1.49837051\n",
      " 1.4667024  1.44831519 1.45838438 1.45912555]\n"
     ]
    }
   ],
   "source": [
    "# Score the shingled datapoints\n",
    "results = rcf_inference.predict(\n",
    "    taxi_data_shingled, initial_args={\"ContentType\": \"text/csv\", \"Accept\": \"application/json\"}\n",
    ")\n",
    "scores = np.array([datum[\"score\"] for datum in results[\"scores\"]])\n",
    "\n",
    "# compute the shingled score distribution and cutoff and determine anomalous scores\n",
    "score_mean = scores.mean()\n",
    "score_std = scores.std()\n",
    "score_cutoff = score_mean + 3 * score_std\n",
    "\n",
    "anomalies = scores[scores > score_cutoff]\n",
    "anomaly_indices = np.arange(len(scores))[scores > score_cutoff]\n",
    "\n",
    "print(anomalies)"
   ]
  },
  {
   "cell_type": "markdown",
   "metadata": {},
   "source": [
    "Finally, we plot the scores from the shingled data on top of the original dataset and mark the score lying above the anomaly score threshold."
   ]
  },
  {
   "cell_type": "code",
   "execution_count": 53,
   "metadata": {},
   "outputs": [
    {
     "data": {
      "image/png": "[encoded data removed]",
      "text/plain": [
       "<Figure size 720x288 with 2 Axes>"
      ]
     },
     "metadata": {},
     "output_type": "display_data"
    }
   ],
   "source": [
    "fig, ax1 = plt.subplots()\n",
    "ax2 = ax1.twinx()\n",
    "\n",
    "#\n",
    "# *Try this out* - change `start` and `end` to zoom in on the\n",
    "# anomaly found earlier in this notebook\n",
    "#\n",
    "start, end = 0, len(taxi_data)\n",
    "taxi_data_subset = taxi_data[start:end]\n",
    "\n",
    "ax1.plot(taxi_data[\"value\"], color=\"C0\", alpha=0.8)\n",
    "ax2.plot(scores, color=\"C1\")\n",
    "ax2.scatter(anomaly_indices, anomalies, color=\"k\")\n",
    "\n",
    "ax1.grid(which=\"major\", axis=\"both\")\n",
    "ax1.set_ylabel(\"Taxi Ridership\", color=\"C0\")\n",
    "ax2.set_ylabel(\"Anomaly Score\", color=\"C1\")\n",
    "ax1.tick_params(\"y\", colors=\"C0\")\n",
    "ax2.tick_params(\"y\", colors=\"C1\")\n",
    "ax1.set_ylim(0, 40000)\n",
    "ax2.set_ylim(min(scores), 1.4 * max(scores))\n",
    "fig.set_figwidth(10)"
   ]
  },
  {
   "cell_type": "markdown",
   "metadata": {},
   "source": [
    "We see that with this particular shingle size, hyperparameter selection, and anomaly cutoff threshold that the shingled approach more clearly captures the major anomalous events: the spike at around t=6000 and the dips at around t=9000 and t=10000. In general, the number of trees, sample size, and anomaly score cutoff are all parameters that a data scientist may need experiment with in order to achieve desired results. The use of a labeled test dataset allows the used to obtain common accuracy metrics for anomaly detection algorithms. For more information about Amazon SageMaker Random Cut Forest see the [AWS Documentation](https://docs.aws.amazon.com/sagemaker/latest/dg/randomcutforest.html)."
   ]
  },
  {
   "cell_type": "code",
   "execution_count": 54,
   "metadata": {},
   "outputs": [
    {
     "name": "stderr",
     "output_type": "stream",
     "text": [
      "The endpoint attribute has been renamed in sagemaker>=2.\n",
      "See: https://sagemaker.readthedocs.io/en/stable/v2.html for details.\n"
     ]
    }
   ],
   "source": [
    "sagemaker.Session().delete_endpoint(rcf_inference.endpoint)"
   ]
  },
  {
   "cell_type": "code",
   "execution_count": null,
   "metadata": {},
   "outputs": [],
   "source": []
  }
 ],
 "metadata": {
  "celltoolbar": "Tags",
  "instance_type": "ml.t3.medium",
  "kernelspec": {
   "display_name": "conda_python3",
   "language": "python",
   "name": "conda_python3"
  },
  "language_info": {
   "codemirror_mode": {
    "name": "ipython",
    "version": 3
   },
   "file_extension": ".py",
   "mimetype": "text/x-python",
   "name": "python",
   "nbconvert_exporter": "python",
   "pygments_lexer": "ipython3",
   "version": "3.6.13"
  },
  "notice": "Copyright 2018 Amazon.com, Inc. or its affiliates. All Rights Reserved.  Licensed under the Apache License, Version 2.0 (the \"License\"). You may not use this file except in compliance with the License. A copy of the License is located at http://aws.amazon.com/apache2.0/ or in the \"license\" file accompanying this file. This file is distributed on an \"AS IS\" BASIS, WITHOUT WARRANTIES OR CONDITIONS OF ANY KIND, either express or implied. See the License for the specific language governing permissions and limitations under the License."
 },
 "nbformat": 4,
 "nbformat_minor": 4
}
